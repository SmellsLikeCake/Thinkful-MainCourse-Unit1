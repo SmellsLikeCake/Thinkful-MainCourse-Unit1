{
 "cells": [
  {
   "cell_type": "code",
   "execution_count": 1,
   "metadata": {},
   "outputs": [],
   "source": [
    "import pandas as pd\n",
    "import numpy as np\n",
    "import matplotlib.pyplot as plt\n",
    "import seaborn as sns\n",
    "import re\n",
    "%matplotlib inline"
   ]
  },
  {
   "cell_type": "code",
   "execution_count": 2,
   "metadata": {},
   "outputs": [],
   "source": [
    "wellcome = pd.read_csv(\"WELLCOME/WELLCOME_APCspend2013_forThinkful.csv\", encoding='latin-1')"
   ]
  },
  {
   "cell_type": "code",
   "execution_count": 3,
   "metadata": {},
   "outputs": [
    {
     "data": {
      "text/html": [
       "<div>\n",
       "<style scoped>\n",
       "    .dataframe tbody tr th:only-of-type {\n",
       "        vertical-align: middle;\n",
       "    }\n",
       "\n",
       "    .dataframe tbody tr th {\n",
       "        vertical-align: top;\n",
       "    }\n",
       "\n",
       "    .dataframe thead th {\n",
       "        text-align: right;\n",
       "    }\n",
       "</style>\n",
       "<table border=\"1\" class=\"dataframe\">\n",
       "  <thead>\n",
       "    <tr style=\"text-align: right;\">\n",
       "      <th></th>\n",
       "      <th>PMID/PMCID</th>\n",
       "      <th>Publisher</th>\n",
       "      <th>Journal title</th>\n",
       "      <th>Article title</th>\n",
       "      <th>COST (£) charged to Wellcome (inc VAT when charged)</th>\n",
       "    </tr>\n",
       "  </thead>\n",
       "  <tbody>\n",
       "    <tr>\n",
       "      <th>0</th>\n",
       "      <td>NaN</td>\n",
       "      <td>CUP</td>\n",
       "      <td>Psychological Medicine</td>\n",
       "      <td>Reduced parahippocampal cortical thickness in ...</td>\n",
       "      <td>£0.00</td>\n",
       "    </tr>\n",
       "    <tr>\n",
       "      <th>1</th>\n",
       "      <td>PMC3679557</td>\n",
       "      <td>ACS</td>\n",
       "      <td>Biomacromolecules</td>\n",
       "      <td>Structural characterization of a Model Gram-ne...</td>\n",
       "      <td>£2381.04</td>\n",
       "    </tr>\n",
       "    <tr>\n",
       "      <th>2</th>\n",
       "      <td>23043264  PMC3506128</td>\n",
       "      <td>ACS</td>\n",
       "      <td>J Med Chem</td>\n",
       "      <td>Fumaroylamino-4,5-epoxymorphinans and related ...</td>\n",
       "      <td>£642.56</td>\n",
       "    </tr>\n",
       "    <tr>\n",
       "      <th>3</th>\n",
       "      <td>23438330 PMC3646402</td>\n",
       "      <td>ACS</td>\n",
       "      <td>J Med Chem</td>\n",
       "      <td>Orvinols with mixed kappa/mu opioid receptor a...</td>\n",
       "      <td>£669.64</td>\n",
       "    </tr>\n",
       "    <tr>\n",
       "      <th>4</th>\n",
       "      <td>23438216 PMC3601604</td>\n",
       "      <td>ACS</td>\n",
       "      <td>J Org Chem</td>\n",
       "      <td>Regioselective opening of myo-inositol orthoes...</td>\n",
       "      <td>£685.88</td>\n",
       "    </tr>\n",
       "  </tbody>\n",
       "</table>\n",
       "</div>"
      ],
      "text/plain": [
       "              PMID/PMCID Publisher           Journal title  \\\n",
       "0                    NaN       CUP  Psychological Medicine   \n",
       "1             PMC3679557       ACS       Biomacromolecules   \n",
       "2  23043264  PMC3506128        ACS              J Med Chem   \n",
       "3    23438330 PMC3646402       ACS              J Med Chem   \n",
       "4   23438216 PMC3601604        ACS              J Org Chem   \n",
       "\n",
       "                                       Article title  \\\n",
       "0  Reduced parahippocampal cortical thickness in ...   \n",
       "1  Structural characterization of a Model Gram-ne...   \n",
       "2  Fumaroylamino-4,5-epoxymorphinans and related ...   \n",
       "3  Orvinols with mixed kappa/mu opioid receptor a...   \n",
       "4  Regioselective opening of myo-inositol orthoes...   \n",
       "\n",
       "  COST (£) charged to Wellcome (inc VAT when charged)  \n",
       "0                                              £0.00   \n",
       "1                                           £2381.04   \n",
       "2                                            £642.56   \n",
       "3                                            £669.64   \n",
       "4                                            £685.88   "
      ]
     },
     "execution_count": 3,
     "metadata": {},
     "output_type": "execute_result"
    }
   ],
   "source": [
    "wellcome.head()"
   ]
  },
  {
   "cell_type": "code",
   "execution_count": 4,
   "metadata": {},
   "outputs": [
    {
     "data": {
      "text/plain": [
       "Index(['PMID/PMCID', 'Publisher', 'Journal title', 'Article title',\n",
       "       'COST (£) charged to Wellcome (inc VAT when charged)'],\n",
       "      dtype='object')"
      ]
     },
     "execution_count": 4,
     "metadata": {},
     "output_type": "execute_result"
    }
   ],
   "source": [
    "wellcome.columns"
   ]
  },
  {
   "cell_type": "code",
   "execution_count": 5,
   "metadata": {},
   "outputs": [],
   "source": [
    "wellcome.columns = ['id', 'publisher', 'journal', 'article', 'cost']"
   ]
  },
  {
   "cell_type": "code",
   "execution_count": 6,
   "metadata": {},
   "outputs": [
    {
     "data": {
      "text/plain": [
       "Index(['id', 'publisher', 'journal', 'article', 'cost'], dtype='object')"
      ]
     },
     "execution_count": 6,
     "metadata": {},
     "output_type": "execute_result"
    }
   ],
   "source": [
    "wellcome.columns"
   ]
  },
  {
   "cell_type": "code",
   "execution_count": 7,
   "metadata": {},
   "outputs": [
    {
     "data": {
      "text/plain": [
       "array(['CUP', 'ACS', 'ACS (Amercian Chemical Society) Publications',\n",
       "       'ACS Publications', 'AGA Institute', 'AMBSB',\n",
       "       'American Association of Immunologists',\n",
       "       'American Chemical Society', 'AMERICAN CHEMICAL SOCIETY',\n",
       "       'American Chemical Society Publications',\n",
       "       'American College of Chest Physicians',\n",
       "       'American Physiological Society',\n",
       "       'American Psychiatric Association',\n",
       "       'American Psychiatric Publishing',\n",
       "       'American Psychological Association',\n",
       "       'American Psychological Association ',\n",
       "       'American Public Health Association',\n",
       "       'American Soc for Biochemistry and Molecular Biology',\n",
       "       'American Society for Biochemistry and Molecular Biolgy',\n",
       "       'American Society for Biochemistry and Molecular Biology',\n",
       "       'American Society for Biochemistry and Molecular Biology ',\n",
       "       'American Society for Investigative Pathology',\n",
       "       'American Society for Microbiology',\n",
       "       'American Society for Microbiology ',\n",
       "       'American Society for Microbiology \\n',\n",
       "       'American Society for Nutrition',\n",
       "       'American Society of Haematology',\n",
       "       'American Society of Hamatology', 'American Society of Hematology',\n",
       "       'American Society of Human Genetics (Elsevier)',\n",
       "       'American Society of Microbiology',\n",
       "       'American Speech-Language-Hearing Association', 'ASBMB',\n",
       "       'ASBMB Cadmus', 'ASBMB/Cadmus', 'ASBMB/Cenveo Publisher Services',\n",
       "       'ASBMC /CENVEO', 'ASM', 'ASM (American Society for Microbiology)',\n",
       "       'Association for Research in Vision & Ophthalmology',\n",
       "       'Bentham Science Publishers', 'Benthan Science Publishers',\n",
       "       'Berhahn Books', 'Biochem Journal', 'BioMed Central',\n",
       "       'BioMed central', 'Biomed Central', 'BioMed Central ',\n",
       "       'BioMed Central Limited', 'BioMed Central Ltd',\n",
       "       'Biophysical Society', 'BioScientifica', 'Bioscientifica',\n",
       "       'Blackwell Publishing Ltd/Wiley', 'BMC', 'BMJ', 'BMJ ',\n",
       "       'BMJ Group', 'BMJ group', 'BMJ Group ', 'BMJ Journals',\n",
       "       'BMJ Publishing Group', 'BMJ PUBLISHING GROUP',\n",
       "       'BMJ Publishing Group Ltd',\n",
       "       'BMJ Publishing Group Ltd & British Thoracic Society', 'Brill',\n",
       "       'British Medical Journal', 'Byophysical Society', 'Cadmus',\n",
       "       'Cadmus ', 'CADMUS JOURNAL SERVICE ', 'Cadmus Journal Services',\n",
       "       'CADMUS JOURNAL SERVICES', 'Cambridge Journals',\n",
       "       'Cambridge Uni Press', 'Cambridge Univ Press',\n",
       "       'Cambridge University Press', 'Camdus Journal Services',\n",
       "       'Cell Press', 'Cenveo Publisher services',\n",
       "       'Cenveo Publisher Services/ASM JV1', 'COACTION',\n",
       "       'Cold Spring Habour Press', 'Cold Spring Harbor',\n",
       "       'Cold Spring Harbor Laboratory Press', 'Cold Spring Harbor Press',\n",
       "       'Cold Spring Harbor Publications', 'Company of Biologist',\n",
       "       'Company of Biologists', 'Company of Biologists Ltd',\n",
       "       'Copyright Clearace Center', 'CSHLP', 'Darmouth Journal Services',\n",
       "       'Dartmouth Journal Services', 'Dartmouth Journal Services ',\n",
       "       'Dartmouth Journals', 'Elseveier Science', 'Elsevier', 'ELSEVIER',\n",
       "       'Elsevier ', 'Elsevier (Cell Press)', 'Elsevier / Cell Science',\n",
       "       'Elsevier B.V.', 'Elsevier Ltd', 'Elsevier/Cell Press',\n",
       "       'Endocrine Society', 'European Respiratory Society',\n",
       "       'European Society of Endocrinolog', 'FASEB',\n",
       "       'Federation of American Societies for Experimental Biology',\n",
       "       'Federation of American Societies for Experimental Biology (FASEB)',\n",
       "       'Federation of the American Society of Experimental Biology',\n",
       "       'Ferrata Storti Foundation', 'Frontiers', 'Frontiers Media',\n",
       "       'Frontiers Media SA', 'Frontiers Research Foundation',\n",
       "       'Future Medicine', 'Future Medicine Ltd', 'Future Science',\n",
       "       'Hindawi', 'Hindawi Publishing Corporation',\n",
       "       'Humana Press (Springer Imprint)', 'Impact Journals',\n",
       "       'Impact Journals LLC', 'Informa Healthcare',\n",
       "       'Informa Healthcare communications', 'Institute of Physics',\n",
       "       'International AIDS Society',\n",
       "       'International Union Against Tuberculosis and Lung Disease',\n",
       "       'International Union Against tuberculosis and Lung Disease',\n",
       "       'International Union of Crystallography',\n",
       "       'International Union of Crystallography ',\n",
       "       'International Union of Crystallography (iucr)', 'IOP Publishing',\n",
       "       'IOS Press', 'Ivyspring International Publisher',\n",
       "       'J Med Internet Research', 'John Wiley', 'JOHN WILEY & SONS',\n",
       "       'John Wiley & Sons', 'John Wiley & Sons Inc',\n",
       "       'John Wiley & Sons Ltd', 'John Wiley & Sons, Inc. ',\n",
       "       'John Wiley and Sons', 'John Wiley and Sons Ltd',\n",
       "       'Johns Hopkins University Press',\n",
       "       'Journal of the American Physiological Proceedings of National Academy of Sciences',\n",
       "       'Journal of Visualized Experiments', 'JoVE', 'JSciMed Central',\n",
       "       'KARGER', 'Karger', 'Landes Bioscience', 'Landes Biosciences',\n",
       "       'LWW', 'MacMillan', 'Mary Ann Liebert', 'MARY ANN LIEBERT INC',\n",
       "       'Mary Ann Liebert, Inc. Publishers', 'MDPI', 'MIT Press',\n",
       "       'MIT PRESS OPEN ACCESS', 'MY JOVE CORP', 'My JOVE corporation',\n",
       "       'MYJoVE Corporation', 'National Academy of Sciences',\n",
       "       'National Academy of Sciences ',\n",
       "       'National Academy of Sciences of the United States of America',\n",
       "       'National Academy of Sciences USA',\n",
       "       'National Academy of Sciences, USA', 'Nature', 'Nature ',\n",
       "       'Nature PG', 'Nature Publishing', 'Nature Publishing Group',\n",
       "       'Nature publishing group', 'Nature Publishing Group ',\n",
       "       'NATURE PUBLISHING GROUP LTD', 'NPG', 'Open Access Reg Ltd',\n",
       "       'Optical Society of America', 'OUP', 'Oxford Journals',\n",
       "       'Oxford Journals (OUP)', 'Oxford Univ Press',\n",
       "       'Oxford University Press', 'OXFORD UNIVERSITY PRESS',\n",
       "       'Oxford University Press ', 'Oxford University Press (OUP)',\n",
       "       'Oxford University Press\\n', 'Oxford Univesity Press',\n",
       "       'Palgrave MacMillan ', 'Pion', 'PLOS', 'PLoS', 'Plos',\n",
       "       'PLoS (Public Library of Science)',\n",
       "       'PLoS Public Library of Science', 'PNAS',\n",
       "       'PNAS Author Publication', 'Policy Press', 'Portland Press',\n",
       "       'Portland press', 'PORTLAND PRESS LTD', 'Portland Press Ltd',\n",
       "       'Proceedings of the National Academy of Sciences (PNAS)',\n",
       "       'Public Library of Science', 'public.service.co.uk',\n",
       "       'Publisher Society for Endocrinology', 'PubMed', 'PubMed Central',\n",
       "       'Research Media Ltd', 'Royal College of Psychiatrists',\n",
       "       'Royal Society', 'Royal Society for Chemistry',\n",
       "       'Royal Society of Chemistry', 'RSC', 'RSC Publishing', 'SAGE',\n",
       "       'Sage', 'Sage Publications', 'SAGE Publications',\n",
       "       'Sage Publications Inc', 'Sage Publications Ltd',\n",
       "       'Sage Publishers', 'Sage Publishing', 'Sciedu Press',\n",
       "       'Scientific Research Publishing', 'Sheridan Press',\n",
       "       'Society for Endocrinology', 'Society for General Microbiology',\n",
       "       'Society for Genermal Microbiology',\n",
       "       'Society for Leukocyte Biology', 'Society for Neuroscience',\n",
       "       'Society for Neurosciences',\n",
       "       'Society for Publication of Acta Dermato-Venereologica',\n",
       "       'Society of General Microbiology', 'Society of Leukocyte Biology',\n",
       "       'SOCIETY OF NEURO SCIENCES', 'Society of Neuroscience', 'Springer',\n",
       "       'Springer ', 'Springer - Verlag GMBH',\n",
       "       'Springer Science + Business Media', 'Springer Verlag',\n",
       "       'Springer-Veriag GmbH ', 'SPRINGER-VERLAG GMBH',\n",
       "       'Springer-Verlag GmbH', 'Springer-Verlag GMBH & Ci',\n",
       "       'Springer-Verlag GmbH, Heidelberger Platz 3, D-14197 Berlin',\n",
       "       'T&F', 'Taylor & Francis', 'Taylor & Francis Journals ',\n",
       "       'Taylor and Francis', 'Taylor and Francis ',\n",
       "       'The American Chemical Society Petroleum Research Trust',\n",
       "       'The American Physiological Society',\n",
       "       'The American Society for Biochemistry and Molecular Biology',\n",
       "       'The American Society for Biochemistry and Molecular Biology, Inc',\n",
       "       'The American Society of Pediatrics', 'The Boulevard',\n",
       "       'The company of Biolgists', 'THE COMPANY OF BIOLOGISTS',\n",
       "       'The company of Biologists', 'The Company of Biologists',\n",
       "       'The Company of Biologists Ltd', 'The Endocrine Socety',\n",
       "       'The Endocrine Society', 'THE ENDOCRINE SOCIETY',\n",
       "       'The Endrocrine Society', 'The Journal of Visualized Experiments',\n",
       "       'The Royal College of Psychiatrists', 'The Royal Society',\n",
       "       'The royal Society', 'The Sheridan Press', 'The Sheridan Press ',\n",
       "       'Transcript Verlag', 'University of the Basque Country Press',\n",
       "       'Wiley', 'Wiley ', 'Wiley & Son', 'Wiley Blackwell',\n",
       "       'Wiley Online Library', 'Wiley Subscription Services',\n",
       "       'Wiley Subscription Services  Inc.',\n",
       "       'Wiley Subscription Services Inc',\n",
       "       'Wiley Subscription Serviices Inc', 'Wiley VCH', 'Wiley/Blackwell',\n",
       "       'Wiley-Blackwell', 'Wiley-Blackwell, John Wiley & Sons',\n",
       "       'Wiley-VCH', 'Wliey-Blackwell', 'Wolters Kluwer',\n",
       "       'Wolters Kluwer Health', 'Wolters Kluwer Health ',\n",
       "       'Wolters Kluwer N.V./Lippinott', 'Wolters Kluwers'], dtype=object)"
      ]
     },
     "execution_count": 7,
     "metadata": {},
     "output_type": "execute_result"
    }
   ],
   "source": [
    "wellcome.publisher.unique()"
   ]
  },
  {
   "cell_type": "code",
   "execution_count": 8,
   "metadata": {},
   "outputs": [],
   "source": [
    "wellcome.publisher = wellcome.publisher.str.strip()"
   ]
  },
  {
   "cell_type": "code",
   "execution_count": 9,
   "metadata": {},
   "outputs": [
    {
     "data": {
      "text/plain": [
       "array(['CUP', 'ACS', 'ACS (Amercian Chemical Society) Publications',\n",
       "       'ACS Publications', 'AGA Institute', 'AMBSB',\n",
       "       'American Association of Immunologists',\n",
       "       'American Chemical Society', 'AMERICAN CHEMICAL SOCIETY',\n",
       "       'American Chemical Society Publications',\n",
       "       'American College of Chest Physicians',\n",
       "       'American Physiological Society',\n",
       "       'American Psychiatric Association',\n",
       "       'American Psychiatric Publishing',\n",
       "       'American Psychological Association',\n",
       "       'American Public Health Association',\n",
       "       'American Soc for Biochemistry and Molecular Biology',\n",
       "       'American Society for Biochemistry and Molecular Biolgy',\n",
       "       'American Society for Biochemistry and Molecular Biology',\n",
       "       'American Society for Investigative Pathology',\n",
       "       'American Society for Microbiology',\n",
       "       'American Society for Nutrition',\n",
       "       'American Society of Haematology',\n",
       "       'American Society of Hamatology', 'American Society of Hematology',\n",
       "       'American Society of Human Genetics (Elsevier)',\n",
       "       'American Society of Microbiology',\n",
       "       'American Speech-Language-Hearing Association', 'ASBMB',\n",
       "       'ASBMB Cadmus', 'ASBMB/Cadmus', 'ASBMB/Cenveo Publisher Services',\n",
       "       'ASBMC /CENVEO', 'ASM', 'ASM (American Society for Microbiology)',\n",
       "       'Association for Research in Vision & Ophthalmology',\n",
       "       'Bentham Science Publishers', 'Benthan Science Publishers',\n",
       "       'Berhahn Books', 'Biochem Journal', 'BioMed Central',\n",
       "       'BioMed central', 'Biomed Central', 'BioMed Central Limited',\n",
       "       'BioMed Central Ltd', 'Biophysical Society', 'BioScientifica',\n",
       "       'Bioscientifica', 'Blackwell Publishing Ltd/Wiley', 'BMC', 'BMJ',\n",
       "       'BMJ Group', 'BMJ group', 'BMJ Journals', 'BMJ Publishing Group',\n",
       "       'BMJ PUBLISHING GROUP', 'BMJ Publishing Group Ltd',\n",
       "       'BMJ Publishing Group Ltd & British Thoracic Society', 'Brill',\n",
       "       'British Medical Journal', 'Byophysical Society', 'Cadmus',\n",
       "       'CADMUS JOURNAL SERVICE', 'Cadmus Journal Services',\n",
       "       'CADMUS JOURNAL SERVICES', 'Cambridge Journals',\n",
       "       'Cambridge Uni Press', 'Cambridge Univ Press',\n",
       "       'Cambridge University Press', 'Camdus Journal Services',\n",
       "       'Cell Press', 'Cenveo Publisher services',\n",
       "       'Cenveo Publisher Services/ASM JV1', 'COACTION',\n",
       "       'Cold Spring Habour Press', 'Cold Spring Harbor',\n",
       "       'Cold Spring Harbor Laboratory Press', 'Cold Spring Harbor Press',\n",
       "       'Cold Spring Harbor Publications', 'Company of Biologist',\n",
       "       'Company of Biologists', 'Company of Biologists Ltd',\n",
       "       'Copyright Clearace Center', 'CSHLP', 'Darmouth Journal Services',\n",
       "       'Dartmouth Journal Services', 'Dartmouth Journals',\n",
       "       'Elseveier Science', 'Elsevier', 'ELSEVIER',\n",
       "       'Elsevier (Cell Press)', 'Elsevier / Cell Science',\n",
       "       'Elsevier B.V.', 'Elsevier Ltd', 'Elsevier/Cell Press',\n",
       "       'Endocrine Society', 'European Respiratory Society',\n",
       "       'European Society of Endocrinolog', 'FASEB',\n",
       "       'Federation of American Societies for Experimental Biology',\n",
       "       'Federation of American Societies for Experimental Biology (FASEB)',\n",
       "       'Federation of the American Society of Experimental Biology',\n",
       "       'Ferrata Storti Foundation', 'Frontiers', 'Frontiers Media',\n",
       "       'Frontiers Media SA', 'Frontiers Research Foundation',\n",
       "       'Future Medicine', 'Future Medicine Ltd', 'Future Science',\n",
       "       'Hindawi', 'Hindawi Publishing Corporation',\n",
       "       'Humana Press (Springer Imprint)', 'Impact Journals',\n",
       "       'Impact Journals LLC', 'Informa Healthcare',\n",
       "       'Informa Healthcare communications', 'Institute of Physics',\n",
       "       'International AIDS Society',\n",
       "       'International Union Against Tuberculosis and Lung Disease',\n",
       "       'International Union Against tuberculosis and Lung Disease',\n",
       "       'International Union of Crystallography',\n",
       "       'International Union of Crystallography (iucr)', 'IOP Publishing',\n",
       "       'IOS Press', 'Ivyspring International Publisher',\n",
       "       'J Med Internet Research', 'John Wiley', 'JOHN WILEY & SONS',\n",
       "       'John Wiley & Sons', 'John Wiley & Sons Inc',\n",
       "       'John Wiley & Sons Ltd', 'John Wiley & Sons, Inc.',\n",
       "       'John Wiley and Sons', 'John Wiley and Sons Ltd',\n",
       "       'Johns Hopkins University Press',\n",
       "       'Journal of the American Physiological Proceedings of National Academy of Sciences',\n",
       "       'Journal of Visualized Experiments', 'JoVE', 'JSciMed Central',\n",
       "       'KARGER', 'Karger', 'Landes Bioscience', 'Landes Biosciences',\n",
       "       'LWW', 'MacMillan', 'Mary Ann Liebert', 'MARY ANN LIEBERT INC',\n",
       "       'Mary Ann Liebert, Inc. Publishers', 'MDPI', 'MIT Press',\n",
       "       'MIT PRESS OPEN ACCESS', 'MY JOVE CORP', 'My JOVE corporation',\n",
       "       'MYJoVE Corporation', 'National Academy of Sciences',\n",
       "       'National Academy of Sciences of the United States of America',\n",
       "       'National Academy of Sciences USA',\n",
       "       'National Academy of Sciences, USA', 'Nature', 'Nature PG',\n",
       "       'Nature Publishing', 'Nature Publishing Group',\n",
       "       'Nature publishing group', 'NATURE PUBLISHING GROUP LTD', 'NPG',\n",
       "       'Open Access Reg Ltd', 'Optical Society of America', 'OUP',\n",
       "       'Oxford Journals', 'Oxford Journals (OUP)', 'Oxford Univ Press',\n",
       "       'Oxford University Press', 'OXFORD UNIVERSITY PRESS',\n",
       "       'Oxford University Press (OUP)', 'Oxford Univesity Press',\n",
       "       'Palgrave MacMillan', 'Pion', 'PLOS', 'PLoS', 'Plos',\n",
       "       'PLoS (Public Library of Science)',\n",
       "       'PLoS Public Library of Science', 'PNAS',\n",
       "       'PNAS Author Publication', 'Policy Press', 'Portland Press',\n",
       "       'Portland press', 'PORTLAND PRESS LTD', 'Portland Press Ltd',\n",
       "       'Proceedings of the National Academy of Sciences (PNAS)',\n",
       "       'Public Library of Science', 'public.service.co.uk',\n",
       "       'Publisher Society for Endocrinology', 'PubMed', 'PubMed Central',\n",
       "       'Research Media Ltd', 'Royal College of Psychiatrists',\n",
       "       'Royal Society', 'Royal Society for Chemistry',\n",
       "       'Royal Society of Chemistry', 'RSC', 'RSC Publishing', 'SAGE',\n",
       "       'Sage', 'Sage Publications', 'SAGE Publications',\n",
       "       'Sage Publications Inc', 'Sage Publications Ltd',\n",
       "       'Sage Publishers', 'Sage Publishing', 'Sciedu Press',\n",
       "       'Scientific Research Publishing', 'Sheridan Press',\n",
       "       'Society for Endocrinology', 'Society for General Microbiology',\n",
       "       'Society for Genermal Microbiology',\n",
       "       'Society for Leukocyte Biology', 'Society for Neuroscience',\n",
       "       'Society for Neurosciences',\n",
       "       'Society for Publication of Acta Dermato-Venereologica',\n",
       "       'Society of General Microbiology', 'Society of Leukocyte Biology',\n",
       "       'SOCIETY OF NEURO SCIENCES', 'Society of Neuroscience', 'Springer',\n",
       "       'Springer - Verlag GMBH', 'Springer Science + Business Media',\n",
       "       'Springer Verlag', 'Springer-Veriag GmbH', 'SPRINGER-VERLAG GMBH',\n",
       "       'Springer-Verlag GmbH', 'Springer-Verlag GMBH & Ci',\n",
       "       'Springer-Verlag GmbH, Heidelberger Platz 3, D-14197 Berlin',\n",
       "       'T&F', 'Taylor & Francis', 'Taylor & Francis Journals',\n",
       "       'Taylor and Francis',\n",
       "       'The American Chemical Society Petroleum Research Trust',\n",
       "       'The American Physiological Society',\n",
       "       'The American Society for Biochemistry and Molecular Biology',\n",
       "       'The American Society for Biochemistry and Molecular Biology, Inc',\n",
       "       'The American Society of Pediatrics', 'The Boulevard',\n",
       "       'The company of Biolgists', 'THE COMPANY OF BIOLOGISTS',\n",
       "       'The company of Biologists', 'The Company of Biologists',\n",
       "       'The Company of Biologists Ltd', 'The Endocrine Socety',\n",
       "       'The Endocrine Society', 'THE ENDOCRINE SOCIETY',\n",
       "       'The Endrocrine Society', 'The Journal of Visualized Experiments',\n",
       "       'The Royal College of Psychiatrists', 'The Royal Society',\n",
       "       'The royal Society', 'The Sheridan Press', 'Transcript Verlag',\n",
       "       'University of the Basque Country Press', 'Wiley', 'Wiley & Son',\n",
       "       'Wiley Blackwell', 'Wiley Online Library',\n",
       "       'Wiley Subscription Services', 'Wiley Subscription Services  Inc.',\n",
       "       'Wiley Subscription Services Inc',\n",
       "       'Wiley Subscription Serviices Inc', 'Wiley VCH', 'Wiley/Blackwell',\n",
       "       'Wiley-Blackwell', 'Wiley-Blackwell, John Wiley & Sons',\n",
       "       'Wiley-VCH', 'Wliey-Blackwell', 'Wolters Kluwer',\n",
       "       'Wolters Kluwer Health', 'Wolters Kluwer N.V./Lippinott',\n",
       "       'Wolters Kluwers'], dtype=object)"
      ]
     },
     "execution_count": 9,
     "metadata": {},
     "output_type": "execute_result"
    }
   ],
   "source": [
    "wellcome.publisher.unique()"
   ]
  },
  {
   "cell_type": "code",
   "execution_count": 10,
   "metadata": {},
   "outputs": [],
   "source": [
    "wellcome.journal = wellcome.journal.str.strip()"
   ]
  },
  {
   "cell_type": "code",
   "execution_count": 11,
   "metadata": {},
   "outputs": [
    {
     "data": {
      "text/plain": [
       "array(['Psychological Medicine', 'Biomacromolecules', 'J Med Chem',\n",
       "       'J Org Chem', 'Journal of Medicinal Chemistry',\n",
       "       'Journal of Proteome Research', 'Mol Pharm',\n",
       "       'ACS Chemical Biology',\n",
       "       'Journal of Chemical Information and Modeling', 'Biochemistry',\n",
       "       'Gastroenterology', 'Journal of Biological Chemistry',\n",
       "       'Journal of Immunology', 'ACS Chemical Neuroscience', 'ACS NANO',\n",
       "       'American Chemical Society', 'Analytical Chemistry',\n",
       "       'Bioconjugate Chemistry',\n",
       "       'Journal of the American Chemical Society', 'ACS Nano', 'CHEST',\n",
       "       'Journal of Neurophysiology', 'Journal of Physiology',\n",
       "       'The Journal of Neurophysiology', 'American Journal of Psychiatry',\n",
       "       'Americal Journal of Psychiatry', 'Behavioral Neuroscience',\n",
       "       'Emotion', 'Health Psychology', 'Journal of Abnormal Psychology',\n",
       "       'Journal of Consulting and Clinical Psychology',\n",
       "       'Journal of Experimental Psychology:  Animal Behaviour Process',\n",
       "       'Journal of Experimental Psychology: Human Perception and Performance',\n",
       "       'Journal of Family Psychology', 'Psychological Assessment',\n",
       "       'Psychological Review',\n",
       "       'Psychological Trauma: Theory research, practice and policy',\n",
       "       'American Journal of Public Health', 'J Biol Chem.',\n",
       "       'JOURNAL OF BIOLOGICAL CHEMISTRY',\n",
       "       'The Journal of Biological Chemistry',\n",
       "       'American Journal of Pathology',\n",
       "       'Antimicrobial Agents and Chemotherapy',\n",
       "       'Antimicrobial Agfents and Chemotherapy',\n",
       "       'Clinical and Vaccine Immunology', 'Eukaryotic Cell',\n",
       "       'Infection and Immunity', 'Journal of Bacteriology',\n",
       "       'Journal of Virology', 'Mbio', 'Molecular and Cellular Biology',\n",
       "       'Journal of Clinical Microbiology',\n",
       "       'American Society for Nutrition', 'Blood', 'Blood Journal 2012',\n",
       "       'THE AMERICAN JOURNAL OF HUMAN GENETICS',\n",
       "       'Jounral of Clinical Microbiology',\n",
       "       'Speech Language and Hearing Research', 'BIOLOGICAL CHEMISTRY',\n",
       "       'Biologicial Chemistry', 'J Biol Chemistry',\n",
       "       'Journal of biological chemistry',\n",
       "       'MCP (Molecular & Cellular Proteomics)',\n",
       "       'Molecular and Cellular Proteomics',\n",
       "       'The journal of Biological Chemistry', 'Jnl Biological Chemistry',\n",
       "       'Journal Biological Chemistry', 'Journal of Biol Chem',\n",
       "       'Journal of Vision', 'Current Topics in Medicinal Chemistry',\n",
       "       'Current Analytical Chemistry',\n",
       "       'Evidence, Ethos and Experiment: The Anthropology and History of Medical Research in Africa.',\n",
       "       'Biochem Journal', 'Molecular Cell',\n",
       "       'Arthritis Research & Therapy', 'BioMed Central',\n",
       "       'BMC  Public Health', 'BMC Biology', 'BMC Genetics',\n",
       "       'BMC Genome Biology', 'BMC Genomics',\n",
       "       'BMC Health Services Research', 'BMC Medical Genetics',\n",
       "       'BMC Medicine', 'BMC Microbiology', 'BMC Molecular Biology',\n",
       "       'BMC Neurology', 'BMC Neuroscience', 'BMC Psychiatry',\n",
       "       'BMC Public Health', 'BMC Research Notes',\n",
       "       'BMC Veterinary Research', 'BMS Genomics', 'Clinical Proteomics',\n",
       "       'EvoDevo', 'Genome Biology', 'Genome Medicine',\n",
       "       'International Journal for Equity in Health',\n",
       "       'International Journal of Behavioral Nutrition and Physical Activity',\n",
       "       'International Journal of Behavioural Nutrition and Physical Activity',\n",
       "       'International Journal of Health Geographics',\n",
       "       'Journal of Cheminformatics', 'Journal of Neuroinflammation',\n",
       "       'Lipids in Health and Disease', 'Malaria Journal',\n",
       "       'Molecular Brain', 'Molecular Pain', 'Nutrition Journal',\n",
       "       'Orphanet Journal of Rare Diseases', 'Parasites and Vectors',\n",
       "       'Public Health', 'Respiratory Research', 'Virology Journal',\n",
       "       'BMC Genomics.', 'BMC Infectious Diseases', 'Hum Resour Health',\n",
       "       'Implement Sci.', 'Parasit Vectors.', 'RESPIRATORY RESEARCH',\n",
       "       'AIDS Research and Therapy', 'BMC Pediatrics',\n",
       "       'Human Resources for Health', 'Trials', 'BMC Infectious diseases',\n",
       "       'Veterinary Research', 'Biophysical Journal',\n",
       "       'European Journal of Endocrinology', 'Journal of Endocrinology',\n",
       "       'Journal of Molecular Endocrinology',\n",
       "       'Journal of molecular Endocrinology',\n",
       "       'Reproduction(Cambridge, England)', 'Cellular Microbiology',\n",
       "       'Arthritis Research and Therapy', 'BMC Medical Ethics',\n",
       "       'BMC Medical Imaging',\n",
       "       'Cost Effectiveness and Resource Allocation', 'BJOPHTHALMOL',\n",
       "       'BMJ', 'BMJ Open', 'British Journal of Ophthalmology',\n",
       "       'British Journal of Opthalmology', 'British Medical Journal',\n",
       "       'Frontline Gastroenterology', 'Journal of Clinical Pathology',\n",
       "       'Journal of Epidemiology & Community Health',\n",
       "       'Journal of Medical Ethics', 'Journal of Medical Genetics',\n",
       "       'Journal of Neurology, Neurosurgery & Psychiatry',\n",
       "       'Journal of Neurology, Neurosurgery and Psychiatry',\n",
       "       'Sexually Transmitted Infections', 'Gut',\n",
       "       'Archives of Disease in Childhood', 'BMJ OPEN',\n",
       "       'BMJ QUALITY AND SAFETY', 'Heart', 'Medical Humanities', 'Thorax',\n",
       "       'Sex Transm Infect.', 'BMJ open',\n",
       "       'Journal of Epidemiology and Community Health',\n",
       "       'Postgraduate Medical Journal', 'Veterinary Record',\n",
       "       'THORAX an international journal for Respiratory Medicine',\n",
       "       'European Journal of Health Law', 'Journal of Neuroscience',\n",
       "       'Heart and Circulatory Physiology',\n",
       "       'Antimicobial Agents and Chemotherapy', 'J Clin Microbiol',\n",
       "       'JOURNAL OF BACTERIOLOGY', 'mBio',\n",
       "       'International Psychogeriatrics', 'Parasitology',\n",
       "       'Medical History', 'Ageing & Society',\n",
       "       'British Journal for the History of Science',\n",
       "       'British Journal of the History of Science',\n",
       "       'Epidemiology and Infection',\n",
       "       'Expert Reviews in Molecular Medicine',\n",
       "       'International Journal of Law in Context',\n",
       "       'Jnl of the International Neuropsychological Society',\n",
       "       'Public Health Nutrition', 'Pyschological Medicine',\n",
       "       'Urban History', 'Visual Neuroscience',\n",
       "       'American Journal of Human Genetics', 'Stem Cell Reports',\n",
       "       'Journal of Clinical Endocrinology and Metabolism',\n",
       "       'Journal of Virol', 'Journal of the International AIDS Society',\n",
       "       'Genes & Development', 'Learning and Memory', 'Genome Research',\n",
       "       'RNA', 'Journal of Cell Science', 'Biology Open', 'Development',\n",
       "       'Developmental Cell', 'Disease Models and Mechanisms',\n",
       "       'J Cell Sci.', 'International Reviews of Immunology',\n",
       "       'Journal of the International African Institute', 'Cell Reports',\n",
       "       'American Journal for Clinical Nutrition',\n",
       "       'American Journal of Clinical Nutrition',\n",
       "       'Cell Press - Cell Reports', 'G3: Genes, Genomes, Genetics',\n",
       "       'GENETICS', 'Genetics', 'J Immunol',\n",
       "       'Proceedings of the National Academy of Sciences',\n",
       "       'The Journal of Immunology', 'Journal of Nutrition', 'PNAS',\n",
       "       'Neuroimage', 'Academy of Nutrition and Dietetics',\n",
       "       'American Journal of Geriatric Psychiatry',\n",
       "       'American Journal of Preventive Medicine',\n",
       "       'Analytical Biochemistry', 'Animal Behaviour', 'Applied Energy',\n",
       "       'Asian Journal of Psychiatry', 'Atherosclerosis',\n",
       "       'BBA - Molecular Basis of Disease',\n",
       "       'Behavior Research and Therapy', 'Behaviour Research and Therapy',\n",
       "       'Behavioural Brain Research',\n",
       "       'Biochemical and Biophysical Research Communications',\n",
       "       'Biochemical Pharmacology',\n",
       "       'Biochimica et Bioohysica Acta - Gene Regulatory Mechanisms',\n",
       "       'Biochimica et Bioohysica Acta - Molecular Basis of Disease',\n",
       "       'Biochimica et Biophysica Acta - Molecular Basis of Disease',\n",
       "       'Biochimica et Biophysica Acta (BBA) - Molecular Cell Research',\n",
       "       'Biochimie', 'Biological Psychiatry', 'BIOLOGICAL PSYCHOLOGY',\n",
       "       'Biomaterials', 'Biosystems', 'Bone', 'Brain and Cognition',\n",
       "       'Brain and Language', 'Brain Research', 'Cancer Letters', 'Cell',\n",
       "       'Cell Calcium', 'Cell Host and Microbe', 'Cell Journal',\n",
       "       'Cell Metabolism', 'Cell Stem Cell', 'Cellular Signalling',\n",
       "       'Chemsitry & Biology', 'Clinical Neurology and Neurosurgery',\n",
       "       'Clinical Radiology', 'Cognition', 'Cognitive Development',\n",
       "       'Consciousness & Cognition', 'Consciousness and Cognition',\n",
       "       'Cortex', 'Current Biology', 'CURRENT BIOLOGY',\n",
       "       'Current Opinion in Neurobiology', 'Current Opinion Microbiology',\n",
       "       'Current Opinions in Neurobiology', 'DEVELOPMENT CELL',\n",
       "       'Developmental Biology', 'Developmental Cognitive Neuroscience',\n",
       "       'Diagnostic Microbiology and Infectious Disease', 'Elsevier',\n",
       "       'Endeavour', 'Epilepsy Research',\n",
       "       'European Journal of cell Biology',\n",
       "       'European Journal of Medical Genetics',\n",
       "       'European Neuropsychopharmacology', 'Experimental Cell Research',\n",
       "       'Experimental Eye Research', 'Experimental Hematology',\n",
       "       'Experimental Neurology', 'Experimental Parasitology',\n",
       "       'FEBS Letters', 'Febs Letters', 'FEBS Open Bio',\n",
       "       'Fertility and Sterility', 'Free Radical and Biology Medicine',\n",
       "       'Fungal Biology', 'Fungal Ecology', 'Gene', 'GENE', 'Gene Therapy',\n",
       "       'Health & Place', 'Health and Place', 'Immnunobiology', 'Immunity',\n",
       "       'Immunology Letters', 'Infection Genetics and Evolution',\n",
       "       'Int Journal for Parasitology', 'International Health',\n",
       "       'International Journal for Parasitology',\n",
       "       'International journal of applied earth observation and geoinformation',\n",
       "       'International Journal of Biochemistry & Cell Biology',\n",
       "       'International Journal of Cardiology',\n",
       "       'International Journal of Parasitology', 'J Mol Biol',\n",
       "       'J Steroid Biochem Mol Biol', 'Journal of Affective Disorders',\n",
       "       'JOURNAL OF ALLERGY & CLINICAL IMMUNOLOGY',\n",
       "       'Journal of Allergy and Clinical Immunology',\n",
       "       'Journal of allergy and clinical immunology',\n",
       "       'Journal of Anthropological Archaeology',\n",
       "       'Journal of Archaeological Science',\n",
       "       'Journal of Behavior Therapy and Experimental Psychiatry',\n",
       "       'Journal of Behaviour therapy and Experimental Psychiatry',\n",
       "       'Journal of Clinical Epidemiology', 'Journal of Clinical Virology',\n",
       "       'Journal of cycstic fibrosis', 'Journal of Hepatology',\n",
       "       'Journal of Historical Geography',\n",
       "       'Journal of Hospital Infections', 'Journal of Infection',\n",
       "       'Journal of Mechanisms of Ageing and Development',\n",
       "       'Journal of Molecular Biology', 'Journal of Neuroscience Methods',\n",
       "       'Journal of Nutrition Education and Behaviour',\n",
       "       'Journal of paediatric Urology', 'Journal of Proteomics',\n",
       "       'Journal of Structural Biology',\n",
       "       'Journal of the American Academy of Child and Adolescent Psychiatry',\n",
       "       'Journal of the American College of Cardiology',\n",
       "       'Journal of the Neurological Sciences',\n",
       "       'Journal of Transport Geography', 'Journal of Virological Methods',\n",
       "       'Lancet', 'Lancet Global Health',\n",
       "       'Learning and Individual Differences', 'Matrix Biology',\n",
       "       'Maturitas', 'Mechanisms of Ageing and Development',\n",
       "       'Microbes and Infection', 'Microbes Infect', 'Mol Bio',\n",
       "       'Molecluar & Cellular Endocrinology',\n",
       "       'Molecular & Biochemical Parasitology',\n",
       "       'Molecular and Cellular Endocrinology', 'MOLECULAR BIOLOGY',\n",
       "       'Molecular Genetics and Metabolism', 'Molecular Immunology',\n",
       "       'Molecular Phylogenetics and Evolution', 'N Biotechnol.',\n",
       "       'Neurobiology of Aging', 'Neurobiology of Disease',\n",
       "       'Neurobiology of Learning and Memory',\n",
       "       'Neurochemistry International', 'NeuroImage',\n",
       "       'Neuroimage: Clinical', 'Neuroimage: clinical',\n",
       "       'NeuroImage: Clinical', 'Neurolmage', 'Neuromuscular Disorders',\n",
       "       'Neuron', 'Neuropharmacology', 'Neurophysiologia',\n",
       "       'Neuropsychologia', 'Neuroscience',\n",
       "       'Neuroscience and Behavioural Reviews', 'Neuroscience Letters',\n",
       "       'Nitric Oxide', 'Ophthalmology', 'Osteoarthritis and Cartilage',\n",
       "       'Pain', 'Parkinsonism and Related Disorders', 'Parsitology',\n",
       "       'Personality and Individual Differences', 'Preventive Medicine',\n",
       "       'Protein Expr Purif.', 'Protist',\n",
       "       'Pulmonary Pharmacology & Therapeutics',\n",
       "       'RESEARCH IN VETERINARY SCIENCE', 'Schizophrenia Research',\n",
       "       'Seizure', 'Seminars in Oncology', 'Social Science & Medicine',\n",
       "       'Social Science and Medicine', 'Stem Cell Research', 'Structure',\n",
       "       'Studies in History and Philosophy of Science Part C',\n",
       "       'Studies in History and Philosophy of Science Part C: Studies in History and Philosophy of Biological and Biomedical Sciences',\n",
       "       'Tetrahedron Letters', 'The Americal Journal of Human Genetics',\n",
       "       'The American Journal of Human Genetics',\n",
       "       'The International Journal of Biochemistry & Cell Biology',\n",
       "       'The Journal of Steroid Biochemistry & Molecular Biology',\n",
       "       'The Lancet', 'The Lancet Neurology', 'The Vet. Journal',\n",
       "       'Ticks and Tick-borne Diseases',\n",
       "       'Transactions of the Royal Society of Tropical Medicine and Hygiene',\n",
       "       'Trends in Cognitive Science', 'Trends in Genetics',\n",
       "       'Trends in Microbiology', 'Trends in Molecular Medicine',\n",
       "       'Trends in Neuroscience', 'Trends in Neurosciences',\n",
       "       'Trends in Parasitology', 'Tuberculosis', 'Vaccine',\n",
       "       'Vascular Pharmacology', 'Veterinary Microbiology',\n",
       "       'Veterinary Parasitology', 'Virology', 'Virus Research',\n",
       "       'Vision Research', 'Lancet Infect Dis', 'Math Biosci', 'STRUCTURE',\n",
       "       'Curr Biol.', 'Cell Host & Microbe', 'Endocrinology',\n",
       "       'Molecular Endocrinology', 'European Respiratory Journal',\n",
       "       'FASEB Journal', 'Journal of Leukocyte Biology',\n",
       "       'The FASEB Journal', 'Haematologica',\n",
       "       'Haematologica/The Haematology Journal',\n",
       "       'Frontiers in Auditory Cognitive Neuroscience',\n",
       "       'Frontiers in Behavioral Neuroscience',\n",
       "       'Frontiers in Brain Imaging Methods',\n",
       "       'Frontiers in Cellular Neuroscience', 'Frontiers in Cognition',\n",
       "       'Frontiers in Cognitive Science',\n",
       "       'Frontiers in Decision Neuroscience',\n",
       "       'Frontiers in Developmental Psychology',\n",
       "       'Frontiers in Electrophysiology', 'Frontiers in Endocrinology',\n",
       "       'Frontiers in Genetics', 'Frontiers in Human Neuroscience',\n",
       "       'Frontiers in Immunological Memory', 'Frontiers in Inflammation',\n",
       "       'Frontiers in Invertebrate Physiology',\n",
       "       'Frontiers in Molecular Neuroscience',\n",
       "       'Frontiers in Schizophrenia', 'Frontiers in Systems Neuroscience',\n",
       "       'Frontiers in Integrative Neuroscience',\n",
       "       'Frontiers in Perception Science',\n",
       "       'Frontiers in Consciousness Research', 'Frontiers in Immunology',\n",
       "       'Frontiers in Neural Circuits', 'Frontiers in Neurorobotics',\n",
       "       'Frontiers in T Cell Biology', 'Future Neurology',\n",
       "       'Future Virology', 'Future Microbiology',\n",
       "       'Future Medicinal Chemistry',\n",
       "       'International Journal of Rheumatology', 'JOURNAL OF ALLERGY',\n",
       "       'Journal of Parasitology Research',\n",
       "       'OXIDATIVE MEDICINE & CELLULAR LONGEVITY',\n",
       "       'Methods in Molecular Biology', 'Oncotarget',\n",
       "       'Molecular Membrane Biology',\n",
       "       'Expert Reviews in Anti-infective Chemotherapy', 'Nanotechnology',\n",
       "       'IJTLD', 'International Journal of Tuberculosis  and Lung Disease',\n",
       "       'Acta Crystallographica Section D: Biological Crystallography',\n",
       "       'Acta Crystallographica, Section D', 'Acta Crystallography D',\n",
       "       'Acta D', 'ACTA F', 'J Synchrotron Radiat.',\n",
       "       'Journal of Applied Crystallography',\n",
       "       'Acta Crystallographica Section D,  Biological Crystallography',\n",
       "       'Acta Crystallographica Section F: Structural Biology and Crystallization Communications',\n",
       "       'Physics in Biology and Medicine', 'Journal of Alzheimer Disease',\n",
       "       'Theranostics', 'J Med Internet Research',\n",
       "       'American Journal of Medical Genetics', 'Genetic Epidemiology',\n",
       "       'The Journal of Pathology', 'European Journal of Immunology',\n",
       "       'Journal of Depression & Anxiety', 'Journal of Pathology',\n",
       "       'Clinical and Experimental Allergy', 'EMBO Molecular Medicine',\n",
       "       'Biopolymers', 'Development Science',\n",
       "       'Journal of Medical Virology', 'Molecular Microbiology',\n",
       "       'Population, Space and Place', 'Traffic',\n",
       "       'Tropical Medicine and International Health',\n",
       "       'The Journal of Physiology', 'Heptology',\n",
       "       'Bulletin of the History of Medicine',\n",
       "       'National Academy of Sciences',\n",
       "       'Journal of Visualized Experiments',\n",
       "       'Journal of Neurology & Translational Neuroscience',\n",
       "       'Nephron Physiology', 'Neurodegenerative Diseases',\n",
       "       'Neuroepidemiology', 'Neuropsychobiology', 'Respiration',\n",
       "       'Autophagy', 'Cell Adhesion and Migration', 'Cell Cycle',\n",
       "       'Channels', 'Epigenetics', 'Epigentics', 'RNA Biology',\n",
       "       'RNA biology', 'Neurology', nan, 'Antioxidants & Redox Signaling',\n",
       "       'Antioxidants and Redox Signaling', 'Tissue Engineering: part A',\n",
       "       'Stem Cells and Development',\n",
       "       'International journal of molecular sciences', 'JERPH', 'Sensors',\n",
       "       'Journal of Cognitive Neuroscience',\n",
       "       'The Journal of Cognitive Neuroscience',\n",
       "       'Journal of Visualized Experiements',\n",
       "       'Journal of Visulaized expermiments',\n",
       "       'PNAS (Proceedings of the National Academy of Sciences of the United States of America',\n",
       "       'Proceddings of the National Academy of Sciences of USA',\n",
       "       'Proceedings of the National Academy of Sciences of the United States of America',\n",
       "       'Biosocieties', 'British Journal of Cancer',\n",
       "       'Cell Death & Disease', 'Cell Death and Differentiation',\n",
       "       'Cell Death and Disease', 'Frontiers', 'Genetics in Medicine',\n",
       "       'Journal of Cerebral Blood Flow and Metabolism',\n",
       "       'Journal of cerebral blood flow and metabolism',\n",
       "       'Journal of Investigative Dermatology', 'Mucosal Immunology',\n",
       "       'Nature Communications', 'Nature communications',\n",
       "       'Scientific Reports', 'EMBO Reports',\n",
       "       'European Journal of Human Genetics', 'Leukemia',\n",
       "       'Nature Neuroscience', 'Cell Death Differentiation', 'EMBO',\n",
       "       'EMBO Journal', 'EMBO reports', 'International Journal of Obesity',\n",
       "       'Kidney International', 'Nature Scientific Reports',\n",
       "       'Neuropsychopharmacology', 'Oncogene', 'Sci Rep',\n",
       "       'Scientific Reports-11-00861B', 'The EMBO journal',\n",
       "       'The EMBO Journal', 'The Journal of investigative dermatology',\n",
       "       'Translational Psychiatry', 'NATURE COMMUNICATIONS',\n",
       "       'Optics Express', 'Alcohol and Alcoholism',\n",
       "       'American Jnl Epidemiology', 'American Journal of Epidemiology',\n",
       "       'Brain', 'Briefings in Bioinformatics', 'British Medical Bulletin',\n",
       "       'Cerebral Cortex', 'Clinical Infectious Diseases',\n",
       "       'Clinical Infectious Diseases Online',\n",
       "       'European Heart Journal Online', 'Health Policy Planning',\n",
       "       'Human Molecular Genetics', 'Int J Epidemiol',\n",
       "       'International Joural of Epidemiology',\n",
       "       'International Journal of Epidemiology',\n",
       "       'Journal of Antimicrobial Chemotherapy',\n",
       "       'Journal of Infectious Diseases',\n",
       "       'Journal of the National Cancer Institute',\n",
       "       'Nucleic Acids Research', 'Public Health Ethics', 'Rheumatology',\n",
       "       'Schizophrenia Bulletin',\n",
       "       'Social Cognitive and Affective Neuroscience',\n",
       "       'Cardiovascular Research', 'Clinicla Infectious Disease',\n",
       "       'Glycobiology', 'Inyernational Journal of Epidemiology',\n",
       "       'Journal of Gerontology Series A: Medical Sciences',\n",
       "       'Journal of Public Health', 'Molecular Biology and Evolution',\n",
       "       'Nicotine and Tobaco Research', 'Social History of Medicine',\n",
       "       'Bioinformatics Online', 'Cerebral Cortex print',\n",
       "       'Human Mol Genetics Online', 'Age and Ageing', 'Biinformatics',\n",
       "       'Bioinformatics', 'Brain Online',\n",
       "       'Briefings in Functional Genomics', 'Cerebral Cortex Online',\n",
       "       'Database', 'European Journal of Public Health',\n",
       "       'Health Promotion International', 'History Workshop Journal',\n",
       "       'Human molecular genetics', 'Human Molecular Genetics Online',\n",
       "       'Human Reproduction', 'International Immunology',\n",
       "       'Medical Law Review', 'Mol Biol and Evolution',\n",
       "       'Nephrology Dialysis and Transplantation',\n",
       "       'Nephrology Dialysis Transplantation', 'Nucleic Acid Research',\n",
       "       'NUCLEIC ACIDS RESEARCH', 'Oxford Journals',\n",
       "       'Oxford University Press',\n",
       "       'Protein Engineering, Design and Selection (',\n",
       "       'QJM: An International Journal of Medicine',\n",
       "       'The Journal of Infectious Diseases', 'J Infect Dis',\n",
       "       'BioSocieties', 'Environment and Planning A',\n",
       "       'PLOS Computational Biology', 'PLoS Genetics', 'Plos Genetics',\n",
       "       'PLOS NTD', 'PLoS ONE', 'PloS One', 'PLoS One', 'PLOS One',\n",
       "       'Plos One', 'PLOS Pathogens', 'PLOS Genetics', 'PLOS ONE',\n",
       "       'PNAS USA',\n",
       "       'Proceedings of the National Academy of Sciences of the USA',\n",
       "       'Proc Natl Acad Sci U S A.',\n",
       "       'Proceedings of the national Academy of Sciences',\n",
       "       'Journal of Poverty and Social Justice', 'ASN Neuro',\n",
       "       'Biochemical Journal', 'Biochemical Journals',\n",
       "       'Biochemical Society Transactions', 'Essays in Biochemistry',\n",
       "       'The Biochemical Journal', 'BIOCHEM SOC TRANS',\n",
       "       'Bioscience Reports',\n",
       "       'Proceedings of the National Academy of Sciences (PNAS)',\n",
       "       'Biology', 'Computational Biology', 'Neglected Tropical Disease',\n",
       "       'PLOS', 'Plos', 'PLoS', 'PLOS  Computational Biology', 'PLOS  ONE',\n",
       "       'PLoS 1', 'PLoS Biology', 'PLoS Computational Biology',\n",
       "       'PLOS COMPUTATIONAL BIOLOGY', 'PLoS GENETICS', 'PLoS Medicine',\n",
       "       'PLoS Medicine Journal', 'PLoS Negected Tropical Diseases',\n",
       "       'PLoS Neglected Tropical Diseases',\n",
       "       'PLOS Neglected Tropical Diseases', 'Plos ONE', 'Plos one',\n",
       "       'PloS ONE', 'PLoS Pathogens', 'Plos Pathogens', 'PLoSONE',\n",
       "       'PLosONE', 'Pmedicine-D-12-03130', 'PNTD', 'PONE-D12-17947',\n",
       "       'Public Library of Science', 'Public Library of Science ONE',\n",
       "       'Public Service Review', 'J Cardiovasc Magn Reson',\n",
       "       'British Journal of Psychiatry', 'Britsh Journal of Psychiatry',\n",
       "       'The British Journal of Psychiatry', 'Biology Letters',\n",
       "       'Interface', 'Journal of the Royal Society Interface',\n",
       "       'Journal of the Royal Society, Interface',\n",
       "       'Philos Trans R Soc London B Biol Sci',\n",
       "       'Philosophical Transactions B', 'Proceedings B',\n",
       "       'Proceedings of Royal Society', 'Proceedings of the Royal Society',\n",
       "       'Proceedings of the Royal Society B: Biological Sciences',\n",
       "       'Chemical Communication', 'Chemical Society Reviews',\n",
       "       'Dalton Transactions', 'Photochemical & Photobiological Sciences',\n",
       "       'Organic & Biomolecular Chemistry', 'Chronic Illness',\n",
       "       'European Journal of Preventive Cardiology',\n",
       "       'Health: An Interdisciplinary Journal for the Social Study of Health, Illness and Medicine',\n",
       "       'History of the Human Sciences',\n",
       "       'Journal of Histochemistry & Cytochemistry', 'Neuroscientist',\n",
       "       'Psychological Science', 'Social Studies of Science',\n",
       "       'Journal of Psychopharmacology', 'Reproductive Sciences',\n",
       "       'Journal of the Royal Society of Medicine Short Reports',\n",
       "       'European History Quarterly', 'Qualitative Research',\n",
       "       'International Journal of Financial Research',\n",
       "       'Journal of Biomedical Graphics and Computing', 'Health',\n",
       "       'American Journal of Tropical Medicine & Hygiene',\n",
       "       'Endocrine Related Cancer', 'Journal of General Virology',\n",
       "       'Journal of Microbiology', 'Microbiology', 'SGM Open Option',\n",
       "       'The Journal of Neuroscience', 'Acta Dermato Venereologica',\n",
       "       'Acta Diabetologica', 'Acta Neuropathol', 'Acta Neuropathologica',\n",
       "       'Advances in Experimental Medicine and Biology',\n",
       "       'Anal Bioanal Chem.', 'Biogerontology', 'Biomedical Microdevices',\n",
       "       'Brain Structure and Function', 'Brain Topography',\n",
       "       'Calcified Tissue International', 'Cell and Tissue Research',\n",
       "       'Cellular and Molecular Cell Sciences',\n",
       "       'Cellular and Molecular Life Sciences', 'Chromosome Research',\n",
       "       'Cognitive Processing', 'Cognitive Therapy and Research',\n",
       "       'Current Atherosclerosis Reports',\n",
       "       'Current Obstetrics and Gynecology Reports',\n",
       "       'Development Genes and Evolution', 'Diabetologia',\n",
       "       'European Child and Adolescent Psychiatry',\n",
       "       'European Child and Adolescent Psychiatty',\n",
       "       'European Journal of Clinical Pharmacology',\n",
       "       'European Journal of Epidemiology', 'European Radiology',\n",
       "       'Experimental Brain Research', 'Hernia', 'Immunogenetics',\n",
       "       'Inflammation Research',\n",
       "       'Journal of Autism and Development Disorders',\n",
       "       'Journal of Autism and Developmental Disorders',\n",
       "       'Journal of Bioethical Inquiry', 'Journal of Biological Physics',\n",
       "       'Journal of Computational Neuroscience',\n",
       "       'Journal of Inherited Metabolic',\n",
       "       'Journal of Molecular Neuroscience', 'Journal of Neurology',\n",
       "       'Journal of the Association for Research in Otolaryngology',\n",
       "       'Mammalian Genome', 'Metabolomics',\n",
       "       'Molecular and Cellular Biochemistry', 'Neurogenetics',\n",
       "       'Neuroinformatics', 'Neuromolecular Medicine',\n",
       "       'Osteoporosis International', 'Pflugers Archiv',\n",
       "       'Pflugers Archive', 'Psychopharmacology',\n",
       "       'Reproductive Medicine and Biology', 'Seminars in Immunopathology',\n",
       "       'Social Psychiatry & Psychiatric Epidemiology',\n",
       "       'Social Psychiatry and Psychiatric Epidemiol',\n",
       "       'Social Psychiatry and Psychiatric Epidemiology', 'Springer',\n",
       "       'The Journal of Abnormal Child Psychology and Psychiatry',\n",
       "       'Tropical Animal Health & Production', 'Urolithiasis',\n",
       "       'AIDS Behav', 'Open Choice', 'Springer Science + Business Media',\n",
       "       'Journal of Bioenergetics and Biomembranes', 'Childs Nerv Syst',\n",
       "       'Age', 'Biomolecular NMR Assignments',\n",
       "       'Journal of Molecular Medicine', 'Journal of Neural Transmission',\n",
       "       'Journal of The American Society for Mass Spectrometry', 'AGE',\n",
       "       'Azania: Archaeological Research in Africa', 'AIDS Care',\n",
       "       'Aids Care', 'Annals of Science',\n",
       "       'Canadian Journal of African Studies', 'Child Neuropsychology',\n",
       "       'English Studies', 'European Journal of English Studies',\n",
       "       'Journal of Cultural Economy', 'Medical Anthropology',\n",
       "       'Science as Culture', 'Am J Bioeth', 'Ethn Health',\n",
       "       'American Journal of Bioethics--Neuroscience',\n",
       "       'South Asian History and Culture', 'The History of the Family',\n",
       "       'Journal of Experimental Nanoscience', 'J Med Chem.',\n",
       "       'Journal of Applied Physiology', 'Molecular & Cellular Proteomics',\n",
       "       'Pediatrics', 'BIOL OPEN', 'Journal of Clinical Endocrinology',\n",
       "       'Journal od Clinical Endocrinology',\n",
       "       'The Journal of Visualized Experiments', 'BJP',\n",
       "       'Philosophical Transactions of the Royal Society of London. Series B, Biological Sciences',\n",
       "       'RSTB 2012.0145', 'Cancer Research', 'Science-Research',\n",
       "       'Am J Trop Med Hyg', 'Developing World Bioethics',\n",
       "       'International Journal of Developmental Biology', 'Acta Physiol',\n",
       "       'Addiction', 'Aging Cell',\n",
       "       'Alimentrary Pharmacology & Therapeutics', 'American Ethnologist',\n",
       "       'American Journal of Medical Genetics Part A', 'Angewande Chemie',\n",
       "       'Angewandte Chemie', 'Annals of Human Genetics',\n",
       "       'Annals of Neurology',\n",
       "       'Annals of the New York Academy of Sciences',\n",
       "       'Arthritis & Rheumatism', 'Arthritis and Rheumatism', 'Bioethics',\n",
       "       'Birth Defects Research Part A: Clinical and Molecular Teratology',\n",
       "       'British Journal of Clinical Pharmacology',\n",
       "       'British Journal of Dermatology', 'British Journal of Haematology',\n",
       "       'British Journal of Pharmacology', 'ChemBioChem',\n",
       "       'Chemistry -  European Journal', 'Child Psychology Psychiatry',\n",
       "       'Clinical Genetics', 'Cytoskeleton', 'Development Dynamics',\n",
       "       'Developmental Science', 'Diabetic Medicine',\n",
       "       'Ecology and Evolution', 'Ecology Letters', 'Epilepsia',\n",
       "       'European Journal of Neuroscience', 'Evolution',\n",
       "       'Experimental Physiology', 'FEBS J.', 'FEBS Journal',\n",
       "       'FEMS Microbiology Letters', 'Genes Brain Behaviour',\n",
       "       'genesis: Journal of Genetics', 'Glia',\n",
       "       'HBM JNL Human Brain Mapping', 'Hepatology', 'Hippocampus',\n",
       "       'Human Brain Mapping', 'Human Mutation',\n",
       "       'Human Mutation: Variation, Informatics, and Disease',\n",
       "       'Immunological Reviews', 'Inflammatory Bowel Diseases',\n",
       "       'International Journal of Geriatric Psychiatry',\n",
       "       'International Journal of Stroke',\n",
       "       'Journal of Bone and Mineral Research',\n",
       "       'Journal of Cellular Biochemistry',\n",
       "       'Journal of Child Psychology and Psychiatry',\n",
       "       'Journal of Evolutionary Biology', 'Journal of Neurochemistry',\n",
       "       'Journal of Neuroendocrinology',\n",
       "       'Journal of the History of the Behavioral Sciences',\n",
       "       'Journal of the Royal Statistical Society: Series C (Applied Statistics)',\n",
       "       'Magnetic Resonance in Medicine', 'Movement Disorders',\n",
       "       'Muscle and Nerve', 'Neuropathology and Applied Neurobiology',\n",
       "       'NMR in Biomedicine', 'Parasite Immunology',\n",
       "       'Plant Biotechnology Journal', 'Protein Science',\n",
       "       'Rapid Communications in Mass Spectrometry',\n",
       "       'Sociology of Health & Illness', 'Stem Cells', 'The FEBS Journal',\n",
       "       'Brt Jnl Clinical Pharmacology', 'Child: Care, Health Development',\n",
       "       'Drug and Alcohol Review', 'Evolutionary Applications',\n",
       "       'Molecular Genetics & Genomic Medicine',\n",
       "       'Maternal and Child Nutrition', 'Evaluation in Clinical Practice',\n",
       "       'JOURNAL OF NEUROCHEMISTRY', 'Journal of Cell Physiology',\n",
       "       'Journal of Internal Medicine', 'Journal of Sleep Research',\n",
       "       'CHILD: Care, Heath & Development', 'Dev World Bioeth.',\n",
       "       'Dev. World Bioeth', 'Eur J Immunol',\n",
       "       'Influenza Other Respi Viruses.', 'Marten Child Nutr',\n",
       "       'Trop Med Int Health', 'Clinical Transcriptional Science',\n",
       "       'Immunology', 'Acta Opthalmologica',\n",
       "       'American Journal of Transplantation',\n",
       "       'Angewandte Chemie International Edition',\n",
       "       'British Jounal of Pharmacology',\n",
       "       'British journal of Clinical Pharmacology', 'Centaurus',\n",
       "       'Criminal Behavior and Mental Health', 'Depression and Anxiety',\n",
       "       'Dermatologic Surgery', 'Economic History Review',\n",
       "       'Genetic Epidemology', 'HPB',\n",
       "       'International Journal of Experimental Pathology',\n",
       "       'Journal of Comparative Neurology',\n",
       "       'Journal of Evaluation in Clinical Practice',\n",
       "       'Journal of Microscopy', 'Journal of Orthopedic Research',\n",
       "       'Journal of Viral Hepatitis', 'Molecular Biology',\n",
       "       'Obesity Reviews', 'Statistics in Medicine', 'Synapse',\n",
       "       'The European Journal of Neuroscience',\n",
       "       'Zoonoses and Public Health', 'Angew chems Int Ed', 'CHEMBIOCHEM',\n",
       "       'Chemmedchem', 'ChemMedChem', 'Protemics',\n",
       "       'Journal of Small Animal Practice', 'AIDS', 'AIDS Journal',\n",
       "       'AIDS UK', 'JAIDS Journal of Acquired Immune Deficiency Syndromes',\n",
       "       'Journal of Acquired Immune Deficiency Syndroms (JAIDS)',\n",
       "       'Journal of Aids', 'Circulation Research', 'Pediatr Infect Dis J',\n",
       "       'Journal of Acquired Immune Deficiency Syndromes'], dtype=object)"
      ]
     },
     "execution_count": 11,
     "metadata": {},
     "output_type": "execute_result"
    }
   ],
   "source": [
    "wellcome.journal.unique()"
   ]
  },
  {
   "cell_type": "code",
   "execution_count": 12,
   "metadata": {},
   "outputs": [],
   "source": [
    "acs = list(filter(lambda x: 'ACS' in x, wellcome.publisher))"
   ]
  },
  {
   "cell_type": "code",
   "execution_count": 13,
   "metadata": {},
   "outputs": [
    {
     "data": {
      "text/plain": [
       "['ACS',\n",
       " 'ACS',\n",
       " 'ACS',\n",
       " 'ACS',\n",
       " 'ACS',\n",
       " 'ACS',\n",
       " 'ACS',\n",
       " 'ACS (Amercian Chemical Society) Publications',\n",
       " 'ACS (Amercian Chemical Society) Publications',\n",
       " 'ACS (Amercian Chemical Society) Publications',\n",
       " 'ACS (Amercian Chemical Society) Publications',\n",
       " 'ACS (Amercian Chemical Society) Publications',\n",
       " 'ACS Publications',\n",
       " 'ACS Publications']"
      ]
     },
     "execution_count": 13,
     "metadata": {},
     "output_type": "execute_result"
    }
   ],
   "source": [
    "acs"
   ]
  },
  {
   "cell_type": "code",
   "execution_count": 14,
   "metadata": {},
   "outputs": [
    {
     "data": {
      "text/plain": [
       "['ACS',\n",
       " 'ACS',\n",
       " 'ACS',\n",
       " 'ACS',\n",
       " 'ACS',\n",
       " 'ACS',\n",
       " 'ACS',\n",
       " 'ACS',\n",
       " 'ACS',\n",
       " 'ACS',\n",
       " 'ACS',\n",
       " 'ACS',\n",
       " 'ACS',\n",
       " 'ACS']"
      ]
     },
     "execution_count": 14,
     "metadata": {},
     "output_type": "execute_result"
    }
   ],
   "source": [
    "wellcome.publisher= wellcome.publisher.str.replace('ACS Publications', 'ACS')\n",
    "wellcome.publisher = wellcome.publisher.str.replace(\"ACS \\\\(Amercian Chemical Society\\\\) Publications\", 'ACS')\n",
    "\n",
    "acs = list(filter(lambda x: 'ACS' in x, wellcome.publisher))\n",
    "acs"
   ]
  },
  {
   "cell_type": "code",
   "execution_count": 15,
   "metadata": {},
   "outputs": [
    {
     "data": {
      "text/plain": [
       "['American Chemical Society',\n",
       " 'American Chemical Society',\n",
       " 'American Chemical Society',\n",
       " 'American Chemical Society',\n",
       " 'AMERICAN CHEMICAL SOCIETY',\n",
       " 'American Chemical Society',\n",
       " 'American Chemical Society',\n",
       " 'American Chemical Society',\n",
       " 'American Chemical Society',\n",
       " 'American Chemical Society',\n",
       " 'American Chemical Society',\n",
       " 'American Chemical Society',\n",
       " 'American Chemical Society',\n",
       " 'American Chemical Society',\n",
       " 'American Chemical Society',\n",
       " 'American Chemical Society Publications',\n",
       " 'The American Chemical Society Petroleum Research Trust',\n",
       " 'The American Chemical Society Petroleum Research Trust',\n",
       " 'The American Chemical Society Petroleum Research Trust',\n",
       " 'The American Chemical Society Petroleum Research Trust']"
      ]
     },
     "execution_count": 15,
     "metadata": {},
     "output_type": "execute_result"
    }
   ],
   "source": [
    "acs = list(filter(lambda x: re.findall('American Chemical Society', x, re.IGNORECASE), wellcome.publisher))\n",
    "acs"
   ]
  },
  {
   "cell_type": "code",
   "execution_count": 16,
   "metadata": {},
   "outputs": [
    {
     "data": {
      "text/plain": [
       "[]"
      ]
     },
     "execution_count": 16,
     "metadata": {},
     "output_type": "execute_result"
    }
   ],
   "source": [
    "wellcome.publisher = wellcome.publisher.str.replace('American Chemical Society', 'ACS')\n",
    "wellcome.publisher = wellcome.publisher.str.replace('AMERICAN CHEMICAL SOCIETY', 'ACS')\n",
    "wellcome.publisher = wellcome.publisher.str.replace('ACS Publications', 'ACS')\n",
    "wellcome.publisher = wellcome.publisher.str.replace('The ACS Petroleum Research Trust', 'ACS')\n",
    "\n",
    "acs = list(filter(lambda x: re.findall('American Chemical Society', x, re.IGNORECASE), wellcome.publisher))\n",
    "acs"
   ]
  },
  {
   "cell_type": "code",
   "execution_count": 17,
   "metadata": {},
   "outputs": [
    {
     "data": {
      "text/plain": [
       "array(['CUP', 'ACS', 'AGA Institute', 'AMBSB',\n",
       "       'American Association of Immunologists',\n",
       "       'American College of Chest Physicians',\n",
       "       'American Physiological Society',\n",
       "       'American Psychiatric Association',\n",
       "       'American Psychiatric Publishing',\n",
       "       'American Psychological Association',\n",
       "       'American Public Health Association',\n",
       "       'American Soc for Biochemistry and Molecular Biology',\n",
       "       'American Society for Biochemistry and Molecular Biolgy',\n",
       "       'American Society for Biochemistry and Molecular Biology',\n",
       "       'American Society for Investigative Pathology',\n",
       "       'American Society for Microbiology',\n",
       "       'American Society for Nutrition',\n",
       "       'American Society of Haematology',\n",
       "       'American Society of Hamatology', 'American Society of Hematology',\n",
       "       'American Society of Human Genetics (Elsevier)',\n",
       "       'American Society of Microbiology',\n",
       "       'American Speech-Language-Hearing Association', 'ASBMB',\n",
       "       'ASBMB Cadmus', 'ASBMB/Cadmus', 'ASBMB/Cenveo Publisher Services',\n",
       "       'ASBMC /CENVEO', 'ASM', 'ASM (American Society for Microbiology)',\n",
       "       'Association for Research in Vision & Ophthalmology',\n",
       "       'Bentham Science Publishers', 'Benthan Science Publishers',\n",
       "       'Berhahn Books', 'Biochem Journal', 'BioMed Central',\n",
       "       'BioMed central', 'Biomed Central', 'BioMed Central Limited',\n",
       "       'BioMed Central Ltd', 'Biophysical Society', 'BioScientifica',\n",
       "       'Bioscientifica', 'Blackwell Publishing Ltd/Wiley', 'BMC', 'BMJ',\n",
       "       'BMJ Group', 'BMJ group', 'BMJ Journals', 'BMJ Publishing Group',\n",
       "       'BMJ PUBLISHING GROUP', 'BMJ Publishing Group Ltd',\n",
       "       'BMJ Publishing Group Ltd & British Thoracic Society', 'Brill',\n",
       "       'British Medical Journal', 'Byophysical Society', 'Cadmus',\n",
       "       'CADMUS JOURNAL SERVICE', 'Cadmus Journal Services',\n",
       "       'CADMUS JOURNAL SERVICES', 'Cambridge Journals',\n",
       "       'Cambridge Uni Press', 'Cambridge Univ Press',\n",
       "       'Cambridge University Press', 'Camdus Journal Services',\n",
       "       'Cell Press', 'Cenveo Publisher services',\n",
       "       'Cenveo Publisher Services/ASM JV1', 'COACTION',\n",
       "       'Cold Spring Habour Press', 'Cold Spring Harbor',\n",
       "       'Cold Spring Harbor Laboratory Press', 'Cold Spring Harbor Press',\n",
       "       'Cold Spring Harbor Publications', 'Company of Biologist',\n",
       "       'Company of Biologists', 'Company of Biologists Ltd',\n",
       "       'Copyright Clearace Center', 'CSHLP', 'Darmouth Journal Services',\n",
       "       'Dartmouth Journal Services', 'Dartmouth Journals',\n",
       "       'Elseveier Science', 'Elsevier', 'ELSEVIER',\n",
       "       'Elsevier (Cell Press)', 'Elsevier / Cell Science',\n",
       "       'Elsevier B.V.', 'Elsevier Ltd', 'Elsevier/Cell Press',\n",
       "       'Endocrine Society', 'European Respiratory Society',\n",
       "       'European Society of Endocrinolog', 'FASEB',\n",
       "       'Federation of American Societies for Experimental Biology',\n",
       "       'Federation of American Societies for Experimental Biology (FASEB)',\n",
       "       'Federation of the American Society of Experimental Biology',\n",
       "       'Ferrata Storti Foundation', 'Frontiers', 'Frontiers Media',\n",
       "       'Frontiers Media SA', 'Frontiers Research Foundation',\n",
       "       'Future Medicine', 'Future Medicine Ltd', 'Future Science',\n",
       "       'Hindawi', 'Hindawi Publishing Corporation',\n",
       "       'Humana Press (Springer Imprint)', 'Impact Journals',\n",
       "       'Impact Journals LLC', 'Informa Healthcare',\n",
       "       'Informa Healthcare communications', 'Institute of Physics',\n",
       "       'International AIDS Society',\n",
       "       'International Union Against Tuberculosis and Lung Disease',\n",
       "       'International Union Against tuberculosis and Lung Disease',\n",
       "       'International Union of Crystallography',\n",
       "       'International Union of Crystallography (iucr)', 'IOP Publishing',\n",
       "       'IOS Press', 'Ivyspring International Publisher',\n",
       "       'J Med Internet Research', 'John Wiley', 'JOHN WILEY & SONS',\n",
       "       'John Wiley & Sons', 'John Wiley & Sons Inc',\n",
       "       'John Wiley & Sons Ltd', 'John Wiley & Sons, Inc.',\n",
       "       'John Wiley and Sons', 'John Wiley and Sons Ltd',\n",
       "       'Johns Hopkins University Press',\n",
       "       'Journal of the American Physiological Proceedings of National Academy of Sciences',\n",
       "       'Journal of Visualized Experiments', 'JoVE', 'JSciMed Central',\n",
       "       'KARGER', 'Karger', 'Landes Bioscience', 'Landes Biosciences',\n",
       "       'LWW', 'MacMillan', 'Mary Ann Liebert', 'MARY ANN LIEBERT INC',\n",
       "       'Mary Ann Liebert, Inc. Publishers', 'MDPI', 'MIT Press',\n",
       "       'MIT PRESS OPEN ACCESS', 'MY JOVE CORP', 'My JOVE corporation',\n",
       "       'MYJoVE Corporation', 'National Academy of Sciences',\n",
       "       'National Academy of Sciences of the United States of America',\n",
       "       'National Academy of Sciences USA',\n",
       "       'National Academy of Sciences, USA', 'Nature', 'Nature PG',\n",
       "       'Nature Publishing', 'Nature Publishing Group',\n",
       "       'Nature publishing group', 'NATURE PUBLISHING GROUP LTD', 'NPG',\n",
       "       'Open Access Reg Ltd', 'Optical Society of America', 'OUP',\n",
       "       'Oxford Journals', 'Oxford Journals (OUP)', 'Oxford Univ Press',\n",
       "       'Oxford University Press', 'OXFORD UNIVERSITY PRESS',\n",
       "       'Oxford University Press (OUP)', 'Oxford Univesity Press',\n",
       "       'Palgrave MacMillan', 'Pion', 'PLOS', 'PLoS', 'Plos',\n",
       "       'PLoS (Public Library of Science)',\n",
       "       'PLoS Public Library of Science', 'PNAS',\n",
       "       'PNAS Author Publication', 'Policy Press', 'Portland Press',\n",
       "       'Portland press', 'PORTLAND PRESS LTD', 'Portland Press Ltd',\n",
       "       'Proceedings of the National Academy of Sciences (PNAS)',\n",
       "       'Public Library of Science', 'public.service.co.uk',\n",
       "       'Publisher Society for Endocrinology', 'PubMed', 'PubMed Central',\n",
       "       'Research Media Ltd', 'Royal College of Psychiatrists',\n",
       "       'Royal Society', 'Royal Society for Chemistry',\n",
       "       'Royal Society of Chemistry', 'RSC', 'RSC Publishing', 'SAGE',\n",
       "       'Sage', 'Sage Publications', 'SAGE Publications',\n",
       "       'Sage Publications Inc', 'Sage Publications Ltd',\n",
       "       'Sage Publishers', 'Sage Publishing', 'Sciedu Press',\n",
       "       'Scientific Research Publishing', 'Sheridan Press',\n",
       "       'Society for Endocrinology', 'Society for General Microbiology',\n",
       "       'Society for Genermal Microbiology',\n",
       "       'Society for Leukocyte Biology', 'Society for Neuroscience',\n",
       "       'Society for Neurosciences',\n",
       "       'Society for Publication of Acta Dermato-Venereologica',\n",
       "       'Society of General Microbiology', 'Society of Leukocyte Biology',\n",
       "       'SOCIETY OF NEURO SCIENCES', 'Society of Neuroscience', 'Springer',\n",
       "       'Springer - Verlag GMBH', 'Springer Science + Business Media',\n",
       "       'Springer Verlag', 'Springer-Veriag GmbH', 'SPRINGER-VERLAG GMBH',\n",
       "       'Springer-Verlag GmbH', 'Springer-Verlag GMBH & Ci',\n",
       "       'Springer-Verlag GmbH, Heidelberger Platz 3, D-14197 Berlin',\n",
       "       'T&F', 'Taylor & Francis', 'Taylor & Francis Journals',\n",
       "       'Taylor and Francis', 'The American Physiological Society',\n",
       "       'The American Society for Biochemistry and Molecular Biology',\n",
       "       'The American Society for Biochemistry and Molecular Biology, Inc',\n",
       "       'The American Society of Pediatrics', 'The Boulevard',\n",
       "       'The company of Biolgists', 'THE COMPANY OF BIOLOGISTS',\n",
       "       'The company of Biologists', 'The Company of Biologists',\n",
       "       'The Company of Biologists Ltd', 'The Endocrine Socety',\n",
       "       'The Endocrine Society', 'THE ENDOCRINE SOCIETY',\n",
       "       'The Endrocrine Society', 'The Journal of Visualized Experiments',\n",
       "       'The Royal College of Psychiatrists', 'The Royal Society',\n",
       "       'The royal Society', 'The Sheridan Press', 'Transcript Verlag',\n",
       "       'University of the Basque Country Press', 'Wiley', 'Wiley & Son',\n",
       "       'Wiley Blackwell', 'Wiley Online Library',\n",
       "       'Wiley Subscription Services', 'Wiley Subscription Services  Inc.',\n",
       "       'Wiley Subscription Services Inc',\n",
       "       'Wiley Subscription Serviices Inc', 'Wiley VCH', 'Wiley/Blackwell',\n",
       "       'Wiley-Blackwell', 'Wiley-Blackwell, John Wiley & Sons',\n",
       "       'Wiley-VCH', 'Wliey-Blackwell', 'Wolters Kluwer',\n",
       "       'Wolters Kluwer Health', 'Wolters Kluwer N.V./Lippinott',\n",
       "       'Wolters Kluwers'], dtype=object)"
      ]
     },
     "execution_count": 17,
     "metadata": {},
     "output_type": "execute_result"
    }
   ],
   "source": [
    "wellcome.publisher.unique()"
   ]
  },
  {
   "cell_type": "code",
   "execution_count": 22,
   "metadata": {},
   "outputs": [],
   "source": [
    "wellcome.publisher = wellcome.publisher.str.replace('American Society for Biochemistry and Molecular Biolgy', 'American Society for Biochemistry and Molecular Biology')\n",
    "wellcome.publisher = wellcome.publisher.str.replace('American Soc for Biochemistry and Molecular Biology', 'American Society for Biochemistry and Molecular Biology')\n",
    "wellcome.publisher = wellcome.publisher.str.replace('ASBMB/Cenveo Publisher Services', 'American Society for Biochemistry and Molecular Biology')\n",
    "wellcome.publisher = wellcome.publisher.str.replace('ASBMB/Cadmus', 'American Society for Biochemistry and Molecular Biology')\n",
    "wellcome.publisher = wellcome.publisher.str.replace('ASBMB Cadmus', 'American Society for Biochemistry and Molecular Biology')\n",
    "wellcome.publisher = wellcome.publisher.str.replace('ASBMB', 'American Society for Biochemistry and Molecular Biology')"
   ]
  },
  {
   "cell_type": "code",
   "execution_count": 20,
   "metadata": {},
   "outputs": [],
   "source": [
    "wellcome.publisher = wellcome.publisher.str.replace('American Society of Hematology', 'American Society of Haematology')\n",
    "wellcome.publisher = wellcome.publisher.str.replace('American Society of Hamatology', 'American Society of Haematology')"
   ]
  },
  {
   "cell_type": "code",
   "execution_count": 21,
   "metadata": {},
   "outputs": [],
   "source": [
    "wellcome.publisher = wellcome.publisher.str.replace('ASM \\\\(American Society for Microbiology\\\\)', 'ASM')\n",
    "wellcome.publisher = wellcome.publisher.str.replace('American Society for Microbiology', 'ASM')"
   ]
  },
  {
   "cell_type": "code",
   "execution_count": 24,
   "metadata": {},
   "outputs": [],
   "source": [
    "wellcome.publisher = wellcome.publisher.str.replace('BioMed central', 'BioMed Central')\n",
    "wellcome.publisher = wellcome.publisher.str.replace('Biomed Central', 'BioMed Central')\n",
    "wellcome.publisher = wellcome.publisher.str.replace('BioMed Central Limited', 'BioMed Central')\n",
    "wellcome.publisher = wellcome.publisher.str.replace('BioMed Central Ltd', 'BioMed Central')"
   ]
  },
  {
   "cell_type": "code",
   "execution_count": 25,
   "metadata": {},
   "outputs": [],
   "source": [
    "wellcome.publisher = wellcome.publisher.str.replace('Bioscientifica', 'BioScientifica')"
   ]
  },
  {
   "cell_type": "code",
   "execution_count": 26,
   "metadata": {},
   "outputs": [],
   "source": [
    "wellcome.loc[wellcome['publisher'].str.contains('BMJ'), 'publisher'] = 'BMJ'"
   ]
  },
  {
   "cell_type": "code",
   "execution_count": 27,
   "metadata": {},
   "outputs": [
    {
     "data": {
      "text/plain": [
       "array(['CUP', 'ACS', 'AGA Institute', 'AMBSB',\n",
       "       'American Association of Immunologists',\n",
       "       'American College of Chest Physicians',\n",
       "       'American Physiological Society',\n",
       "       'American Psychiatric Association',\n",
       "       'American Psychiatric Publishing',\n",
       "       'American Psychological Association',\n",
       "       'American Public Health Association',\n",
       "       'American Society for Biochemistry and Molecular Biology',\n",
       "       'American Society for Investigative Pathology', 'ASM',\n",
       "       'American Society for Nutrition',\n",
       "       'American Society of Haematology',\n",
       "       'American Society of Human Genetics (Elsevier)',\n",
       "       'American Society of Microbiology',\n",
       "       'American Speech-Language-Hearing Association', 'ASBMC /CENVEO',\n",
       "       'Association for Research in Vision & Ophthalmology',\n",
       "       'Bentham Science Publishers', 'Benthan Science Publishers',\n",
       "       'Berhahn Books', 'Biochem Journal', 'BioMed Central',\n",
       "       'Biophysical Society', 'BioScientifica',\n",
       "       'Blackwell Publishing Ltd/Wiley', 'BMC', 'BMJ', 'Brill',\n",
       "       'British Medical Journal', 'Byophysical Society', 'Cadmus',\n",
       "       'CADMUS JOURNAL SERVICE', 'Cadmus Journal Services',\n",
       "       'CADMUS JOURNAL SERVICES', 'Cambridge Journals',\n",
       "       'Cambridge Uni Press', 'Cambridge Univ Press',\n",
       "       'Cambridge University Press', 'Camdus Journal Services',\n",
       "       'Cell Press', 'Cenveo Publisher services',\n",
       "       'Cenveo Publisher Services/ASM JV1', 'COACTION',\n",
       "       'Cold Spring Habour Press', 'Cold Spring Harbor',\n",
       "       'Cold Spring Harbor Laboratory Press', 'Cold Spring Harbor Press',\n",
       "       'Cold Spring Harbor Publications', 'Company of Biologist',\n",
       "       'Company of Biologists', 'Company of Biologists Ltd',\n",
       "       'Copyright Clearace Center', 'CSHLP', 'Darmouth Journal Services',\n",
       "       'Dartmouth Journal Services', 'Dartmouth Journals',\n",
       "       'Elseveier Science', 'Elsevier', 'ELSEVIER',\n",
       "       'Elsevier (Cell Press)', 'Elsevier / Cell Science',\n",
       "       'Elsevier B.V.', 'Elsevier Ltd', 'Elsevier/Cell Press',\n",
       "       'Endocrine Society', 'European Respiratory Society',\n",
       "       'European Society of Endocrinolog', 'FASEB',\n",
       "       'Federation of American Societies for Experimental Biology',\n",
       "       'Federation of American Societies for Experimental Biology (FASEB)',\n",
       "       'Federation of the American Society of Experimental Biology',\n",
       "       'Ferrata Storti Foundation', 'Frontiers', 'Frontiers Media',\n",
       "       'Frontiers Media SA', 'Frontiers Research Foundation',\n",
       "       'Future Medicine', 'Future Medicine Ltd', 'Future Science',\n",
       "       'Hindawi', 'Hindawi Publishing Corporation',\n",
       "       'Humana Press (Springer Imprint)', 'Impact Journals',\n",
       "       'Impact Journals LLC', 'Informa Healthcare',\n",
       "       'Informa Healthcare communications', 'Institute of Physics',\n",
       "       'International AIDS Society',\n",
       "       'International Union Against Tuberculosis and Lung Disease',\n",
       "       'International Union Against tuberculosis and Lung Disease',\n",
       "       'International Union of Crystallography',\n",
       "       'International Union of Crystallography (iucr)', 'IOP Publishing',\n",
       "       'IOS Press', 'Ivyspring International Publisher',\n",
       "       'J Med Internet Research', 'John Wiley', 'JOHN WILEY & SONS',\n",
       "       'John Wiley & Sons', 'John Wiley & Sons Inc',\n",
       "       'John Wiley & Sons Ltd', 'John Wiley & Sons, Inc.',\n",
       "       'John Wiley and Sons', 'John Wiley and Sons Ltd',\n",
       "       'Johns Hopkins University Press',\n",
       "       'Journal of the American Physiological Proceedings of National Academy of Sciences',\n",
       "       'Journal of Visualized Experiments', 'JoVE', 'JSciMed Central',\n",
       "       'KARGER', 'Karger', 'Landes Bioscience', 'Landes Biosciences',\n",
       "       'LWW', 'MacMillan', 'Mary Ann Liebert', 'MARY ANN LIEBERT INC',\n",
       "       'Mary Ann Liebert, Inc. Publishers', 'MDPI', 'MIT Press',\n",
       "       'MIT PRESS OPEN ACCESS', 'MY JOVE CORP', 'My JOVE corporation',\n",
       "       'MYJoVE Corporation', 'National Academy of Sciences',\n",
       "       'National Academy of Sciences of the United States of America',\n",
       "       'National Academy of Sciences USA',\n",
       "       'National Academy of Sciences, USA', 'Nature', 'Nature PG',\n",
       "       'Nature Publishing', 'Nature Publishing Group',\n",
       "       'Nature publishing group', 'NATURE PUBLISHING GROUP LTD', 'NPG',\n",
       "       'Open Access Reg Ltd', 'Optical Society of America', 'OUP',\n",
       "       'Oxford Journals', 'Oxford Journals (OUP)', 'Oxford Univ Press',\n",
       "       'Oxford University Press', 'OXFORD UNIVERSITY PRESS',\n",
       "       'Oxford University Press (OUP)', 'Oxford Univesity Press',\n",
       "       'Palgrave MacMillan', 'Pion', 'PLOS', 'PLoS', 'Plos',\n",
       "       'PLoS (Public Library of Science)',\n",
       "       'PLoS Public Library of Science', 'PNAS',\n",
       "       'PNAS Author Publication', 'Policy Press', 'Portland Press',\n",
       "       'Portland press', 'PORTLAND PRESS LTD', 'Portland Press Ltd',\n",
       "       'Proceedings of the National Academy of Sciences (PNAS)',\n",
       "       'Public Library of Science', 'public.service.co.uk',\n",
       "       'Publisher Society for Endocrinology', 'PubMed', 'PubMed Central',\n",
       "       'Research Media Ltd', 'Royal College of Psychiatrists',\n",
       "       'Royal Society', 'Royal Society for Chemistry',\n",
       "       'Royal Society of Chemistry', 'RSC', 'RSC Publishing', 'SAGE',\n",
       "       'Sage', 'Sage Publications', 'SAGE Publications',\n",
       "       'Sage Publications Inc', 'Sage Publications Ltd',\n",
       "       'Sage Publishers', 'Sage Publishing', 'Sciedu Press',\n",
       "       'Scientific Research Publishing', 'Sheridan Press',\n",
       "       'Society for Endocrinology', 'Society for General Microbiology',\n",
       "       'Society for Genermal Microbiology',\n",
       "       'Society for Leukocyte Biology', 'Society for Neuroscience',\n",
       "       'Society for Neurosciences',\n",
       "       'Society for Publication of Acta Dermato-Venereologica',\n",
       "       'Society of General Microbiology', 'Society of Leukocyte Biology',\n",
       "       'SOCIETY OF NEURO SCIENCES', 'Society of Neuroscience', 'Springer',\n",
       "       'Springer - Verlag GMBH', 'Springer Science + Business Media',\n",
       "       'Springer Verlag', 'Springer-Veriag GmbH', 'SPRINGER-VERLAG GMBH',\n",
       "       'Springer-Verlag GmbH', 'Springer-Verlag GMBH & Ci',\n",
       "       'Springer-Verlag GmbH, Heidelberger Platz 3, D-14197 Berlin',\n",
       "       'T&F', 'Taylor & Francis', 'Taylor & Francis Journals',\n",
       "       'Taylor and Francis', 'The American Physiological Society',\n",
       "       'The American Society for Biochemistry and Molecular Biology',\n",
       "       'The American Society for Biochemistry and Molecular Biology, Inc',\n",
       "       'The American Society of Pediatrics', 'The Boulevard',\n",
       "       'The company of Biolgists', 'THE COMPANY OF BIOLOGISTS',\n",
       "       'The company of Biologists', 'The Company of Biologists',\n",
       "       'The Company of Biologists Ltd', 'The Endocrine Socety',\n",
       "       'The Endocrine Society', 'THE ENDOCRINE SOCIETY',\n",
       "       'The Endrocrine Society', 'The Journal of Visualized Experiments',\n",
       "       'The Royal College of Psychiatrists', 'The Royal Society',\n",
       "       'The royal Society', 'The Sheridan Press', 'Transcript Verlag',\n",
       "       'University of the Basque Country Press', 'Wiley', 'Wiley & Son',\n",
       "       'Wiley Blackwell', 'Wiley Online Library',\n",
       "       'Wiley Subscription Services', 'Wiley Subscription Services  Inc.',\n",
       "       'Wiley Subscription Services Inc',\n",
       "       'Wiley Subscription Serviices Inc', 'Wiley VCH', 'Wiley/Blackwell',\n",
       "       'Wiley-Blackwell', 'Wiley-Blackwell, John Wiley & Sons',\n",
       "       'Wiley-VCH', 'Wliey-Blackwell', 'Wolters Kluwer',\n",
       "       'Wolters Kluwer Health', 'Wolters Kluwer N.V./Lippinott',\n",
       "       'Wolters Kluwers'], dtype=object)"
      ]
     },
     "execution_count": 27,
     "metadata": {},
     "output_type": "execute_result"
    }
   ],
   "source": [
    "wellcome.publisher.unique()"
   ]
  },
  {
   "cell_type": "code",
   "execution_count": 28,
   "metadata": {},
   "outputs": [],
   "source": [
    "wellcome.publisher = wellcome.publisher.str.replace('Byophysical Society', 'Biophysical Society')"
   ]
  },
  {
   "cell_type": "code",
   "execution_count": 29,
   "metadata": {},
   "outputs": [
    {
     "data": {
      "text/plain": [
       "['ASBMC /CENVEO',\n",
       " 'Blackwell Publishing Ltd/Wiley',\n",
       " 'Cenveo Publisher Services/ASM JV1',\n",
       " 'Elsevier / Cell Science',\n",
       " 'Elsevier/Cell Press',\n",
       " 'Wiley/Blackwell',\n",
       " 'Wolters Kluwer N.V./Lippinott']"
      ]
     },
     "execution_count": 29,
     "metadata": {},
     "output_type": "execute_result"
    }
   ],
   "source": [
    "slash = list(filter(lambda x: re.findall(\"/\", x), wellcome.publisher))\n",
    "slash"
   ]
  },
  {
   "cell_type": "code",
   "execution_count": 31,
   "metadata": {},
   "outputs": [],
   "source": [
    "wellcome.loc[wellcome['publisher'].str.contains('Cadmus', case=False), 'publisher'] = 'Cadmus'"
   ]
  },
  {
   "cell_type": "code",
   "execution_count": 34,
   "metadata": {},
   "outputs": [
    {
     "data": {
      "text/plain": [
       "['Blackwell Publishing Ltd/Wiley',\n",
       " 'Wiley Blackwell',\n",
       " 'Wiley Blackwell',\n",
       " 'Wiley Blackwell',\n",
       " 'Wiley Blackwell',\n",
       " 'Wiley/Blackwell',\n",
       " 'Wiley-Blackwell',\n",
       " 'Wiley-Blackwell',\n",
       " 'Wiley-Blackwell',\n",
       " 'Wiley-Blackwell',\n",
       " 'Wiley-Blackwell',\n",
       " 'Wiley-Blackwell',\n",
       " 'Wiley-Blackwell',\n",
       " 'Wiley-Blackwell',\n",
       " 'Wiley-Blackwell',\n",
       " 'Wiley-Blackwell',\n",
       " 'Wiley-Blackwell',\n",
       " 'Wiley-Blackwell',\n",
       " 'Wiley-Blackwell',\n",
       " 'Wiley-Blackwell',\n",
       " 'Wiley-Blackwell',\n",
       " 'Wiley-Blackwell',\n",
       " 'Wiley-Blackwell',\n",
       " 'Wiley-Blackwell',\n",
       " 'Wiley-Blackwell',\n",
       " 'Wiley-Blackwell',\n",
       " 'Wiley-Blackwell',\n",
       " 'Wiley-Blackwell',\n",
       " 'Wiley-Blackwell',\n",
       " 'Wiley-Blackwell',\n",
       " 'Wiley-Blackwell',\n",
       " 'Wiley-Blackwell',\n",
       " 'Wiley-Blackwell',\n",
       " 'Wiley-Blackwell',\n",
       " 'Wiley-Blackwell',\n",
       " 'Wiley-Blackwell',\n",
       " 'Wiley-Blackwell',\n",
       " 'Wiley-Blackwell',\n",
       " 'Wiley-Blackwell',\n",
       " 'Wiley-Blackwell',\n",
       " 'Wiley-Blackwell',\n",
       " 'Wiley-Blackwell',\n",
       " 'Wiley-Blackwell',\n",
       " 'Wiley-Blackwell',\n",
       " 'Wiley-Blackwell',\n",
       " 'Wiley-Blackwell',\n",
       " 'Wiley-Blackwell',\n",
       " 'Wiley-Blackwell',\n",
       " 'Wiley-Blackwell',\n",
       " 'Wiley-Blackwell',\n",
       " 'Wiley-Blackwell',\n",
       " 'Wiley-Blackwell',\n",
       " 'Wiley-Blackwell',\n",
       " 'Wiley-Blackwell',\n",
       " 'Wiley-Blackwell',\n",
       " 'Wiley-Blackwell',\n",
       " 'Wiley-Blackwell',\n",
       " 'Wiley-Blackwell',\n",
       " 'Wiley-Blackwell',\n",
       " 'Wiley-Blackwell',\n",
       " 'Wiley-Blackwell',\n",
       " 'Wiley-Blackwell',\n",
       " 'Wiley-Blackwell, John Wiley & Sons',\n",
       " 'Wliey-Blackwell']"
      ]
     },
     "execution_count": 34,
     "metadata": {},
     "output_type": "execute_result"
    }
   ],
   "source": [
    "blackwell = list(filter(lambda x: re.findall(\"Blackwell\", x, re.IGNORECASE), wellcome.publisher))\n",
    "blackwell"
   ]
  },
  {
   "cell_type": "code",
   "execution_count": 35,
   "metadata": {},
   "outputs": [],
   "source": [
    "wellcome.loc[wellcome.publisher.str.contains('Blackwell', case=False), 'publisher'] = 'Wiley-Blackwell'"
   ]
  },
  {
   "cell_type": "code",
   "execution_count": 36,
   "metadata": {},
   "outputs": [
    {
     "data": {
      "text/plain": [
       "['Wiley-Blackwell',\n",
       " 'John Wiley',\n",
       " 'John Wiley',\n",
       " 'John Wiley',\n",
       " 'John Wiley',\n",
       " 'JOHN WILEY & SONS',\n",
       " 'JOHN WILEY & SONS',\n",
       " 'John Wiley & Sons',\n",
       " 'John Wiley & Sons',\n",
       " 'John Wiley & Sons',\n",
       " 'John Wiley & Sons',\n",
       " 'John Wiley & Sons',\n",
       " 'John Wiley & Sons',\n",
       " 'John Wiley & Sons Inc',\n",
       " 'John Wiley & Sons Inc',\n",
       " 'John Wiley & Sons Ltd',\n",
       " 'John Wiley & Sons Ltd',\n",
       " 'John Wiley & Sons Ltd',\n",
       " 'John Wiley & Sons Ltd',\n",
       " 'John Wiley & Sons Ltd',\n",
       " 'John Wiley & Sons Ltd',\n",
       " 'John Wiley & Sons Ltd',\n",
       " 'John Wiley & Sons Ltd',\n",
       " 'John Wiley & Sons, Inc.',\n",
       " 'John Wiley and Sons',\n",
       " 'John Wiley and Sons Ltd',\n",
       " 'Wiley',\n",
       " 'Wiley',\n",
       " 'Wiley',\n",
       " 'Wiley',\n",
       " 'Wiley',\n",
       " 'Wiley',\n",
       " 'Wiley',\n",
       " 'Wiley',\n",
       " 'Wiley',\n",
       " 'Wiley',\n",
       " 'Wiley',\n",
       " 'Wiley',\n",
       " 'Wiley',\n",
       " 'Wiley',\n",
       " 'Wiley',\n",
       " 'Wiley',\n",
       " 'Wiley',\n",
       " 'Wiley',\n",
       " 'Wiley',\n",
       " 'Wiley',\n",
       " 'Wiley',\n",
       " 'Wiley',\n",
       " 'Wiley',\n",
       " 'Wiley',\n",
       " 'Wiley',\n",
       " 'Wiley',\n",
       " 'Wiley',\n",
       " 'Wiley',\n",
       " 'Wiley',\n",
       " 'Wiley',\n",
       " 'Wiley',\n",
       " 'Wiley',\n",
       " 'Wiley',\n",
       " 'Wiley',\n",
       " 'Wiley',\n",
       " 'Wiley',\n",
       " 'Wiley',\n",
       " 'Wiley',\n",
       " 'Wiley',\n",
       " 'Wiley',\n",
       " 'Wiley',\n",
       " 'Wiley',\n",
       " 'Wiley',\n",
       " 'Wiley',\n",
       " 'Wiley',\n",
       " 'Wiley',\n",
       " 'Wiley',\n",
       " 'Wiley',\n",
       " 'Wiley',\n",
       " 'Wiley',\n",
       " 'Wiley',\n",
       " 'Wiley',\n",
       " 'Wiley',\n",
       " 'Wiley',\n",
       " 'Wiley',\n",
       " 'Wiley',\n",
       " 'Wiley',\n",
       " 'Wiley',\n",
       " 'Wiley',\n",
       " 'Wiley',\n",
       " 'Wiley',\n",
       " 'Wiley',\n",
       " 'Wiley',\n",
       " 'Wiley',\n",
       " 'Wiley',\n",
       " 'Wiley',\n",
       " 'Wiley',\n",
       " 'Wiley',\n",
       " 'Wiley',\n",
       " 'Wiley',\n",
       " 'Wiley',\n",
       " 'Wiley',\n",
       " 'Wiley',\n",
       " 'Wiley',\n",
       " 'Wiley',\n",
       " 'Wiley',\n",
       " 'Wiley',\n",
       " 'Wiley',\n",
       " 'Wiley',\n",
       " 'Wiley',\n",
       " 'Wiley',\n",
       " 'Wiley',\n",
       " 'Wiley',\n",
       " 'Wiley',\n",
       " 'Wiley',\n",
       " 'Wiley',\n",
       " 'Wiley',\n",
       " 'Wiley',\n",
       " 'Wiley',\n",
       " 'Wiley',\n",
       " 'Wiley',\n",
       " 'Wiley',\n",
       " 'Wiley',\n",
       " 'Wiley',\n",
       " 'Wiley',\n",
       " 'Wiley',\n",
       " 'Wiley',\n",
       " 'Wiley',\n",
       " 'Wiley',\n",
       " 'Wiley',\n",
       " 'Wiley',\n",
       " 'Wiley',\n",
       " 'Wiley',\n",
       " 'Wiley',\n",
       " 'Wiley',\n",
       " 'Wiley',\n",
       " 'Wiley',\n",
       " 'Wiley',\n",
       " 'Wiley',\n",
       " 'Wiley',\n",
       " 'Wiley',\n",
       " 'Wiley',\n",
       " 'Wiley',\n",
       " 'Wiley',\n",
       " 'Wiley',\n",
       " 'Wiley',\n",
       " 'Wiley',\n",
       " 'Wiley',\n",
       " 'Wiley',\n",
       " 'Wiley',\n",
       " 'Wiley',\n",
       " 'Wiley',\n",
       " 'Wiley',\n",
       " 'Wiley',\n",
       " 'Wiley',\n",
       " 'Wiley',\n",
       " 'Wiley',\n",
       " 'Wiley',\n",
       " 'Wiley',\n",
       " 'Wiley',\n",
       " 'Wiley',\n",
       " 'Wiley',\n",
       " 'Wiley',\n",
       " 'Wiley',\n",
       " 'Wiley',\n",
       " 'Wiley',\n",
       " 'Wiley',\n",
       " 'Wiley',\n",
       " 'Wiley',\n",
       " 'Wiley',\n",
       " 'Wiley',\n",
       " 'Wiley',\n",
       " 'Wiley',\n",
       " 'Wiley',\n",
       " 'Wiley',\n",
       " 'Wiley',\n",
       " 'Wiley',\n",
       " 'Wiley',\n",
       " 'Wiley & Son',\n",
       " 'Wiley-Blackwell',\n",
       " 'Wiley-Blackwell',\n",
       " 'Wiley-Blackwell',\n",
       " 'Wiley-Blackwell',\n",
       " 'Wiley Online Library',\n",
       " 'Wiley Subscription Services',\n",
       " 'Wiley Subscription Services',\n",
       " 'Wiley Subscription Services',\n",
       " 'Wiley Subscription Services',\n",
       " 'Wiley Subscription Services',\n",
       " 'Wiley Subscription Services',\n",
       " 'Wiley Subscription Services',\n",
       " 'Wiley Subscription Services',\n",
       " 'Wiley Subscription Services  Inc.',\n",
       " 'Wiley Subscription Services  Inc.',\n",
       " 'Wiley Subscription Services  Inc.',\n",
       " 'Wiley Subscription Services  Inc.',\n",
       " 'Wiley Subscription Services  Inc.',\n",
       " 'Wiley Subscription Services  Inc.',\n",
       " 'Wiley Subscription Services  Inc.',\n",
       " 'Wiley Subscription Services  Inc.',\n",
       " 'Wiley Subscription Services  Inc.',\n",
       " 'Wiley Subscription Services  Inc.',\n",
       " 'Wiley Subscription Services  Inc.',\n",
       " 'Wiley Subscription Services  Inc.',\n",
       " 'Wiley Subscription Services  Inc.',\n",
       " 'Wiley Subscription Services Inc',\n",
       " 'Wiley Subscription Services Inc',\n",
       " 'Wiley Subscription Serviices Inc',\n",
       " 'Wiley VCH',\n",
       " 'Wiley-Blackwell',\n",
       " 'Wiley-Blackwell',\n",
       " 'Wiley-Blackwell',\n",
       " 'Wiley-Blackwell',\n",
       " 'Wiley-Blackwell',\n",
       " 'Wiley-Blackwell',\n",
       " 'Wiley-Blackwell',\n",
       " 'Wiley-Blackwell',\n",
       " 'Wiley-Blackwell',\n",
       " 'Wiley-Blackwell',\n",
       " 'Wiley-Blackwell',\n",
       " 'Wiley-Blackwell',\n",
       " 'Wiley-Blackwell',\n",
       " 'Wiley-Blackwell',\n",
       " 'Wiley-Blackwell',\n",
       " 'Wiley-Blackwell',\n",
       " 'Wiley-Blackwell',\n",
       " 'Wiley-Blackwell',\n",
       " 'Wiley-Blackwell',\n",
       " 'Wiley-Blackwell',\n",
       " 'Wiley-Blackwell',\n",
       " 'Wiley-Blackwell',\n",
       " 'Wiley-Blackwell',\n",
       " 'Wiley-Blackwell',\n",
       " 'Wiley-Blackwell',\n",
       " 'Wiley-Blackwell',\n",
       " 'Wiley-Blackwell',\n",
       " 'Wiley-Blackwell',\n",
       " 'Wiley-Blackwell',\n",
       " 'Wiley-Blackwell',\n",
       " 'Wiley-Blackwell',\n",
       " 'Wiley-Blackwell',\n",
       " 'Wiley-Blackwell',\n",
       " 'Wiley-Blackwell',\n",
       " 'Wiley-Blackwell',\n",
       " 'Wiley-Blackwell',\n",
       " 'Wiley-Blackwell',\n",
       " 'Wiley-Blackwell',\n",
       " 'Wiley-Blackwell',\n",
       " 'Wiley-Blackwell',\n",
       " 'Wiley-Blackwell',\n",
       " 'Wiley-Blackwell',\n",
       " 'Wiley-Blackwell',\n",
       " 'Wiley-Blackwell',\n",
       " 'Wiley-Blackwell',\n",
       " 'Wiley-Blackwell',\n",
       " 'Wiley-Blackwell',\n",
       " 'Wiley-Blackwell',\n",
       " 'Wiley-Blackwell',\n",
       " 'Wiley-Blackwell',\n",
       " 'Wiley-Blackwell',\n",
       " 'Wiley-Blackwell',\n",
       " 'Wiley-Blackwell',\n",
       " 'Wiley-Blackwell',\n",
       " 'Wiley-Blackwell',\n",
       " 'Wiley-Blackwell',\n",
       " 'Wiley-Blackwell',\n",
       " 'Wiley-Blackwell',\n",
       " 'Wiley-VCH',\n",
       " 'Wiley-VCH',\n",
       " 'Wiley-VCH',\n",
       " 'Wiley-VCH',\n",
       " 'Wiley-VCH',\n",
       " 'Wiley-VCH',\n",
       " 'Wiley-Blackwell']"
      ]
     },
     "execution_count": 36,
     "metadata": {},
     "output_type": "execute_result"
    }
   ],
   "source": [
    "wiley = list(filter(lambda x: re.findall('Wiley', x, re.IGNORECASE), wellcome.publisher))\n",
    "wiley"
   ]
  },
  {
   "cell_type": "code",
   "execution_count": 37,
   "metadata": {},
   "outputs": [],
   "source": [
    "wellcome.loc[wellcome.publisher.str.contains('Wiley', case=False), 'publisher'] = 'Wiley-Blackwell'"
   ]
  },
  {
   "cell_type": "code",
   "execution_count": 38,
   "metadata": {},
   "outputs": [
    {
     "data": {
      "text/plain": [
       "array(['CUP', 'ACS', 'AGA Institute', 'AMBSB',\n",
       "       'American Association of Immunologists',\n",
       "       'American College of Chest Physicians',\n",
       "       'American Physiological Society',\n",
       "       'American Psychiatric Association',\n",
       "       'American Psychiatric Publishing',\n",
       "       'American Psychological Association',\n",
       "       'American Public Health Association',\n",
       "       'American Society for Biochemistry and Molecular Biology',\n",
       "       'American Society for Investigative Pathology', 'ASM',\n",
       "       'American Society for Nutrition',\n",
       "       'American Society of Haematology',\n",
       "       'American Society of Human Genetics (Elsevier)',\n",
       "       'American Society of Microbiology',\n",
       "       'American Speech-Language-Hearing Association', 'ASBMC /CENVEO',\n",
       "       'Association for Research in Vision & Ophthalmology',\n",
       "       'Bentham Science Publishers', 'Benthan Science Publishers',\n",
       "       'Berhahn Books', 'Biochem Journal', 'BioMed Central',\n",
       "       'Biophysical Society', 'BioScientifica', 'Wiley-Blackwell', 'BMC',\n",
       "       'BMJ', 'Brill', 'British Medical Journal', 'Cadmus',\n",
       "       'Cambridge Journals', 'Cambridge Uni Press',\n",
       "       'Cambridge Univ Press', 'Cambridge University Press',\n",
       "       'Camdus Journal Services', 'Cell Press',\n",
       "       'Cenveo Publisher services', 'Cenveo Publisher Services/ASM JV1',\n",
       "       'COACTION', 'Cold Spring Habour Press', 'Cold Spring Harbor',\n",
       "       'Cold Spring Harbor Laboratory Press', 'Cold Spring Harbor Press',\n",
       "       'Cold Spring Harbor Publications', 'Company of Biologist',\n",
       "       'Company of Biologists', 'Company of Biologists Ltd',\n",
       "       'Copyright Clearace Center', 'CSHLP', 'Darmouth Journal Services',\n",
       "       'Dartmouth Journal Services', 'Dartmouth Journals',\n",
       "       'Elseveier Science', 'Elsevier', 'ELSEVIER',\n",
       "       'Elsevier (Cell Press)', 'Elsevier / Cell Science',\n",
       "       'Elsevier B.V.', 'Elsevier Ltd', 'Elsevier/Cell Press',\n",
       "       'Endocrine Society', 'European Respiratory Society',\n",
       "       'European Society of Endocrinolog', 'FASEB',\n",
       "       'Federation of American Societies for Experimental Biology',\n",
       "       'Federation of American Societies for Experimental Biology (FASEB)',\n",
       "       'Federation of the American Society of Experimental Biology',\n",
       "       'Ferrata Storti Foundation', 'Frontiers', 'Frontiers Media',\n",
       "       'Frontiers Media SA', 'Frontiers Research Foundation',\n",
       "       'Future Medicine', 'Future Medicine Ltd', 'Future Science',\n",
       "       'Hindawi', 'Hindawi Publishing Corporation',\n",
       "       'Humana Press (Springer Imprint)', 'Impact Journals',\n",
       "       'Impact Journals LLC', 'Informa Healthcare',\n",
       "       'Informa Healthcare communications', 'Institute of Physics',\n",
       "       'International AIDS Society',\n",
       "       'International Union Against Tuberculosis and Lung Disease',\n",
       "       'International Union Against tuberculosis and Lung Disease',\n",
       "       'International Union of Crystallography',\n",
       "       'International Union of Crystallography (iucr)', 'IOP Publishing',\n",
       "       'IOS Press', 'Ivyspring International Publisher',\n",
       "       'J Med Internet Research', 'Johns Hopkins University Press',\n",
       "       'Journal of the American Physiological Proceedings of National Academy of Sciences',\n",
       "       'Journal of Visualized Experiments', 'JoVE', 'JSciMed Central',\n",
       "       'KARGER', 'Karger', 'Landes Bioscience', 'Landes Biosciences',\n",
       "       'LWW', 'MacMillan', 'Mary Ann Liebert', 'MARY ANN LIEBERT INC',\n",
       "       'Mary Ann Liebert, Inc. Publishers', 'MDPI', 'MIT Press',\n",
       "       'MIT PRESS OPEN ACCESS', 'MY JOVE CORP', 'My JOVE corporation',\n",
       "       'MYJoVE Corporation', 'National Academy of Sciences',\n",
       "       'National Academy of Sciences of the United States of America',\n",
       "       'National Academy of Sciences USA',\n",
       "       'National Academy of Sciences, USA', 'Nature', 'Nature PG',\n",
       "       'Nature Publishing', 'Nature Publishing Group',\n",
       "       'Nature publishing group', 'NATURE PUBLISHING GROUP LTD', 'NPG',\n",
       "       'Open Access Reg Ltd', 'Optical Society of America', 'OUP',\n",
       "       'Oxford Journals', 'Oxford Journals (OUP)', 'Oxford Univ Press',\n",
       "       'Oxford University Press', 'OXFORD UNIVERSITY PRESS',\n",
       "       'Oxford University Press (OUP)', 'Oxford Univesity Press',\n",
       "       'Palgrave MacMillan', 'Pion', 'PLOS', 'PLoS', 'Plos',\n",
       "       'PLoS (Public Library of Science)',\n",
       "       'PLoS Public Library of Science', 'PNAS',\n",
       "       'PNAS Author Publication', 'Policy Press', 'Portland Press',\n",
       "       'Portland press', 'PORTLAND PRESS LTD', 'Portland Press Ltd',\n",
       "       'Proceedings of the National Academy of Sciences (PNAS)',\n",
       "       'Public Library of Science', 'public.service.co.uk',\n",
       "       'Publisher Society for Endocrinology', 'PubMed', 'PubMed Central',\n",
       "       'Research Media Ltd', 'Royal College of Psychiatrists',\n",
       "       'Royal Society', 'Royal Society for Chemistry',\n",
       "       'Royal Society of Chemistry', 'RSC', 'RSC Publishing', 'SAGE',\n",
       "       'Sage', 'Sage Publications', 'SAGE Publications',\n",
       "       'Sage Publications Inc', 'Sage Publications Ltd',\n",
       "       'Sage Publishers', 'Sage Publishing', 'Sciedu Press',\n",
       "       'Scientific Research Publishing', 'Sheridan Press',\n",
       "       'Society for Endocrinology', 'Society for General Microbiology',\n",
       "       'Society for Genermal Microbiology',\n",
       "       'Society for Leukocyte Biology', 'Society for Neuroscience',\n",
       "       'Society for Neurosciences',\n",
       "       'Society for Publication of Acta Dermato-Venereologica',\n",
       "       'Society of General Microbiology', 'Society of Leukocyte Biology',\n",
       "       'SOCIETY OF NEURO SCIENCES', 'Society of Neuroscience', 'Springer',\n",
       "       'Springer - Verlag GMBH', 'Springer Science + Business Media',\n",
       "       'Springer Verlag', 'Springer-Veriag GmbH', 'SPRINGER-VERLAG GMBH',\n",
       "       'Springer-Verlag GmbH', 'Springer-Verlag GMBH & Ci',\n",
       "       'Springer-Verlag GmbH, Heidelberger Platz 3, D-14197 Berlin',\n",
       "       'T&F', 'Taylor & Francis', 'Taylor & Francis Journals',\n",
       "       'Taylor and Francis', 'The American Physiological Society',\n",
       "       'The American Society for Biochemistry and Molecular Biology',\n",
       "       'The American Society for Biochemistry and Molecular Biology, Inc',\n",
       "       'The American Society of Pediatrics', 'The Boulevard',\n",
       "       'The company of Biolgists', 'THE COMPANY OF BIOLOGISTS',\n",
       "       'The company of Biologists', 'The Company of Biologists',\n",
       "       'The Company of Biologists Ltd', 'The Endocrine Socety',\n",
       "       'The Endocrine Society', 'THE ENDOCRINE SOCIETY',\n",
       "       'The Endrocrine Society', 'The Journal of Visualized Experiments',\n",
       "       'The Royal College of Psychiatrists', 'The Royal Society',\n",
       "       'The royal Society', 'The Sheridan Press', 'Transcript Verlag',\n",
       "       'University of the Basque Country Press', 'Wolters Kluwer',\n",
       "       'Wolters Kluwer Health', 'Wolters Kluwer N.V./Lippinott',\n",
       "       'Wolters Kluwers'], dtype=object)"
      ]
     },
     "execution_count": 38,
     "metadata": {},
     "output_type": "execute_result"
    }
   ],
   "source": [
    "wellcome.publisher.unique()"
   ]
  },
  {
   "cell_type": "code",
   "execution_count": 39,
   "metadata": {},
   "outputs": [],
   "source": [
    "# Cadmus\n",
    "wellcome.loc[wellcome['publisher'].str.contains('Cadmus', case=False), 'publisher'] = 'Cadmus'\n",
    "wellcome.publisher = wellcome.publisher.str.replace('Camdus Journal Services', 'Cadmus')"
   ]
  },
  {
   "cell_type": "code",
   "execution_count": 40,
   "metadata": {},
   "outputs": [],
   "source": [
    "wellcome.publisher = wellcome.publisher.str.replace('Benthan', 'Bentham')"
   ]
  },
  {
   "cell_type": "code",
   "execution_count": 48,
   "metadata": {},
   "outputs": [
    {
     "data": {
      "text/plain": [
       "[]"
      ]
     },
     "execution_count": 48,
     "metadata": {},
     "output_type": "execute_result"
    }
   ],
   "source": [
    "CUP = list(filter(lambda x: re.findall('Cambridge', x, re.IGNORECASE), wellcome.publisher))\n",
    "CUP"
   ]
  },
  {
   "cell_type": "code",
   "execution_count": 46,
   "metadata": {},
   "outputs": [],
   "source": [
    "wellcome.loc[wellcome.publisher.str.contains('Cambridge', case=False), 'publisher']= 'CUP'"
   ]
  },
  {
   "cell_type": "code",
   "execution_count": 49,
   "metadata": {},
   "outputs": [
    {
     "data": {
      "text/plain": [
       "[]"
      ]
     },
     "execution_count": 49,
     "metadata": {},
     "output_type": "execute_result"
    }
   ],
   "source": [
    "CUP"
   ]
  },
  {
   "cell_type": "code",
   "execution_count": 50,
   "metadata": {},
   "outputs": [
    {
     "data": {
      "text/plain": [
       "['ASBMC /CENVEO',\n",
       " 'Cenveo Publisher services',\n",
       " 'Cenveo Publisher Services/ASM JV1']"
      ]
     },
     "execution_count": 50,
     "metadata": {},
     "output_type": "execute_result"
    }
   ],
   "source": [
    "cenveo = list(filter(lambda x: re.findall('cenveo', x, re.IGNORECASE), wellcome.publisher))\n",
    "cenveo"
   ]
  },
  {
   "cell_type": "code",
   "execution_count": 51,
   "metadata": {},
   "outputs": [],
   "source": [
    "wellcome.loc[wellcome.publisher.str.contains('cenveo', case=False), 'publisher'] = 'Cenveo'"
   ]
  },
  {
   "cell_type": "code",
   "execution_count": 52,
   "metadata": {},
   "outputs": [
    {
     "data": {
      "text/plain": [
       "['Cold Spring Habour Press',\n",
       " 'Cold Spring Harbor',\n",
       " 'Cold Spring Harbor Laboratory Press',\n",
       " 'Cold Spring Harbor Laboratory Press',\n",
       " 'Cold Spring Harbor Laboratory Press',\n",
       " 'Cold Spring Harbor Press',\n",
       " 'Cold Spring Harbor Publications']"
      ]
     },
     "execution_count": 52,
     "metadata": {},
     "output_type": "execute_result"
    }
   ],
   "source": [
    "cold_spring = list(filter(lambda x: re.findall('Cold', x, re.IGNORECASE), wellcome.publisher))\n",
    "cold_spring"
   ]
  },
  {
   "cell_type": "code",
   "execution_count": 53,
   "metadata": {},
   "outputs": [],
   "source": [
    "wellcome.loc[wellcome.publisher.str.contains('Cold'), 'publisher']= 'Cold Spring Harbor Press'"
   ]
  },
  {
   "cell_type": "code",
   "execution_count": 54,
   "metadata": {},
   "outputs": [],
   "source": [
    "wellcome.loc[wellcome.publisher.str.contains('Company of Biologist'), 'publisher'] = 'Company of Biologists'"
   ]
  },
  {
   "cell_type": "code",
   "execution_count": 55,
   "metadata": {},
   "outputs": [
    {
     "data": {
      "text/plain": [
       "array(['CUP', 'ACS', 'AGA Institute', 'AMBSB',\n",
       "       'American Association of Immunologists',\n",
       "       'American College of Chest Physicians',\n",
       "       'American Physiological Society',\n",
       "       'American Psychiatric Association',\n",
       "       'American Psychiatric Publishing',\n",
       "       'American Psychological Association',\n",
       "       'American Public Health Association',\n",
       "       'American Society for Biochemistry and Molecular Biology',\n",
       "       'American Society for Investigative Pathology', 'ASM',\n",
       "       'American Society for Nutrition',\n",
       "       'American Society of Haematology',\n",
       "       'American Society of Human Genetics (Elsevier)',\n",
       "       'American Society of Microbiology',\n",
       "       'American Speech-Language-Hearing Association', 'Cenveo',\n",
       "       'Association for Research in Vision & Ophthalmology',\n",
       "       'Bentham Science Publishers', 'Berhahn Books', 'Biochem Journal',\n",
       "       'BioMed Central', 'Biophysical Society', 'BioScientifica',\n",
       "       'Wiley-Blackwell', 'BMC', 'BMJ', 'Brill',\n",
       "       'British Medical Journal', 'Cadmus', 'Cell Press', 'COACTION',\n",
       "       'Cold Spring Harbor Press', 'Company of Biologists',\n",
       "       'Copyright Clearace Center', 'CSHLP', 'Darmouth Journal Services',\n",
       "       'Dartmouth Journal Services', 'Dartmouth Journals',\n",
       "       'Elseveier Science', 'Elsevier', 'ELSEVIER',\n",
       "       'Elsevier (Cell Press)', 'Elsevier / Cell Science',\n",
       "       'Elsevier B.V.', 'Elsevier Ltd', 'Elsevier/Cell Press',\n",
       "       'Endocrine Society', 'European Respiratory Society',\n",
       "       'European Society of Endocrinolog', 'FASEB',\n",
       "       'Federation of American Societies for Experimental Biology',\n",
       "       'Federation of American Societies for Experimental Biology (FASEB)',\n",
       "       'Federation of the American Society of Experimental Biology',\n",
       "       'Ferrata Storti Foundation', 'Frontiers', 'Frontiers Media',\n",
       "       'Frontiers Media SA', 'Frontiers Research Foundation',\n",
       "       'Future Medicine', 'Future Medicine Ltd', 'Future Science',\n",
       "       'Hindawi', 'Hindawi Publishing Corporation',\n",
       "       'Humana Press (Springer Imprint)', 'Impact Journals',\n",
       "       'Impact Journals LLC', 'Informa Healthcare',\n",
       "       'Informa Healthcare communications', 'Institute of Physics',\n",
       "       'International AIDS Society',\n",
       "       'International Union Against Tuberculosis and Lung Disease',\n",
       "       'International Union Against tuberculosis and Lung Disease',\n",
       "       'International Union of Crystallography',\n",
       "       'International Union of Crystallography (iucr)', 'IOP Publishing',\n",
       "       'IOS Press', 'Ivyspring International Publisher',\n",
       "       'J Med Internet Research', 'Johns Hopkins University Press',\n",
       "       'Journal of the American Physiological Proceedings of National Academy of Sciences',\n",
       "       'Journal of Visualized Experiments', 'JoVE', 'JSciMed Central',\n",
       "       'KARGER', 'Karger', 'Landes Bioscience', 'Landes Biosciences',\n",
       "       'LWW', 'MacMillan', 'Mary Ann Liebert', 'MARY ANN LIEBERT INC',\n",
       "       'Mary Ann Liebert, Inc. Publishers', 'MDPI', 'MIT Press',\n",
       "       'MIT PRESS OPEN ACCESS', 'MY JOVE CORP', 'My JOVE corporation',\n",
       "       'MYJoVE Corporation', 'National Academy of Sciences',\n",
       "       'National Academy of Sciences of the United States of America',\n",
       "       'National Academy of Sciences USA',\n",
       "       'National Academy of Sciences, USA', 'Nature', 'Nature PG',\n",
       "       'Nature Publishing', 'Nature Publishing Group',\n",
       "       'Nature publishing group', 'NATURE PUBLISHING GROUP LTD', 'NPG',\n",
       "       'Open Access Reg Ltd', 'Optical Society of America', 'OUP',\n",
       "       'Oxford Journals', 'Oxford Journals (OUP)', 'Oxford Univ Press',\n",
       "       'Oxford University Press', 'OXFORD UNIVERSITY PRESS',\n",
       "       'Oxford University Press (OUP)', 'Oxford Univesity Press',\n",
       "       'Palgrave MacMillan', 'Pion', 'PLOS', 'PLoS', 'Plos',\n",
       "       'PLoS (Public Library of Science)',\n",
       "       'PLoS Public Library of Science', 'PNAS',\n",
       "       'PNAS Author Publication', 'Policy Press', 'Portland Press',\n",
       "       'Portland press', 'PORTLAND PRESS LTD', 'Portland Press Ltd',\n",
       "       'Proceedings of the National Academy of Sciences (PNAS)',\n",
       "       'Public Library of Science', 'public.service.co.uk',\n",
       "       'Publisher Society for Endocrinology', 'PubMed', 'PubMed Central',\n",
       "       'Research Media Ltd', 'Royal College of Psychiatrists',\n",
       "       'Royal Society', 'Royal Society for Chemistry',\n",
       "       'Royal Society of Chemistry', 'RSC', 'RSC Publishing', 'SAGE',\n",
       "       'Sage', 'Sage Publications', 'SAGE Publications',\n",
       "       'Sage Publications Inc', 'Sage Publications Ltd',\n",
       "       'Sage Publishers', 'Sage Publishing', 'Sciedu Press',\n",
       "       'Scientific Research Publishing', 'Sheridan Press',\n",
       "       'Society for Endocrinology', 'Society for General Microbiology',\n",
       "       'Society for Genermal Microbiology',\n",
       "       'Society for Leukocyte Biology', 'Society for Neuroscience',\n",
       "       'Society for Neurosciences',\n",
       "       'Society for Publication of Acta Dermato-Venereologica',\n",
       "       'Society of General Microbiology', 'Society of Leukocyte Biology',\n",
       "       'SOCIETY OF NEURO SCIENCES', 'Society of Neuroscience', 'Springer',\n",
       "       'Springer - Verlag GMBH', 'Springer Science + Business Media',\n",
       "       'Springer Verlag', 'Springer-Veriag GmbH', 'SPRINGER-VERLAG GMBH',\n",
       "       'Springer-Verlag GmbH', 'Springer-Verlag GMBH & Ci',\n",
       "       'Springer-Verlag GmbH, Heidelberger Platz 3, D-14197 Berlin',\n",
       "       'T&F', 'Taylor & Francis', 'Taylor & Francis Journals',\n",
       "       'Taylor and Francis', 'The American Physiological Society',\n",
       "       'The American Society for Biochemistry and Molecular Biology',\n",
       "       'The American Society for Biochemistry and Molecular Biology, Inc',\n",
       "       'The American Society of Pediatrics', 'The Boulevard',\n",
       "       'The company of Biolgists', 'THE COMPANY OF BIOLOGISTS',\n",
       "       'The company of Biologists', 'The Endocrine Socety',\n",
       "       'The Endocrine Society', 'THE ENDOCRINE SOCIETY',\n",
       "       'The Endrocrine Society', 'The Journal of Visualized Experiments',\n",
       "       'The Royal College of Psychiatrists', 'The Royal Society',\n",
       "       'The royal Society', 'The Sheridan Press', 'Transcript Verlag',\n",
       "       'University of the Basque Country Press', 'Wolters Kluwer',\n",
       "       'Wolters Kluwer Health', 'Wolters Kluwer N.V./Lippinott',\n",
       "       'Wolters Kluwers'], dtype=object)"
      ]
     },
     "execution_count": 55,
     "metadata": {},
     "output_type": "execute_result"
    }
   ],
   "source": [
    "wellcome.publisher.unique()"
   ]
  },
  {
   "cell_type": "code",
   "execution_count": 56,
   "metadata": {},
   "outputs": [
    {
     "data": {
      "text/plain": [
       "['Darmouth Journal Services',\n",
       " 'Dartmouth Journal Services',\n",
       " 'Dartmouth Journal Services',\n",
       " 'Dartmouth Journal Services',\n",
       " 'Dartmouth Journal Services',\n",
       " 'Dartmouth Journal Services',\n",
       " 'Dartmouth Journal Services',\n",
       " 'Dartmouth Journal Services',\n",
       " 'Dartmouth Journal Services',\n",
       " 'Dartmouth Journal Services',\n",
       " 'Dartmouth Journal Services',\n",
       " 'Dartmouth Journal Services',\n",
       " 'Dartmouth Journal Services',\n",
       " 'Dartmouth Journal Services',\n",
       " 'Dartmouth Journal Services',\n",
       " 'Dartmouth Journal Services',\n",
       " 'Dartmouth Journal Services',\n",
       " 'Dartmouth Journal Services',\n",
       " 'Dartmouth Journal Services',\n",
       " 'Dartmouth Journals',\n",
       " 'Dartmouth Journals',\n",
       " 'Dartmouth Journals']"
      ]
     },
     "execution_count": 56,
     "metadata": {},
     "output_type": "execute_result"
    }
   ],
   "source": [
    "dartmouth = list(filter(lambda x: re.findall('mouth', x, re.IGNORECASE), wellcome.publisher))\n",
    "dartmouth"
   ]
  },
  {
   "cell_type": "code",
   "execution_count": 57,
   "metadata": {},
   "outputs": [],
   "source": [
    "wellcome.loc[wellcome.publisher.str.contains('mouth'), 'publisher'] = 'Dartmouth Journals'"
   ]
  },
  {
   "cell_type": "code",
   "execution_count": 60,
   "metadata": {},
   "outputs": [
    {
     "data": {
      "text/plain": [
       "{'American Society of Human Genetics (Elsevier)',\n",
       " 'ELSEVIER',\n",
       " 'Elseveier Science',\n",
       " 'Elsevier',\n",
       " 'Elsevier (Cell Press)',\n",
       " 'Elsevier / Cell Science',\n",
       " 'Elsevier B.V.',\n",
       " 'Elsevier Ltd',\n",
       " 'Elsevier/Cell Press'}"
      ]
     },
     "execution_count": 60,
     "metadata": {},
     "output_type": "execute_result"
    }
   ],
   "source": [
    "elsev = set(list(filter(lambda x: re.findall('Elsev', x, re.IGNORECASE), wellcome.publisher)))\n",
    "elsev"
   ]
  },
  {
   "cell_type": "code",
   "execution_count": 61,
   "metadata": {},
   "outputs": [],
   "source": [
    "wellcome.loc[wellcome.publisher.str.contains('Elsev', case=False), 'publisher'] = 'Elsevier'"
   ]
  },
  {
   "cell_type": "code",
   "execution_count": 62,
   "metadata": {},
   "outputs": [
    {
     "data": {
      "text/plain": [
       "{'Federation of American Societies for Experimental Biology',\n",
       " 'Federation of American Societies for Experimental Biology (FASEB)',\n",
       " 'Federation of the American Society of Experimental Biology'}"
      ]
     },
     "execution_count": 62,
     "metadata": {},
     "output_type": "execute_result"
    }
   ],
   "source": [
    "feder = set(list(filter(lambda x: re.findall('Federation', x, re.IGNORECASE), wellcome.publisher)))\n",
    "feder"
   ]
  },
  {
   "cell_type": "code",
   "execution_count": 63,
   "metadata": {},
   "outputs": [],
   "source": [
    "wellcome.loc[wellcome.publisher.str.contains('Federation'), 'publisher'] = 'Federation of American Societies for Experimental Biology'"
   ]
  },
  {
   "cell_type": "code",
   "execution_count": 64,
   "metadata": {},
   "outputs": [
    {
     "data": {
      "text/plain": [
       "{'Endocrine Society',\n",
       " 'European Society of Endocrinolog',\n",
       " 'Publisher Society for Endocrinology',\n",
       " 'Society for Endocrinology',\n",
       " 'THE ENDOCRINE SOCIETY',\n",
       " 'The Endocrine Socety',\n",
       " 'The Endocrine Society'}"
      ]
     },
     "execution_count": 64,
     "metadata": {},
     "output_type": "execute_result"
    }
   ],
   "source": [
    "endocr = set(list(filter(lambda x: re.findall('endocr', x, re.IGNORECASE), wellcome.publisher)))\n",
    "endocr"
   ]
  },
  {
   "cell_type": "code",
   "execution_count": 65,
   "metadata": {},
   "outputs": [],
   "source": [
    "wellcome.loc[wellcome.publisher.str.contains('endocr', case=False), 'publisher'] = 'Endocrine Society'"
   ]
  },
  {
   "cell_type": "code",
   "execution_count": 66,
   "metadata": {},
   "outputs": [],
   "source": [
    "wellcome.loc[wellcome.publisher.str.contains('FASEB'), 'publisher'] = 'Federation of American Societies for Experimental Biology'"
   ]
  },
  {
   "cell_type": "code",
   "execution_count": 69,
   "metadata": {},
   "outputs": [],
   "source": [
    "wellcome.loc[wellcome.publisher.str.contains('Frontiers', case=False), 'publisher']= 'Frontiers'"
   ]
  },
  {
   "cell_type": "code",
   "execution_count": 68,
   "metadata": {},
   "outputs": [],
   "source": [
    "wellcome.loc[wellcome.publisher.str.contains('Future Medicine', case=False), 'publisher'] = 'Future Medicine'"
   ]
  },
  {
   "cell_type": "code",
   "execution_count": 70,
   "metadata": {},
   "outputs": [],
   "source": [
    "wellcome.loc[wellcome.publisher.str.contains('Hindawi', case=False)] = 'Hindawi'"
   ]
  },
  {
   "cell_type": "code",
   "execution_count": 71,
   "metadata": {},
   "outputs": [
    {
     "data": {
      "text/plain": [
       "array(['CUP', 'ACS', 'AGA Institute', 'AMBSB',\n",
       "       'American Association of Immunologists',\n",
       "       'American College of Chest Physicians',\n",
       "       'American Physiological Society',\n",
       "       'American Psychiatric Association',\n",
       "       'American Psychiatric Publishing',\n",
       "       'American Psychological Association',\n",
       "       'American Public Health Association',\n",
       "       'American Society for Biochemistry and Molecular Biology',\n",
       "       'American Society for Investigative Pathology', 'ASM',\n",
       "       'American Society for Nutrition',\n",
       "       'American Society of Haematology', 'Elsevier',\n",
       "       'American Society of Microbiology',\n",
       "       'American Speech-Language-Hearing Association', 'Cenveo',\n",
       "       'Association for Research in Vision & Ophthalmology',\n",
       "       'Bentham Science Publishers', 'Berhahn Books', 'Biochem Journal',\n",
       "       'BioMed Central', 'Biophysical Society', 'BioScientifica',\n",
       "       'Wiley-Blackwell', 'BMC', 'BMJ', 'Brill',\n",
       "       'British Medical Journal', 'Cadmus', 'Cell Press', 'COACTION',\n",
       "       'Cold Spring Harbor Press', 'Company of Biologists',\n",
       "       'Copyright Clearace Center', 'CSHLP', 'Dartmouth Journals',\n",
       "       'Endocrine Society', 'European Respiratory Society',\n",
       "       'Federation of American Societies for Experimental Biology',\n",
       "       'Ferrata Storti Foundation', 'Frontiers', 'Future Medicine',\n",
       "       'Future Science', 'Hindawi', 'Humana Press (Springer Imprint)',\n",
       "       'Impact Journals', 'Impact Journals LLC', 'Informa Healthcare',\n",
       "       'Informa Healthcare communications', 'Institute of Physics',\n",
       "       'International AIDS Society',\n",
       "       'International Union Against Tuberculosis and Lung Disease',\n",
       "       'International Union Against tuberculosis and Lung Disease',\n",
       "       'International Union of Crystallography',\n",
       "       'International Union of Crystallography (iucr)', 'IOP Publishing',\n",
       "       'IOS Press', 'Ivyspring International Publisher',\n",
       "       'J Med Internet Research', 'Johns Hopkins University Press',\n",
       "       'Journal of the American Physiological Proceedings of National Academy of Sciences',\n",
       "       'Journal of Visualized Experiments', 'JoVE', 'JSciMed Central',\n",
       "       'KARGER', 'Karger', 'Landes Bioscience', 'Landes Biosciences',\n",
       "       'LWW', 'MacMillan', 'Mary Ann Liebert', 'MARY ANN LIEBERT INC',\n",
       "       'Mary Ann Liebert, Inc. Publishers', 'MDPI', 'MIT Press',\n",
       "       'MIT PRESS OPEN ACCESS', 'MY JOVE CORP', 'My JOVE corporation',\n",
       "       'MYJoVE Corporation', 'National Academy of Sciences',\n",
       "       'National Academy of Sciences of the United States of America',\n",
       "       'National Academy of Sciences USA',\n",
       "       'National Academy of Sciences, USA', 'Nature', 'Nature PG',\n",
       "       'Nature Publishing', 'Nature Publishing Group',\n",
       "       'Nature publishing group', 'NATURE PUBLISHING GROUP LTD', 'NPG',\n",
       "       'Open Access Reg Ltd', 'Optical Society of America', 'OUP',\n",
       "       'Oxford Journals', 'Oxford Journals (OUP)', 'Oxford Univ Press',\n",
       "       'Oxford University Press', 'OXFORD UNIVERSITY PRESS',\n",
       "       'Oxford University Press (OUP)', 'Oxford Univesity Press',\n",
       "       'Palgrave MacMillan', 'Pion', 'PLOS', 'PLoS', 'Plos',\n",
       "       'PLoS (Public Library of Science)',\n",
       "       'PLoS Public Library of Science', 'PNAS',\n",
       "       'PNAS Author Publication', 'Policy Press', 'Portland Press',\n",
       "       'Portland press', 'PORTLAND PRESS LTD', 'Portland Press Ltd',\n",
       "       'Proceedings of the National Academy of Sciences (PNAS)',\n",
       "       'Public Library of Science', 'public.service.co.uk', 'PubMed',\n",
       "       'PubMed Central', 'Research Media Ltd',\n",
       "       'Royal College of Psychiatrists', 'Royal Society',\n",
       "       'Royal Society for Chemistry', 'Royal Society of Chemistry', 'RSC',\n",
       "       'RSC Publishing', 'SAGE', 'Sage', 'Sage Publications',\n",
       "       'SAGE Publications', 'Sage Publications Inc',\n",
       "       'Sage Publications Ltd', 'Sage Publishers', 'Sage Publishing',\n",
       "       'Sciedu Press', 'Scientific Research Publishing', 'Sheridan Press',\n",
       "       'Society for General Microbiology',\n",
       "       'Society for Genermal Microbiology',\n",
       "       'Society for Leukocyte Biology', 'Society for Neuroscience',\n",
       "       'Society for Neurosciences',\n",
       "       'Society for Publication of Acta Dermato-Venereologica',\n",
       "       'Society of General Microbiology', 'Society of Leukocyte Biology',\n",
       "       'SOCIETY OF NEURO SCIENCES', 'Society of Neuroscience', 'Springer',\n",
       "       'Springer - Verlag GMBH', 'Springer Science + Business Media',\n",
       "       'Springer Verlag', 'Springer-Veriag GmbH', 'SPRINGER-VERLAG GMBH',\n",
       "       'Springer-Verlag GmbH', 'Springer-Verlag GMBH & Ci',\n",
       "       'Springer-Verlag GmbH, Heidelberger Platz 3, D-14197 Berlin',\n",
       "       'T&F', 'Taylor & Francis', 'Taylor & Francis Journals',\n",
       "       'Taylor and Francis', 'The American Physiological Society',\n",
       "       'The American Society for Biochemistry and Molecular Biology',\n",
       "       'The American Society for Biochemistry and Molecular Biology, Inc',\n",
       "       'The American Society of Pediatrics', 'The Boulevard',\n",
       "       'The company of Biolgists', 'THE COMPANY OF BIOLOGISTS',\n",
       "       'The company of Biologists', 'The Endrocrine Society',\n",
       "       'The Journal of Visualized Experiments',\n",
       "       'The Royal College of Psychiatrists', 'The Royal Society',\n",
       "       'The royal Society', 'The Sheridan Press', 'Transcript Verlag',\n",
       "       'University of the Basque Country Press', 'Wolters Kluwer',\n",
       "       'Wolters Kluwer Health', 'Wolters Kluwer N.V./Lippinott',\n",
       "       'Wolters Kluwers'], dtype=object)"
      ]
     },
     "execution_count": 71,
     "metadata": {},
     "output_type": "execute_result"
    }
   ],
   "source": [
    "wellcome.publisher.unique()"
   ]
  },
  {
   "cell_type": "code",
   "execution_count": 72,
   "metadata": {},
   "outputs": [
    {
     "data": {
      "text/plain": [
       "{'Impact Journals', 'Impact Journals LLC'}"
      ]
     },
     "execution_count": 72,
     "metadata": {},
     "output_type": "execute_result"
    }
   ],
   "source": [
    "impact= set(list(filter(lambda x: re.findall('impact', x, re.IGNORECASE), wellcome.publisher)))\n",
    "impact"
   ]
  },
  {
   "cell_type": "code",
   "execution_count": 73,
   "metadata": {},
   "outputs": [],
   "source": [
    "wellcome.loc[wellcome.publisher.str.contains('Impact'), 'publisher'] = 'Impact Journals'"
   ]
  },
  {
   "cell_type": "code",
   "execution_count": 74,
   "metadata": {},
   "outputs": [
    {
     "data": {
      "text/plain": [
       "{'Informa Healthcare', 'Informa Healthcare communications'}"
      ]
     },
     "execution_count": 74,
     "metadata": {},
     "output_type": "execute_result"
    }
   ],
   "source": [
    "informa= set(list(filter(lambda x: re.findall('informa', x, re.IGNORECASE), wellcome.publisher)))\n",
    "informa"
   ]
  },
  {
   "cell_type": "code",
   "execution_count": 75,
   "metadata": {},
   "outputs": [],
   "source": [
    "wellcome.loc[wellcome.publisher.str.contains('Informa'), 'publisher'] = 'Informa Healthcare'"
   ]
  },
  {
   "cell_type": "code",
   "execution_count": 76,
   "metadata": {},
   "outputs": [
    {
     "data": {
      "text/plain": [
       "{'International Union Against Tuberculosis and Lung Disease',\n",
       " 'International Union Against tuberculosis and Lung Disease'}"
      ]
     },
     "execution_count": 76,
     "metadata": {},
     "output_type": "execute_result"
    }
   ],
   "source": [
    "lung = set(list(filter(lambda x: re.findall('lung', x, re.IGNORECASE), wellcome.publisher)))\n",
    "lung"
   ]
  },
  {
   "cell_type": "code",
   "execution_count": 77,
   "metadata": {},
   "outputs": [],
   "source": [
    "wellcome.loc[wellcome.publisher.str.contains('lung', case=False), 'publisher'] = 'International Union Against Tuberculosis and Lung Disease'"
   ]
  },
  {
   "cell_type": "code",
   "execution_count": 78,
   "metadata": {},
   "outputs": [],
   "source": [
    "wellcome.loc[wellcome.publisher.str.contains('crystallo', case=False), 'publisher'] = 'International Union of Crystallography'"
   ]
  },
  {
   "cell_type": "code",
   "execution_count": 79,
   "metadata": {},
   "outputs": [],
   "source": [
    "wellcome.loc[wellcome.publisher.str.contains('JoVE', case=False), 'publisher'] = 'Journal of Visualized Experiments'"
   ]
  },
  {
   "cell_type": "code",
   "execution_count": 80,
   "metadata": {},
   "outputs": [
    {
     "data": {
      "text/plain": [
       "array(['CUP', 'ACS', 'AGA Institute', 'AMBSB',\n",
       "       'American Association of Immunologists',\n",
       "       'American College of Chest Physicians',\n",
       "       'American Physiological Society',\n",
       "       'American Psychiatric Association',\n",
       "       'American Psychiatric Publishing',\n",
       "       'American Psychological Association',\n",
       "       'American Public Health Association',\n",
       "       'American Society for Biochemistry and Molecular Biology',\n",
       "       'American Society for Investigative Pathology', 'ASM',\n",
       "       'American Society for Nutrition',\n",
       "       'American Society of Haematology', 'Elsevier',\n",
       "       'American Society of Microbiology',\n",
       "       'American Speech-Language-Hearing Association', 'Cenveo',\n",
       "       'Association for Research in Vision & Ophthalmology',\n",
       "       'Bentham Science Publishers', 'Berhahn Books', 'Biochem Journal',\n",
       "       'BioMed Central', 'Biophysical Society', 'BioScientifica',\n",
       "       'Wiley-Blackwell', 'BMC', 'BMJ', 'Brill',\n",
       "       'British Medical Journal', 'Cadmus', 'Cell Press', 'COACTION',\n",
       "       'Cold Spring Harbor Press', 'Company of Biologists',\n",
       "       'Copyright Clearace Center', 'CSHLP', 'Dartmouth Journals',\n",
       "       'Endocrine Society', 'European Respiratory Society',\n",
       "       'Federation of American Societies for Experimental Biology',\n",
       "       'Ferrata Storti Foundation', 'Frontiers', 'Future Medicine',\n",
       "       'Future Science', 'Hindawi', 'Humana Press (Springer Imprint)',\n",
       "       'Impact Journals', 'Informa Healthcare', 'Institute of Physics',\n",
       "       'International AIDS Society',\n",
       "       'International Union Against Tuberculosis and Lung Disease',\n",
       "       'International Union of Crystallography', 'IOP Publishing',\n",
       "       'IOS Press', 'Ivyspring International Publisher',\n",
       "       'J Med Internet Research', 'Johns Hopkins University Press',\n",
       "       'Journal of the American Physiological Proceedings of National Academy of Sciences',\n",
       "       'Journal of Visualized Experiments', 'JSciMed Central', 'KARGER',\n",
       "       'Karger', 'Landes Bioscience', 'Landes Biosciences', 'LWW',\n",
       "       'MacMillan', 'Mary Ann Liebert', 'MARY ANN LIEBERT INC',\n",
       "       'Mary Ann Liebert, Inc. Publishers', 'MDPI', 'MIT Press',\n",
       "       'MIT PRESS OPEN ACCESS', 'National Academy of Sciences',\n",
       "       'National Academy of Sciences of the United States of America',\n",
       "       'National Academy of Sciences USA',\n",
       "       'National Academy of Sciences, USA', 'Nature', 'Nature PG',\n",
       "       'Nature Publishing', 'Nature Publishing Group',\n",
       "       'Nature publishing group', 'NATURE PUBLISHING GROUP LTD', 'NPG',\n",
       "       'Open Access Reg Ltd', 'Optical Society of America', 'OUP',\n",
       "       'Oxford Journals', 'Oxford Journals (OUP)', 'Oxford Univ Press',\n",
       "       'Oxford University Press', 'OXFORD UNIVERSITY PRESS',\n",
       "       'Oxford University Press (OUP)', 'Oxford Univesity Press',\n",
       "       'Palgrave MacMillan', 'Pion', 'PLOS', 'PLoS', 'Plos',\n",
       "       'PLoS (Public Library of Science)',\n",
       "       'PLoS Public Library of Science', 'PNAS',\n",
       "       'PNAS Author Publication', 'Policy Press', 'Portland Press',\n",
       "       'Portland press', 'PORTLAND PRESS LTD', 'Portland Press Ltd',\n",
       "       'Proceedings of the National Academy of Sciences (PNAS)',\n",
       "       'Public Library of Science', 'public.service.co.uk', 'PubMed',\n",
       "       'PubMed Central', 'Research Media Ltd',\n",
       "       'Royal College of Psychiatrists', 'Royal Society',\n",
       "       'Royal Society for Chemistry', 'Royal Society of Chemistry', 'RSC',\n",
       "       'RSC Publishing', 'SAGE', 'Sage', 'Sage Publications',\n",
       "       'SAGE Publications', 'Sage Publications Inc',\n",
       "       'Sage Publications Ltd', 'Sage Publishers', 'Sage Publishing',\n",
       "       'Sciedu Press', 'Scientific Research Publishing', 'Sheridan Press',\n",
       "       'Society for General Microbiology',\n",
       "       'Society for Genermal Microbiology',\n",
       "       'Society for Leukocyte Biology', 'Society for Neuroscience',\n",
       "       'Society for Neurosciences',\n",
       "       'Society for Publication of Acta Dermato-Venereologica',\n",
       "       'Society of General Microbiology', 'Society of Leukocyte Biology',\n",
       "       'SOCIETY OF NEURO SCIENCES', 'Society of Neuroscience', 'Springer',\n",
       "       'Springer - Verlag GMBH', 'Springer Science + Business Media',\n",
       "       'Springer Verlag', 'Springer-Veriag GmbH', 'SPRINGER-VERLAG GMBH',\n",
       "       'Springer-Verlag GmbH', 'Springer-Verlag GMBH & Ci',\n",
       "       'Springer-Verlag GmbH, Heidelberger Platz 3, D-14197 Berlin',\n",
       "       'T&F', 'Taylor & Francis', 'Taylor & Francis Journals',\n",
       "       'Taylor and Francis', 'The American Physiological Society',\n",
       "       'The American Society for Biochemistry and Molecular Biology',\n",
       "       'The American Society for Biochemistry and Molecular Biology, Inc',\n",
       "       'The American Society of Pediatrics', 'The Boulevard',\n",
       "       'The company of Biolgists', 'THE COMPANY OF BIOLOGISTS',\n",
       "       'The company of Biologists', 'The Endrocrine Society',\n",
       "       'The Journal of Visualized Experiments',\n",
       "       'The Royal College of Psychiatrists', 'The Royal Society',\n",
       "       'The royal Society', 'The Sheridan Press', 'Transcript Verlag',\n",
       "       'University of the Basque Country Press', 'Wolters Kluwer',\n",
       "       'Wolters Kluwer Health', 'Wolters Kluwer N.V./Lippinott',\n",
       "       'Wolters Kluwers'], dtype=object)"
      ]
     },
     "execution_count": 80,
     "metadata": {},
     "output_type": "execute_result"
    }
   ],
   "source": [
    "wellcome.publisher.unique()"
   ]
  },
  {
   "cell_type": "code",
   "execution_count": 81,
   "metadata": {},
   "outputs": [],
   "source": [
    "wellcome.loc[wellcome.publisher.str.contains(\"IOP\"), 'publisher'] = 'Institute of Physics'"
   ]
  },
  {
   "cell_type": "code",
   "execution_count": 82,
   "metadata": {},
   "outputs": [],
   "source": [
    "wellcome.loc[wellcome.publisher.str.contains(\"Karger\", case=False), 'publisher'] = 'Karger'"
   ]
  },
  {
   "cell_type": "code",
   "execution_count": 83,
   "metadata": {},
   "outputs": [],
   "source": [
    "wellcome.loc[wellcome.publisher.str.contains('Landes', case=False), 'publisher'] = 'Landes Biosciences'"
   ]
  },
  {
   "cell_type": "code",
   "execution_count": 84,
   "metadata": {},
   "outputs": [
    {
     "data": {
      "text/plain": [
       "{'MARY ANN LIEBERT INC',\n",
       " 'Mary Ann Liebert',\n",
       " 'Mary Ann Liebert, Inc. Publishers'}"
      ]
     },
     "execution_count": 84,
     "metadata": {},
     "output_type": "execute_result"
    }
   ],
   "source": [
    "mary = set(list(filter(lambda x: re.findall('Mary', x, re.IGNORECASE), wellcome.publisher)))\n",
    "mary"
   ]
  },
  {
   "cell_type": "code",
   "execution_count": 85,
   "metadata": {},
   "outputs": [],
   "source": [
    "wellcome.loc[wellcome.publisher.str.contains('mary', case=False), 'publisher'] = 'Mary Ann Liebert'"
   ]
  },
  {
   "cell_type": "code",
   "execution_count": 86,
   "metadata": {},
   "outputs": [],
   "source": [
    "wellcome.loc[wellcome.publisher.str.contains('MIT', case=False), 'publisher'] = 'MIT'"
   ]
  },
  {
   "cell_type": "code",
   "execution_count": 89,
   "metadata": {},
   "outputs": [
    {
     "data": {
      "text/plain": [
       "{'Journal of the American Physiological Proceedings of National Academy of Sciences',\n",
       " 'National Academy of Sciences',\n",
       " 'National Academy of Sciences USA',\n",
       " 'National Academy of Sciences of the United States of America',\n",
       " 'National Academy of Sciences, USA',\n",
       " 'Proceedings of the National Academy of Sciences (PNAS)'}"
      ]
     },
     "execution_count": 89,
     "metadata": {},
     "output_type": "execute_result"
    }
   ],
   "source": [
    "national_acad = set(list(filter(lambda x: re.findall('national academy', x, re.IGNORECASE), wellcome.publisher)))\n",
    "national_acad"
   ]
  },
  {
   "cell_type": "code",
   "execution_count": 90,
   "metadata": {},
   "outputs": [],
   "source": [
    "wellcome.loc[wellcome.publisher.str.contains('National Academy', case=False), 'publisher'] = 'National Academy of Sciences'"
   ]
  },
  {
   "cell_type": "code",
   "execution_count": 91,
   "metadata": {},
   "outputs": [
    {
     "data": {
      "text/plain": [
       "{'NATURE PUBLISHING GROUP LTD',\n",
       " 'Nature',\n",
       " 'Nature PG',\n",
       " 'Nature Publishing',\n",
       " 'Nature Publishing Group',\n",
       " 'Nature publishing group'}"
      ]
     },
     "execution_count": 91,
     "metadata": {},
     "output_type": "execute_result"
    }
   ],
   "source": [
    "nature = set(list(filter(lambda x: re.findall('nature', x, re.IGNORECASE), wellcome.publisher)))\n",
    "nature"
   ]
  },
  {
   "cell_type": "code",
   "execution_count": 92,
   "metadata": {},
   "outputs": [],
   "source": [
    "wellcome.loc[wellcome.publisher.str.contains('nature', case=False), 'publisher'] = 'Nature'"
   ]
  },
  {
   "cell_type": "code",
   "execution_count": 93,
   "metadata": {},
   "outputs": [
    {
     "data": {
      "text/plain": [
       "{'OXFORD UNIVERSITY PRESS',\n",
       " 'Oxford Journals',\n",
       " 'Oxford Journals (OUP)',\n",
       " 'Oxford Univ Press',\n",
       " 'Oxford University Press',\n",
       " 'Oxford University Press (OUP)',\n",
       " 'Oxford Univesity Press'}"
      ]
     },
     "execution_count": 93,
     "metadata": {},
     "output_type": "execute_result"
    }
   ],
   "source": [
    "oxford = set(list(filter(lambda x: re.findall('oxford', x, re.IGNORECASE), wellcome.publisher)))\n",
    "oxford"
   ]
  },
  {
   "cell_type": "code",
   "execution_count": 94,
   "metadata": {},
   "outputs": [],
   "source": [
    "wellcome.loc[wellcome.publisher.str.contains('Oxford', case=False), 'publisher'] = 'OUP'"
   ]
  },
  {
   "cell_type": "code",
   "execution_count": 95,
   "metadata": {},
   "outputs": [
    {
     "data": {
      "text/plain": [
       "{'OUP'}"
      ]
     },
     "execution_count": 95,
     "metadata": {},
     "output_type": "execute_result"
    }
   ],
   "source": [
    "oup = set(list(filter(lambda x: re.findall('oup', x, re.IGNORECASE), wellcome.publisher)))\n",
    "oup"
   ]
  },
  {
   "cell_type": "code",
   "execution_count": 96,
   "metadata": {},
   "outputs": [],
   "source": [
    "wellcome.loc[wellcome.publisher.str.contains('plos', case=False), 'publisher'] = 'Public Library of Science'\n",
    "wellcome.loc[wellcome.publisher.str.contains('public library of science', case=False), 'publisher'] = 'Public Library of Science'"
   ]
  },
  {
   "cell_type": "code",
   "execution_count": 97,
   "metadata": {},
   "outputs": [],
   "source": [
    "wellcome.loc[wellcome.publisher.str.contains('portland', case=False), 'publisher'] = 'Portland Press'"
   ]
  },
  {
   "cell_type": "code",
   "execution_count": 98,
   "metadata": {},
   "outputs": [],
   "source": [
    "wellcome.loc[wellcome.publisher.str.contains('pubmed', case=False), 'publisher'] = 'PubMed'"
   ]
  },
  {
   "cell_type": "code",
   "execution_count": 99,
   "metadata": {},
   "outputs": [],
   "source": [
    "# RSC\n",
    "wellcome.loc[wellcome.publisher.str.contains('royal society of chemistry', case=False), 'publisher'] = 'RSC'\n",
    "wellcome.loc[wellcome.publisher.str.contains('royal society for chemistry', case=False), 'publisher'] = 'RSC'\n",
    "wellcome.loc[wellcome.publisher.str.contains('rsc', case=False), 'publisher'] = 'RSC'"
   ]
  },
  {
   "cell_type": "code",
   "execution_count": 100,
   "metadata": {},
   "outputs": [],
   "source": [
    "wellcome.loc[wellcome.publisher.str.contains('sage', case=False), 'publisher'] = 'Sage'"
   ]
  },
  {
   "cell_type": "code",
   "execution_count": 101,
   "metadata": {},
   "outputs": [
    {
     "data": {
      "text/plain": [
       "{'American Society of Microbiology',\n",
       " 'Society for General Microbiology',\n",
       " 'Society for Genermal Microbiology',\n",
       " 'Society of General Microbiology'}"
      ]
     },
     "execution_count": 101,
     "metadata": {},
     "output_type": "execute_result"
    }
   ],
   "source": [
    "microbiology = set(list(filter(lambda x: re.findall('microbiology', x, re.IGNORECASE), wellcome.publisher)))\n",
    "microbiology"
   ]
  },
  {
   "cell_type": "code",
   "execution_count": 102,
   "metadata": {},
   "outputs": [],
   "source": [
    "wellcome.publisher = wellcome.publisher.str.replace('American Society of Microbiology', 'ASM')"
   ]
  },
  {
   "cell_type": "code",
   "execution_count": 103,
   "metadata": {},
   "outputs": [],
   "source": [
    "wellcome.loc[wellcome.publisher.str.contains('Microbiology'), 'publisher'] = 'Microbiology Society'"
   ]
  },
  {
   "cell_type": "code",
   "execution_count": 104,
   "metadata": {},
   "outputs": [
    {
     "data": {
      "text/plain": [
       "{'SOCIETY OF NEURO SCIENCES',\n",
       " 'Society for Neuroscience',\n",
       " 'Society for Neurosciences',\n",
       " 'Society of Neuroscience'}"
      ]
     },
     "execution_count": 104,
     "metadata": {},
     "output_type": "execute_result"
    }
   ],
   "source": [
    "neuro = set(list(filter(lambda x: re.findall('neuro', x, re.IGNORECASE), wellcome.publisher)))\n",
    "neuro"
   ]
  },
  {
   "cell_type": "code",
   "execution_count": 105,
   "metadata": {},
   "outputs": [],
   "source": [
    "wellcome.loc[wellcome.publisher.str.contains('neuro', case=False), 'publisher'] = 'Society for Neuroscience'"
   ]
  },
  {
   "cell_type": "code",
   "execution_count": 106,
   "metadata": {},
   "outputs": [
    {
     "data": {
      "text/plain": [
       "{'Humana Press (Springer Imprint)',\n",
       " 'SPRINGER-VERLAG GMBH',\n",
       " 'Springer',\n",
       " 'Springer - Verlag GMBH',\n",
       " 'Springer Science + Business Media',\n",
       " 'Springer Verlag',\n",
       " 'Springer-Veriag GmbH',\n",
       " 'Springer-Verlag GMBH & Ci',\n",
       " 'Springer-Verlag GmbH',\n",
       " 'Springer-Verlag GmbH, Heidelberger Platz 3, D-14197 Berlin'}"
      ]
     },
     "execution_count": 106,
     "metadata": {},
     "output_type": "execute_result"
    }
   ],
   "source": [
    "springer = set(list(filter(lambda x: re.findall('springer', x, re.IGNORECASE), wellcome.publisher)))\n",
    "springer"
   ]
  },
  {
   "cell_type": "code",
   "execution_count": 107,
   "metadata": {},
   "outputs": [],
   "source": [
    "wellcome.loc[wellcome.publisher.str.contains('springer', case=False), 'publisher'] = 'Springer'"
   ]
  },
  {
   "cell_type": "code",
   "execution_count": 110,
   "metadata": {},
   "outputs": [],
   "source": [
    "wellcome.loc[wellcome.publisher.str.contains('T&F', case=False), 'publisher'] = 'Taylor and Francis'"
   ]
  },
  {
   "cell_type": "code",
   "execution_count": 111,
   "metadata": {},
   "outputs": [],
   "source": [
    "wellcome.loc[wellcome.publisher.str.contains('Taylor', case=False), 'publisher'] = 'Taylor and Francis'"
   ]
  },
  {
   "cell_type": "code",
   "execution_count": 112,
   "metadata": {},
   "outputs": [
    {
     "data": {
      "text/plain": [
       "array(['CUP', 'ACS', 'AGA Institute', 'AMBSB',\n",
       "       'American Association of Immunologists',\n",
       "       'American College of Chest Physicians',\n",
       "       'American Physiological Society',\n",
       "       'American Psychiatric Association',\n",
       "       'American Psychiatric Publishing',\n",
       "       'American Psychological Association',\n",
       "       'American Public Health Association',\n",
       "       'American Society for Biochemistry and Molecular Biology',\n",
       "       'American Society for Investigative Pathology', 'ASM',\n",
       "       'American Society for Nutrition',\n",
       "       'American Society of Haematology', 'Elsevier',\n",
       "       'American Speech-Language-Hearing Association', 'Cenveo',\n",
       "       'Association for Research in Vision & Ophthalmology',\n",
       "       'Bentham Science Publishers', 'Berhahn Books', 'Biochem Journal',\n",
       "       'BioMed Central', 'Biophysical Society', 'BioScientifica',\n",
       "       'Wiley-Blackwell', 'BMC', 'BMJ', 'Brill',\n",
       "       'British Medical Journal', 'Cadmus', 'Cell Press', 'COACTION',\n",
       "       'Cold Spring Harbor Press', 'Company of Biologists',\n",
       "       'Copyright Clearace Center', 'CSHLP', 'Dartmouth Journals',\n",
       "       'Endocrine Society', 'European Respiratory Society',\n",
       "       'Federation of American Societies for Experimental Biology',\n",
       "       'Ferrata Storti Foundation', 'Frontiers', 'Future Medicine',\n",
       "       'Future Science', 'Hindawi', 'Springer', 'Impact Journals',\n",
       "       'Informa Healthcare', 'Institute of Physics',\n",
       "       'International AIDS Society',\n",
       "       'International Union Against Tuberculosis and Lung Disease',\n",
       "       'International Union of Crystallography', 'IOS Press',\n",
       "       'Ivyspring International Publisher', 'J Med Internet Research',\n",
       "       'Johns Hopkins University Press', 'National Academy of Sciences',\n",
       "       'Journal of Visualized Experiments', 'JSciMed Central', 'Karger',\n",
       "       'Landes Biosciences', 'LWW', 'MacMillan', 'Mary Ann Liebert',\n",
       "       'MDPI', 'MIT', 'Nature', 'NPG', 'Open Access Reg Ltd',\n",
       "       'Optical Society of America', 'OUP', 'Palgrave MacMillan', 'Pion',\n",
       "       'Public Library of Science', 'PNAS', 'PNAS Author Publication',\n",
       "       'Policy Press', 'Portland Press', 'public.service.co.uk', 'PubMed',\n",
       "       'Research Media Ltd', 'Royal College of Psychiatrists',\n",
       "       'Royal Society', 'RSC', 'Sage', 'Sciedu Press',\n",
       "       'Scientific Research Publishing', 'Sheridan Press',\n",
       "       'Microbiology Society', 'Society for Leukocyte Biology',\n",
       "       'Society for Neuroscience',\n",
       "       'Society for Publication of Acta Dermato-Venereologica',\n",
       "       'Society of Leukocyte Biology', 'Taylor and Francis',\n",
       "       'The American Physiological Society',\n",
       "       'The American Society for Biochemistry and Molecular Biology',\n",
       "       'The American Society for Biochemistry and Molecular Biology, Inc',\n",
       "       'The American Society of Pediatrics', 'The Boulevard',\n",
       "       'The company of Biolgists', 'THE COMPANY OF BIOLOGISTS',\n",
       "       'The company of Biologists', 'The Endrocrine Society',\n",
       "       'The Journal of Visualized Experiments',\n",
       "       'The Royal College of Psychiatrists', 'The Royal Society',\n",
       "       'The royal Society', 'The Sheridan Press', 'Transcript Verlag',\n",
       "       'University of the Basque Country Press', 'Wolters Kluwer',\n",
       "       'Wolters Kluwer Health', 'Wolters Kluwer N.V./Lippinott',\n",
       "       'Wolters Kluwers'], dtype=object)"
      ]
     },
     "execution_count": 112,
     "metadata": {},
     "output_type": "execute_result"
    }
   ],
   "source": [
    "wellcome.publisher.unique()"
   ]
  },
  {
   "cell_type": "code",
   "execution_count": null,
   "metadata": {},
   "outputs": [],
   "source": []
  }
 ],
 "metadata": {
  "kernelspec": {
   "display_name": "Python 3",
   "language": "python",
   "name": "python3"
  },
  "language_info": {
   "codemirror_mode": {
    "name": "ipython",
    "version": 3
   },
   "file_extension": ".py",
   "mimetype": "text/x-python",
   "name": "python",
   "nbconvert_exporter": "python",
   "pygments_lexer": "ipython3",
   "version": "3.7.2"
  }
 },
 "nbformat": 4,
 "nbformat_minor": 2
}

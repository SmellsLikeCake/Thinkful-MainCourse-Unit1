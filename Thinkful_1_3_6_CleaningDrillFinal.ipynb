{
 "cells": [
  {
   "cell_type": "code",
   "execution_count": 59,
   "metadata": {},
   "outputs": [],
   "source": [
    "import pandas as pd\n",
    "import numpy as np\n",
    "import matplotlib.pyplot as plt\n",
    "import seaborn as sns\n",
    "import re\n",
    "%matplotlib inline"
   ]
  },
  {
   "cell_type": "code",
   "execution_count": 2,
   "metadata": {},
   "outputs": [],
   "source": [
    "wellcome = pd.read_csv(\"WELLCOME/WELLCOME_APCspend2013_forThinkful.csv\", encoding='latin-1')"
   ]
  },
  {
   "cell_type": "code",
   "execution_count": 3,
   "metadata": {},
   "outputs": [],
   "source": [
    "# Renaming the columns so easier to refer to\n",
    "wellcome.columns = ['id', 'publisher', 'journal', 'article', 'cost']"
   ]
  },
  {
   "cell_type": "code",
   "execution_count": 4,
   "metadata": {},
   "outputs": [],
   "source": [
    "# It will be necessary to clean publishers too so that journals can be better identified\n",
    "# Removing front and end spaces in publishers\n",
    "wellcome.publisher = wellcome.publisher.str.strip()"
   ]
  },
  {
   "cell_type": "code",
   "execution_count": 5,
   "metadata": {},
   "outputs": [],
   "source": [
    "# Removing front and end spaces in journals\n",
    "wellcome.journal = wellcome.journal.str.strip()"
   ]
  },
  {
   "cell_type": "code",
   "execution_count": 6,
   "metadata": {},
   "outputs": [],
   "source": [
    "# Where the publisher / journal is something_a / something_b it is recorded as something_a as long as something_a also exists on its own."
   ]
  },
  {
   "cell_type": "code",
   "execution_count": 7,
   "metadata": {},
   "outputs": [],
   "source": [
    "# Sort out ACS\n",
    "wellcome.publisher= wellcome.publisher.str.replace('ACS Publications', 'ACS')\n",
    "wellcome.publisher = wellcome.publisher.str.replace(\"ACS \\\\(Amercian Chemical Society\\\\) Publications\", 'ACS')\n",
    "wellcome.publisher = wellcome.publisher.str.replace('American Chemical Society', 'ACS')\n",
    "wellcome.publisher = wellcome.publisher.str.replace('AMERICAN CHEMICAL SOCIETY', 'ACS')\n",
    "wellcome.publisher = wellcome.publisher.str.replace('ACS Publications', 'ACS')\n",
    "wellcome.publisher = wellcome.publisher.str.replace('The ACS Petroleum Research Trust', 'ACS')"
   ]
  },
  {
   "cell_type": "code",
   "execution_count": 8,
   "metadata": {},
   "outputs": [],
   "source": [
    "# Sort out American Society for Biochemistry and Molecular Biology\n",
    "wellcome.publisher = wellcome.publisher.str.replace('American Society for Biochemistry and Molecular Biolgy', 'American Society for Biochemistry and Molecular Biology')\n",
    "wellcome.publisher = wellcome.publisher.str.replace('American Soc for Biochemistry and Molecular Biology', 'American Society for Biochemistry and Molecular Biology')\n",
    "wellcome.publisher = wellcome.publisher.str.replace('ASBMB/Cenveo Publisher Services', 'American Society for Biochemistry and Molecular Biology')\n",
    "wellcome.publisher = wellcome.publisher.str.replace('ASBMB/Cadmus', 'American Society for Biochemistry and Molecular Biology')\n",
    "wellcome.publisher = wellcome.publisher.str.replace('ASBMB Cadmus', 'American Society for Biochemistry and Molecular Biology')\n",
    "wellcome.publisher = wellcome.publisher.str.replace('ASBMB', 'American Society for Biochemistry and Molecular Biology')\n",
    "wellcome.publisher = wellcome.publisher.str.replace('The American Society for Biochemistry and Molecular Biology, Inc', 'American Society for Biochemistry and Molecular Biology')\n",
    "wellcome.publisher = wellcome.publisher.str.replace('The American Society for Biochemistry and Molecular Biology', 'American Society for Biochemistry and Molecular Biology')"
   ]
  },
  {
   "cell_type": "code",
   "execution_count": 9,
   "metadata": {},
   "outputs": [],
   "source": [
    "# Sort out American Society of Haematology\n",
    "wellcome.publisher = wellcome.publisher.str.replace('American Society of Hematology', 'American Society of Haematology')\n",
    "wellcome.publisher = wellcome.publisher.str.replace('American Society of Hamatology', 'American Society of Haematology')"
   ]
  },
  {
   "cell_type": "code",
   "execution_count": 10,
   "metadata": {},
   "outputs": [],
   "source": [
    "# Sort out ASM\n",
    "wellcome.publisher = wellcome.publisher.str.replace('ASM \\\\(American Society for Microbiology\\\\)', 'ASM')\n",
    "wellcome.publisher = wellcome.publisher.str.replace('American Society for Microbiology', 'ASM')\n",
    "wellcome.publisher = wellcome.publisher.str.replace('American Society of Microbiology', 'ASM')"
   ]
  },
  {
   "cell_type": "code",
   "execution_count": 11,
   "metadata": {},
   "outputs": [],
   "source": [
    "# Sort BioMed Central\n",
    "wellcome.publisher = wellcome.publisher.str.replace('BioMed central', 'BioMed Central')\n",
    "wellcome.publisher = wellcome.publisher.str.replace('Biomed Central', 'BioMed Central')\n",
    "wellcome.publisher = wellcome.publisher.str.replace('BioMed Central Limited', 'BioMed Central')\n",
    "wellcome.publisher = wellcome.publisher.str.replace('BioMed Central Ltd', 'BioMed Central')"
   ]
  },
  {
   "cell_type": "code",
   "execution_count": 12,
   "metadata": {},
   "outputs": [],
   "source": [
    "# BioScientifica\n",
    "wellcome.publisher = wellcome.publisher.str.replace('Bioscientifica', 'BioScientifica')"
   ]
  },
  {
   "cell_type": "code",
   "execution_count": 52,
   "metadata": {},
   "outputs": [],
   "source": [
    "# BMJ\n",
    "wellcome.loc[wellcome['publisher'].str.contains('BMJ'), 'publisher'] = 'BMJ'\n",
    "wellcome.publisher = wellcome.publisher.str.replace('British Medical Journal', 'BMJ')"
   ]
  },
  {
   "cell_type": "code",
   "execution_count": 14,
   "metadata": {},
   "outputs": [],
   "source": [
    "# Biophysical Society\n",
    "wellcome.publisher = wellcome.publisher.str.replace('Byophysical Society', 'Biophysical Society')"
   ]
  },
  {
   "cell_type": "code",
   "execution_count": 15,
   "metadata": {},
   "outputs": [],
   "source": [
    "# Cadmus\n",
    "wellcome.loc[wellcome['publisher'].str.contains('Cadmus', case=False), 'publisher'] = 'Cadmus'\n",
    "wellcome.publisher = wellcome.publisher.str.replace('Camdus Journal Services', 'Cadmus')"
   ]
  },
  {
   "cell_type": "code",
   "execution_count": 16,
   "metadata": {},
   "outputs": [],
   "source": [
    "# Wiley-Blackwell\n",
    "wellcome.loc[wellcome.publisher.str.contains('Blackwell', case=False), 'publisher'] = 'Wiley-Blackwell'\n",
    "wellcome.loc[wellcome.publisher.str.contains('Wiley', case=False), 'publisher'] = 'Wiley-Blackwell'"
   ]
  },
  {
   "cell_type": "code",
   "execution_count": 17,
   "metadata": {},
   "outputs": [],
   "source": [
    "# Bentham\n",
    "wellcome.publisher = wellcome.publisher.str.replace('Benthan', 'Bentham')"
   ]
  },
  {
   "cell_type": "code",
   "execution_count": 18,
   "metadata": {},
   "outputs": [],
   "source": [
    "# CUP\n",
    "wellcome.loc[wellcome.publisher.str.contains('Cambridge', case=False), 'publisher']= 'CUP'"
   ]
  },
  {
   "cell_type": "code",
   "execution_count": 19,
   "metadata": {},
   "outputs": [],
   "source": [
    "# Cenveo\n",
    "wellcome.loc[wellcome.publisher.str.contains('cenveo', case=False), 'publisher'] = 'Cenveo'"
   ]
  },
  {
   "cell_type": "code",
   "execution_count": 20,
   "metadata": {},
   "outputs": [],
   "source": [
    "# Cold Spring\n",
    "wellcome.loc[wellcome.publisher.str.contains('Cold'), 'publisher']= 'Cold Spring Harbor Press'"
   ]
  },
  {
   "cell_type": "code",
   "execution_count": 21,
   "metadata": {},
   "outputs": [],
   "source": [
    "# Company of Biologists\n",
    "wellcome.loc[wellcome.publisher.str.contains('Company of Biol', case=False), 'publisher'] = 'Company of Biologists'"
   ]
  },
  {
   "cell_type": "code",
   "execution_count": 22,
   "metadata": {},
   "outputs": [],
   "source": [
    "# Dartmouth\n",
    "wellcome.loc[wellcome.publisher.str.contains('mouth'), 'publisher'] = 'Dartmouth Journals'"
   ]
  },
  {
   "cell_type": "code",
   "execution_count": 23,
   "metadata": {},
   "outputs": [],
   "source": [
    "# Elsevier\n",
    "wellcome.loc[wellcome.publisher.str.contains('Elsev', case=False), 'publisher'] = 'Elsevier'"
   ]
  },
  {
   "cell_type": "code",
   "execution_count": 24,
   "metadata": {},
   "outputs": [],
   "source": [
    "# Experimental Biology\n",
    "wellcome.loc[wellcome.publisher.str.contains('Federation'), 'publisher'] = 'Federation of American Societies for Experimental Biology'\n",
    "wellcome.loc[wellcome.publisher.str.contains('FASEB'), 'publisher'] = 'Federation of American Societies for Experimental Biology'"
   ]
  },
  {
   "cell_type": "code",
   "execution_count": 54,
   "metadata": {},
   "outputs": [],
   "source": [
    "# Endocrine Society\n",
    "wellcome.loc[wellcome.publisher.str.contains('endocr', case=False), 'publisher'] = 'Endocrine Society'\n",
    "wellcome.loc[wellcome.publisher.str.contains('endrocr', case=False), 'publisher'] = 'Endocrine Society'"
   ]
  },
  {
   "cell_type": "code",
   "execution_count": 26,
   "metadata": {},
   "outputs": [],
   "source": [
    "# Frontiers\n",
    "wellcome.loc[wellcome.publisher.str.contains('Frontiers', case=False), 'publisher']= 'Frontiers'"
   ]
  },
  {
   "cell_type": "code",
   "execution_count": 27,
   "metadata": {},
   "outputs": [],
   "source": [
    "# Future Medicine\n",
    "wellcome.loc[wellcome.publisher.str.contains('Future Medicine', case=False), 'publisher'] = 'Future Medicine'"
   ]
  },
  {
   "cell_type": "code",
   "execution_count": 28,
   "metadata": {},
   "outputs": [],
   "source": [
    "# Hindawi\n",
    "wellcome.loc[wellcome.publisher.str.contains('Hindawi', case=False)] = 'Hindawi'"
   ]
  },
  {
   "cell_type": "code",
   "execution_count": 29,
   "metadata": {},
   "outputs": [],
   "source": [
    "# Impact Journals\n",
    "wellcome.loc[wellcome.publisher.str.contains('Impact'), 'publisher'] = 'Impact Journals'"
   ]
  },
  {
   "cell_type": "code",
   "execution_count": 30,
   "metadata": {},
   "outputs": [],
   "source": [
    "# Informa Healthcare\n",
    "wellcome.loc[wellcome.publisher.str.contains('Informa'), 'publisher'] = 'Informa Healthcare'"
   ]
  },
  {
   "cell_type": "code",
   "execution_count": 31,
   "metadata": {},
   "outputs": [],
   "source": [
    "# Tuberculosis and Lung Disease\n",
    "wellcome.loc[wellcome.publisher.str.contains('lung', case=False), 'publisher'] = 'International Union Against Tuberculosis and Lung Disease'"
   ]
  },
  {
   "cell_type": "code",
   "execution_count": 32,
   "metadata": {},
   "outputs": [],
   "source": [
    "# Crystallography\n",
    "wellcome.loc[wellcome.publisher.str.contains('crystallo', case=False), 'publisher'] = 'International Union of Crystallography'"
   ]
  },
  {
   "cell_type": "code",
   "execution_count": 55,
   "metadata": {},
   "outputs": [],
   "source": [
    "# JoVE\n",
    "wellcome.loc[wellcome.publisher.str.contains('JoVE', case=False), 'publisher'] = 'Journal of Visualized Experiments'\n",
    "wellcome.loc[wellcome.publisher.str.contains('visualized experiments', case=False), 'publisher'] = 'Journal of Visualized Experiments'"
   ]
  },
  {
   "cell_type": "code",
   "execution_count": 34,
   "metadata": {},
   "outputs": [],
   "source": [
    "# IOP\n",
    "wellcome.loc[wellcome.publisher.str.contains(\"IOP\"), 'publisher'] = 'Institute of Physics'"
   ]
  },
  {
   "cell_type": "code",
   "execution_count": 35,
   "metadata": {},
   "outputs": [],
   "source": [
    "# Karger\n",
    "wellcome.loc[wellcome.publisher.str.contains(\"Karger\", case=False), 'publisher'] = 'Karger'"
   ]
  },
  {
   "cell_type": "code",
   "execution_count": 36,
   "metadata": {},
   "outputs": [],
   "source": [
    "# Landes\n",
    "wellcome.loc[wellcome.publisher.str.contains('Landes', case=False), 'publisher'] = 'Landes Biosciences'"
   ]
  },
  {
   "cell_type": "code",
   "execution_count": 37,
   "metadata": {},
   "outputs": [],
   "source": [
    "# Mary Ann Liebert\n",
    "wellcome.loc[wellcome.publisher.str.contains('mary', case=False), 'publisher'] = 'Mary Ann Liebert'"
   ]
  },
  {
   "cell_type": "code",
   "execution_count": 38,
   "metadata": {},
   "outputs": [],
   "source": [
    "# MIT\n",
    "wellcome.loc[wellcome.publisher.str.contains('MIT', case=False), 'publisher'] = 'MIT'"
   ]
  },
  {
   "cell_type": "code",
   "execution_count": 53,
   "metadata": {},
   "outputs": [],
   "source": [
    "# National Academy of Sciences\n",
    "wellcome.loc[wellcome.publisher.str.contains('National Academy', case=False), 'publisher'] = 'National Academy of Sciences'\n",
    "wellcome.loc[wellcome.publisher.str.contains('pnas', case=False), 'publisher']= 'National Academy of Sciences'"
   ]
  },
  {
   "cell_type": "code",
   "execution_count": 40,
   "metadata": {},
   "outputs": [],
   "source": [
    "# Nature\n",
    "wellcome.loc[wellcome.publisher.str.contains('nature', case=False), 'publisher'] = 'Nature'\n"
   ]
  },
  {
   "cell_type": "code",
   "execution_count": 41,
   "metadata": {},
   "outputs": [],
   "source": [
    "# OUP\n",
    "wellcome.loc[wellcome.publisher.str.contains('Oxford', case=False), 'publisher'] = 'OUP'"
   ]
  },
  {
   "cell_type": "code",
   "execution_count": 42,
   "metadata": {},
   "outputs": [],
   "source": [
    "# Public Library of Science\n",
    "wellcome.loc[wellcome.publisher.str.contains('plos', case=False), 'publisher'] = 'Public Library of Science'\n",
    "wellcome.loc[wellcome.publisher.str.contains('public library of science', case=False), 'publisher'] = 'Public Library of Science'"
   ]
  },
  {
   "cell_type": "code",
   "execution_count": 43,
   "metadata": {},
   "outputs": [],
   "source": [
    "# Portland\n",
    "wellcome.loc[wellcome.publisher.str.contains('portland', case=False), 'publisher'] = 'Portland Press'"
   ]
  },
  {
   "cell_type": "code",
   "execution_count": 44,
   "metadata": {},
   "outputs": [],
   "source": [
    "# PubMed\n",
    "wellcome.loc[wellcome.publisher.str.contains('pubmed', case=False), 'publisher'] = 'PubMed'"
   ]
  },
  {
   "cell_type": "code",
   "execution_count": 45,
   "metadata": {},
   "outputs": [],
   "source": [
    "# RSC\n",
    "wellcome.loc[wellcome.publisher.str.contains('royal society of chemistry', case=False), 'publisher'] = 'RSC'\n",
    "wellcome.loc[wellcome.publisher.str.contains('royal society for chemistry', case=False), 'publisher'] = 'RSC'\n",
    "wellcome.loc[wellcome.publisher.str.contains('rsc', case=False), 'publisher'] = 'RSC'"
   ]
  },
  {
   "cell_type": "code",
   "execution_count": 46,
   "metadata": {},
   "outputs": [],
   "source": [
    "# Sage\n",
    "wellcome.loc[wellcome.publisher.str.contains('sage', case=False), 'publisher'] = 'Sage'"
   ]
  },
  {
   "cell_type": "code",
   "execution_count": 47,
   "metadata": {},
   "outputs": [],
   "source": [
    "# Microbiology Society (okay because American Society of Microbiology already set to ASM)\n",
    "wellcome.loc[wellcome.publisher.str.contains('Microbiology'), 'publisher'] = 'Microbiology Society'"
   ]
  },
  {
   "cell_type": "code",
   "execution_count": 48,
   "metadata": {},
   "outputs": [],
   "source": [
    "# Society for Neuroscience\n",
    "wellcome.loc[wellcome.publisher.str.contains('neuro', case=False), 'publisher'] = 'Society for Neuroscience'"
   ]
  },
  {
   "cell_type": "code",
   "execution_count": 49,
   "metadata": {},
   "outputs": [],
   "source": [
    "# Springer\n",
    "wellcome.loc[wellcome.publisher.str.contains('springer', case=False), 'publisher'] = 'Springer'"
   ]
  },
  {
   "cell_type": "code",
   "execution_count": 50,
   "metadata": {},
   "outputs": [],
   "source": [
    "# T&F\n",
    "wellcome.loc[wellcome.publisher.str.contains('Taylor', case=False), 'publisher'] = 'Taylor and Francis'\n",
    "wellcome.loc[wellcome.publisher.str.contains('T&F', case=False), 'publisher'] = 'Taylor and Francis'"
   ]
  },
  {
   "cell_type": "code",
   "execution_count": 56,
   "metadata": {},
   "outputs": [],
   "source": [
    "# Sheridan\n",
    "wellcome.loc[wellcome.publisher.str.contains('sheridan', case=False), 'publisher'] = 'Sheridan Press'"
   ]
  },
  {
   "cell_type": "code",
   "execution_count": 57,
   "metadata": {},
   "outputs": [],
   "source": [
    "# Wolters\n",
    "wellcome.loc[wellcome.publisher.str.contains('wolters', case=False), 'publisher'] = 'Wolters Kluwers'"
   ]
  },
  {
   "cell_type": "code",
   "execution_count": 61,
   "metadata": {},
   "outputs": [],
   "source": [
    "# Royal Society\n",
    "wellcome.loc[wellcome.publisher.str.contains('royal society', case=False), 'publisher'] = 'Royal Society'"
   ]
  },
  {
   "cell_type": "code",
   "execution_count": 64,
   "metadata": {},
   "outputs": [],
   "source": [
    "# Physiological society\n",
    "wellcome.loc[wellcome.publisher.str.contains('physio', case=False), 'publisher'] = 'American Physiological Society'"
   ]
  },
  {
   "cell_type": "code",
   "execution_count": 66,
   "metadata": {
    "scrolled": true
   },
   "outputs": [
    {
     "data": {
      "text/plain": [
       "['ACS',\n",
       " 'AGA Institute',\n",
       " 'AMBSB',\n",
       " 'ASM',\n",
       " 'American Association of Immunologists',\n",
       " 'American College of Chest Physicians',\n",
       " 'American Physiological Society',\n",
       " 'American Psychiatric Association',\n",
       " 'American Psychiatric Publishing',\n",
       " 'American Psychological Association',\n",
       " 'American Public Health Association',\n",
       " 'American Society for Biochemistry and Molecular Biology',\n",
       " 'American Society for Investigative Pathology',\n",
       " 'American Society for Nutrition',\n",
       " 'American Society of Haematology',\n",
       " 'American Speech-Language-Hearing Association',\n",
       " 'Association for Research in Vision & Ophthalmology',\n",
       " 'BMC',\n",
       " 'BMJ',\n",
       " 'Bentham Science Publishers',\n",
       " 'Berhahn Books',\n",
       " 'BioMed Central',\n",
       " 'BioScientifica',\n",
       " 'Biochem Journal',\n",
       " 'Biophysical Society',\n",
       " 'Brill',\n",
       " 'COACTION',\n",
       " 'CSHLP',\n",
       " 'CUP',\n",
       " 'Cadmus',\n",
       " 'Cell Press',\n",
       " 'Cenveo',\n",
       " 'Cold Spring Harbor Press',\n",
       " 'Company of Biologists',\n",
       " 'Copyright Clearace Center',\n",
       " 'Dartmouth Journals',\n",
       " 'Elsevier',\n",
       " 'Endocrine Society',\n",
       " 'European Respiratory Society',\n",
       " 'Federation of American Societies for Experimental Biology',\n",
       " 'Ferrata Storti Foundation',\n",
       " 'Frontiers',\n",
       " 'Future Medicine',\n",
       " 'Future Science',\n",
       " 'Hindawi',\n",
       " 'IOS Press',\n",
       " 'Impact Journals',\n",
       " 'Informa Healthcare',\n",
       " 'Institute of Physics',\n",
       " 'International AIDS Society',\n",
       " 'International Union Against Tuberculosis and Lung Disease',\n",
       " 'International Union of Crystallography',\n",
       " 'Ivyspring International Publisher',\n",
       " 'J Med Internet Research',\n",
       " 'JSciMed Central',\n",
       " 'Johns Hopkins University Press',\n",
       " 'Journal of Visualized Experiments',\n",
       " 'Karger',\n",
       " 'LWW',\n",
       " 'Landes Biosciences',\n",
       " 'MDPI',\n",
       " 'MIT',\n",
       " 'MacMillan',\n",
       " 'Mary Ann Liebert',\n",
       " 'Microbiology Society',\n",
       " 'NPG',\n",
       " 'National Academy of Sciences',\n",
       " 'Nature',\n",
       " 'OUP',\n",
       " 'Open Access Reg Ltd',\n",
       " 'Optical Society of America',\n",
       " 'Palgrave MacMillan',\n",
       " 'Pion',\n",
       " 'Policy Press',\n",
       " 'Portland Press',\n",
       " 'PubMed',\n",
       " 'Public Library of Science',\n",
       " 'RSC',\n",
       " 'Research Media Ltd',\n",
       " 'Royal College of Psychiatrists',\n",
       " 'Royal Society',\n",
       " 'Sage',\n",
       " 'Sciedu Press',\n",
       " 'Scientific Research Publishing',\n",
       " 'Sheridan Press',\n",
       " 'Society for Leukocyte Biology',\n",
       " 'Society for Neuroscience',\n",
       " 'Society for Publication of Acta Dermato-Venereologica',\n",
       " 'Society of Leukocyte Biology',\n",
       " 'Springer',\n",
       " 'Taylor and Francis',\n",
       " 'The American Society of Pediatrics',\n",
       " 'The Boulevard',\n",
       " 'The Royal College of Psychiatrists',\n",
       " 'Transcript Verlag',\n",
       " 'University of the Basque Country Press',\n",
       " 'Wiley-Blackwell',\n",
       " 'Wolters Kluwers',\n",
       " 'public.service.co.uk']"
      ]
     },
     "execution_count": 66,
     "metadata": {},
     "output_type": "execute_result"
    }
   ],
   "source": [
    "sorted(wellcome.publisher.unique())"
   ]
  },
  {
   "cell_type": "code",
   "execution_count": null,
   "metadata": {},
   "outputs": [],
   "source": []
  }
 ],
 "metadata": {
  "kernelspec": {
   "display_name": "Python 3",
   "language": "python",
   "name": "python3"
  },
  "language_info": {
   "codemirror_mode": {
    "name": "ipython",
    "version": 3
   },
   "file_extension": ".py",
   "mimetype": "text/x-python",
   "name": "python",
   "nbconvert_exporter": "python",
   "pygments_lexer": "ipython3",
   "version": "3.7.2"
  }
 },
 "nbformat": 4,
 "nbformat_minor": 2
}

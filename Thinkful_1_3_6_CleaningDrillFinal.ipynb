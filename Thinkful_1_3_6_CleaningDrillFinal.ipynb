{
 "cells": [
  {
   "cell_type": "code",
   "execution_count": 1,
   "metadata": {},
   "outputs": [],
   "source": [
    "import pandas as pd\n",
    "import numpy as np\n",
    "import matplotlib.pyplot as plt\n",
    "import seaborn as sns\n",
    "import re\n",
    "%matplotlib inline"
   ]
  },
  {
   "cell_type": "code",
   "execution_count": 2,
   "metadata": {},
   "outputs": [],
   "source": [
    "wellcome = pd.read_csv(\"WELLCOME/WELLCOME_APCspend2013_forThinkful.csv\", encoding='latin-1')"
   ]
  },
  {
   "cell_type": "code",
   "execution_count": 3,
   "metadata": {},
   "outputs": [],
   "source": [
    "# Renaming the columns so easier to refer to\n",
    "wellcome.columns = ['id', 'publisher', 'journal', 'article', 'cost']"
   ]
  },
  {
   "cell_type": "code",
   "execution_count": 4,
   "metadata": {},
   "outputs": [],
   "source": [
    "# It will be necessary to clean publishers too so that journals can be better identified\n",
    "# Removing front and end spaces in publishers\n",
    "wellcome.publisher = wellcome.publisher.str.strip()"
   ]
  },
  {
   "cell_type": "code",
   "execution_count": 5,
   "metadata": {},
   "outputs": [],
   "source": [
    "# Removing front and end spaces in journals\n",
    "wellcome.journal = wellcome.journal.str.strip()"
   ]
  },
  {
   "cell_type": "code",
   "execution_count": 6,
   "metadata": {},
   "outputs": [],
   "source": [
    "# Where the publisher / journal is something_a / something_b it is recorded as something_a as long as something_a also exists on its own."
   ]
  },
  {
   "cell_type": "markdown",
   "metadata": {},
   "source": [
    "## Publishers"
   ]
  },
  {
   "cell_type": "code",
   "execution_count": 7,
   "metadata": {},
   "outputs": [],
   "source": [
    "# Sort out ACS\n",
    "wellcome.publisher= wellcome.publisher.str.replace('ACS Publications', 'ACS')\n",
    "wellcome.publisher = wellcome.publisher.str.replace(\"ACS \\\\(Amercian Chemical Society\\\\) Publications\", 'ACS')\n",
    "wellcome.publisher = wellcome.publisher.str.replace('American Chemical Society', 'ACS')\n",
    "wellcome.publisher = wellcome.publisher.str.replace('AMERICAN CHEMICAL SOCIETY', 'ACS')\n",
    "wellcome.publisher = wellcome.publisher.str.replace('ACS Publications', 'ACS')\n",
    "wellcome.publisher = wellcome.publisher.str.replace('The ACS Petroleum Research Trust', 'ACS')"
   ]
  },
  {
   "cell_type": "code",
   "execution_count": 8,
   "metadata": {},
   "outputs": [],
   "source": [
    "# Sort out American Society for Biochemistry and Molecular Biology\n",
    "wellcome.publisher = wellcome.publisher.str.replace('American Society for Biochemistry and Molecular Biolgy', 'American Society for Biochemistry and Molecular Biology')\n",
    "wellcome.publisher = wellcome.publisher.str.replace('American Soc for Biochemistry and Molecular Biology', 'American Society for Biochemistry and Molecular Biology')\n",
    "wellcome.publisher = wellcome.publisher.str.replace('ASBMB/Cenveo Publisher Services', 'American Society for Biochemistry and Molecular Biology')\n",
    "wellcome.publisher = wellcome.publisher.str.replace('ASBMB/Cadmus', 'American Society for Biochemistry and Molecular Biology')\n",
    "wellcome.publisher = wellcome.publisher.str.replace('ASBMB Cadmus', 'American Society for Biochemistry and Molecular Biology')\n",
    "wellcome.publisher = wellcome.publisher.str.replace('ASBMB', 'American Society for Biochemistry and Molecular Biology')\n",
    "wellcome.publisher = wellcome.publisher.str.replace('The American Society for Biochemistry and Molecular Biology, Inc', 'American Society for Biochemistry and Molecular Biology')\n",
    "wellcome.publisher = wellcome.publisher.str.replace('The American Society for Biochemistry and Molecular Biology', 'American Society for Biochemistry and Molecular Biology')"
   ]
  },
  {
   "cell_type": "code",
   "execution_count": 9,
   "metadata": {},
   "outputs": [],
   "source": [
    "# Sort out American Society of Haematology\n",
    "wellcome.publisher = wellcome.publisher.str.replace('American Society of Hematology', 'American Society of Haematology')\n",
    "wellcome.publisher = wellcome.publisher.str.replace('American Society of Hamatology', 'American Society of Haematology')"
   ]
  },
  {
   "cell_type": "code",
   "execution_count": 10,
   "metadata": {},
   "outputs": [],
   "source": [
    "# Sort out ASM\n",
    "wellcome.publisher = wellcome.publisher.str.replace('ASM \\\\(American Society for Microbiology\\\\)', 'ASM')\n",
    "wellcome.publisher = wellcome.publisher.str.replace('American Society for Microbiology', 'ASM')\n",
    "wellcome.publisher = wellcome.publisher.str.replace('American Society of Microbiology', 'ASM')"
   ]
  },
  {
   "cell_type": "code",
   "execution_count": 11,
   "metadata": {},
   "outputs": [],
   "source": [
    "# Sort BioMed Central\n",
    "wellcome.publisher = wellcome.publisher.str.replace('BioMed central', 'BioMed Central')\n",
    "wellcome.publisher = wellcome.publisher.str.replace('Biomed Central', 'BioMed Central')\n",
    "wellcome.publisher = wellcome.publisher.str.replace('BioMed Central Limited', 'BioMed Central')\n",
    "wellcome.publisher = wellcome.publisher.str.replace('BioMed Central Ltd', 'BioMed Central')"
   ]
  },
  {
   "cell_type": "code",
   "execution_count": 12,
   "metadata": {},
   "outputs": [],
   "source": [
    "# BioScientifica\n",
    "wellcome.publisher = wellcome.publisher.str.replace('Bioscientifica', 'BioScientifica')"
   ]
  },
  {
   "cell_type": "code",
   "execution_count": 13,
   "metadata": {},
   "outputs": [],
   "source": [
    "# BMJ\n",
    "wellcome.loc[wellcome['publisher'].str.contains('BMJ'), 'publisher'] = 'BMJ'\n",
    "wellcome.publisher = wellcome.publisher.str.replace('British Medical Journal', 'BMJ')"
   ]
  },
  {
   "cell_type": "code",
   "execution_count": 14,
   "metadata": {},
   "outputs": [],
   "source": [
    "# Biophysical Society\n",
    "wellcome.publisher = wellcome.publisher.str.replace('Byophysical Society', 'Biophysical Society')"
   ]
  },
  {
   "cell_type": "code",
   "execution_count": 15,
   "metadata": {},
   "outputs": [],
   "source": [
    "# Cadmus\n",
    "wellcome.loc[wellcome['publisher'].str.contains('Cadmus', case=False), 'publisher'] = 'Cadmus'\n",
    "wellcome.publisher = wellcome.publisher.str.replace('Camdus Journal Services', 'Cadmus')"
   ]
  },
  {
   "cell_type": "code",
   "execution_count": 16,
   "metadata": {},
   "outputs": [],
   "source": [
    "# Wiley-Blackwell\n",
    "wellcome.loc[wellcome.publisher.str.contains('Blackwell', case=False), 'publisher'] = 'Wiley-Blackwell'\n",
    "wellcome.loc[wellcome.publisher.str.contains('Wiley', case=False), 'publisher'] = 'Wiley-Blackwell'"
   ]
  },
  {
   "cell_type": "code",
   "execution_count": 17,
   "metadata": {},
   "outputs": [],
   "source": [
    "# Bentham\n",
    "wellcome.publisher = wellcome.publisher.str.replace('Benthan', 'Bentham')"
   ]
  },
  {
   "cell_type": "code",
   "execution_count": 18,
   "metadata": {},
   "outputs": [],
   "source": [
    "# CUP\n",
    "wellcome.loc[wellcome.publisher.str.contains('Cambridge', case=False), 'publisher']= 'CUP'"
   ]
  },
  {
   "cell_type": "code",
   "execution_count": 19,
   "metadata": {},
   "outputs": [],
   "source": [
    "# Cenveo\n",
    "wellcome.loc[wellcome.publisher.str.contains('cenveo', case=False), 'publisher'] = 'Cenveo'"
   ]
  },
  {
   "cell_type": "code",
   "execution_count": 20,
   "metadata": {},
   "outputs": [],
   "source": [
    "# Cold Spring\n",
    "wellcome.loc[wellcome.publisher.str.contains('Cold'), 'publisher']= 'Cold Spring Harbor Press'"
   ]
  },
  {
   "cell_type": "code",
   "execution_count": 21,
   "metadata": {},
   "outputs": [],
   "source": [
    "# Company of Biologists\n",
    "wellcome.loc[wellcome.publisher.str.contains('Company of Biol', case=False), 'publisher'] = 'Company of Biologists'"
   ]
  },
  {
   "cell_type": "code",
   "execution_count": 22,
   "metadata": {},
   "outputs": [],
   "source": [
    "# Dartmouth\n",
    "wellcome.loc[wellcome.publisher.str.contains('mouth'), 'publisher'] = 'Dartmouth Journals'"
   ]
  },
  {
   "cell_type": "code",
   "execution_count": 23,
   "metadata": {},
   "outputs": [],
   "source": [
    "# Elsevier\n",
    "wellcome.loc[wellcome.publisher.str.contains('Elsev', case=False), 'publisher'] = 'Elsevier'"
   ]
  },
  {
   "cell_type": "code",
   "execution_count": 24,
   "metadata": {},
   "outputs": [],
   "source": [
    "# Experimental Biology\n",
    "wellcome.loc[wellcome.publisher.str.contains('Federation'), 'publisher'] = 'Federation of American Societies for Experimental Biology'\n",
    "wellcome.loc[wellcome.publisher.str.contains('FASEB'), 'publisher'] = 'Federation of American Societies for Experimental Biology'"
   ]
  },
  {
   "cell_type": "code",
   "execution_count": 25,
   "metadata": {},
   "outputs": [],
   "source": [
    "# Endocrine Society\n",
    "wellcome.loc[wellcome.publisher.str.contains('endocr', case=False), 'publisher'] = 'Endocrine Society'\n",
    "wellcome.loc[wellcome.publisher.str.contains('endrocr', case=False), 'publisher'] = 'Endocrine Society'"
   ]
  },
  {
   "cell_type": "code",
   "execution_count": 26,
   "metadata": {},
   "outputs": [],
   "source": [
    "# Frontiers\n",
    "wellcome.loc[wellcome.publisher.str.contains('Frontiers', case=False), 'publisher']= 'Frontiers'"
   ]
  },
  {
   "cell_type": "code",
   "execution_count": 27,
   "metadata": {},
   "outputs": [],
   "source": [
    "# Future Medicine\n",
    "wellcome.loc[wellcome.publisher.str.contains('Future Medicine', case=False), 'publisher'] = 'Future Medicine'"
   ]
  },
  {
   "cell_type": "code",
   "execution_count": 28,
   "metadata": {},
   "outputs": [],
   "source": [
    "# Hindawi\n",
    "wellcome.loc[wellcome.publisher.str.contains('Hindawi', case=False)] = 'Hindawi'"
   ]
  },
  {
   "cell_type": "code",
   "execution_count": 29,
   "metadata": {},
   "outputs": [],
   "source": [
    "# Impact Journals\n",
    "wellcome.loc[wellcome.publisher.str.contains('Impact'), 'publisher'] = 'Impact Journals'"
   ]
  },
  {
   "cell_type": "code",
   "execution_count": 30,
   "metadata": {},
   "outputs": [],
   "source": [
    "# Informa Healthcare\n",
    "wellcome.loc[wellcome.publisher.str.contains('Informa'), 'publisher'] = 'Informa Healthcare'"
   ]
  },
  {
   "cell_type": "code",
   "execution_count": 31,
   "metadata": {},
   "outputs": [],
   "source": [
    "# Tuberculosis and Lung Disease\n",
    "wellcome.loc[wellcome.publisher.str.contains('lung', case=False), 'publisher'] = 'International Union Against Tuberculosis and Lung Disease'"
   ]
  },
  {
   "cell_type": "code",
   "execution_count": 32,
   "metadata": {},
   "outputs": [],
   "source": [
    "# Crystallography\n",
    "wellcome.loc[wellcome.publisher.str.contains('crystallo', case=False), 'publisher'] = 'International Union of Crystallography'"
   ]
  },
  {
   "cell_type": "code",
   "execution_count": 33,
   "metadata": {},
   "outputs": [],
   "source": [
    "# JoVE\n",
    "wellcome.loc[wellcome.publisher.str.contains('JoVE', case=False), 'publisher'] = 'Journal of Visualized Experiments'\n",
    "wellcome.loc[wellcome.publisher.str.contains('visualized experiments', case=False), 'publisher'] = 'Journal of Visualized Experiments'"
   ]
  },
  {
   "cell_type": "code",
   "execution_count": 34,
   "metadata": {},
   "outputs": [],
   "source": [
    "# IOP\n",
    "wellcome.loc[wellcome.publisher.str.contains(\"IOP\"), 'publisher'] = 'Institute of Physics'"
   ]
  },
  {
   "cell_type": "code",
   "execution_count": 35,
   "metadata": {},
   "outputs": [],
   "source": [
    "# Karger\n",
    "wellcome.loc[wellcome.publisher.str.contains(\"Karger\", case=False), 'publisher'] = 'Karger'"
   ]
  },
  {
   "cell_type": "code",
   "execution_count": 36,
   "metadata": {},
   "outputs": [],
   "source": [
    "# Landes\n",
    "wellcome.loc[wellcome.publisher.str.contains('Landes', case=False), 'publisher'] = 'Landes Biosciences'"
   ]
  },
  {
   "cell_type": "code",
   "execution_count": 37,
   "metadata": {},
   "outputs": [],
   "source": [
    "# Mary Ann Liebert\n",
    "wellcome.loc[wellcome.publisher.str.contains('mary', case=False), 'publisher'] = 'Mary Ann Liebert'"
   ]
  },
  {
   "cell_type": "code",
   "execution_count": 38,
   "metadata": {},
   "outputs": [],
   "source": [
    "# MIT\n",
    "wellcome.loc[wellcome.publisher.str.contains('MIT', case=False), 'publisher'] = 'MIT'"
   ]
  },
  {
   "cell_type": "code",
   "execution_count": 39,
   "metadata": {},
   "outputs": [],
   "source": [
    "# National Academy of Sciences\n",
    "wellcome.loc[wellcome.publisher.str.contains('National Academy', case=False), 'publisher'] = 'National Academy of Sciences'\n",
    "wellcome.loc[wellcome.publisher.str.contains('pnas', case=False), 'publisher']= 'National Academy of Sciences'"
   ]
  },
  {
   "cell_type": "code",
   "execution_count": 40,
   "metadata": {},
   "outputs": [],
   "source": [
    "# Nature\n",
    "wellcome.loc[wellcome.publisher.str.contains('nature', case=False), 'publisher'] = 'Nature'\n"
   ]
  },
  {
   "cell_type": "code",
   "execution_count": 41,
   "metadata": {},
   "outputs": [],
   "source": [
    "# OUP\n",
    "wellcome.loc[wellcome.publisher.str.contains('Oxford', case=False), 'publisher'] = 'OUP'"
   ]
  },
  {
   "cell_type": "code",
   "execution_count": 42,
   "metadata": {},
   "outputs": [],
   "source": [
    "# Public Library of Science\n",
    "wellcome.loc[wellcome.publisher.str.contains('plos', case=False), 'publisher'] = 'Public Library of Science'\n",
    "wellcome.loc[wellcome.publisher.str.contains('public library of science', case=False), 'publisher'] = 'Public Library of Science'"
   ]
  },
  {
   "cell_type": "code",
   "execution_count": 43,
   "metadata": {},
   "outputs": [],
   "source": [
    "# Portland\n",
    "wellcome.loc[wellcome.publisher.str.contains('portland', case=False), 'publisher'] = 'Portland Press'"
   ]
  },
  {
   "cell_type": "code",
   "execution_count": 44,
   "metadata": {},
   "outputs": [],
   "source": [
    "# PubMed\n",
    "wellcome.loc[wellcome.publisher.str.contains('pubmed', case=False), 'publisher'] = 'PubMed'"
   ]
  },
  {
   "cell_type": "code",
   "execution_count": 45,
   "metadata": {},
   "outputs": [],
   "source": [
    "# RSC\n",
    "wellcome.loc[wellcome.publisher.str.contains('royal society of chemistry', case=False), 'publisher'] = 'RSC'\n",
    "wellcome.loc[wellcome.publisher.str.contains('royal society for chemistry', case=False), 'publisher'] = 'RSC'\n",
    "wellcome.loc[wellcome.publisher.str.contains('rsc', case=False), 'publisher'] = 'RSC'"
   ]
  },
  {
   "cell_type": "code",
   "execution_count": 46,
   "metadata": {},
   "outputs": [],
   "source": [
    "# Sage\n",
    "wellcome.loc[wellcome.publisher.str.contains('sage', case=False), 'publisher'] = 'Sage'"
   ]
  },
  {
   "cell_type": "code",
   "execution_count": 47,
   "metadata": {},
   "outputs": [],
   "source": [
    "# Microbiology Society (okay because American Society of Microbiology already set to ASM)\n",
    "wellcome.loc[wellcome.publisher.str.contains('Microbiology'), 'publisher'] = 'Microbiology Society'"
   ]
  },
  {
   "cell_type": "code",
   "execution_count": 48,
   "metadata": {},
   "outputs": [],
   "source": [
    "# Society for Neuroscience\n",
    "wellcome.loc[wellcome.publisher.str.contains('neuro', case=False), 'publisher'] = 'Society for Neuroscience'"
   ]
  },
  {
   "cell_type": "code",
   "execution_count": 49,
   "metadata": {},
   "outputs": [],
   "source": [
    "# Springer\n",
    "wellcome.loc[wellcome.publisher.str.contains('springer', case=False), 'publisher'] = 'Springer'"
   ]
  },
  {
   "cell_type": "code",
   "execution_count": 50,
   "metadata": {},
   "outputs": [],
   "source": [
    "# T&F\n",
    "wellcome.loc[wellcome.publisher.str.contains('Taylor', case=False), 'publisher'] = 'Taylor and Francis'\n",
    "wellcome.loc[wellcome.publisher.str.contains('T&F', case=False), 'publisher'] = 'Taylor and Francis'"
   ]
  },
  {
   "cell_type": "code",
   "execution_count": 51,
   "metadata": {},
   "outputs": [],
   "source": [
    "# Sheridan\n",
    "wellcome.loc[wellcome.publisher.str.contains('sheridan', case=False), 'publisher'] = 'Sheridan Press'"
   ]
  },
  {
   "cell_type": "code",
   "execution_count": 52,
   "metadata": {},
   "outputs": [],
   "source": [
    "# Wolters\n",
    "wellcome.loc[wellcome.publisher.str.contains('wolters', case=False), 'publisher'] = 'Wolters Kluwers'"
   ]
  },
  {
   "cell_type": "code",
   "execution_count": 53,
   "metadata": {},
   "outputs": [],
   "source": [
    "# Royal Society\n",
    "wellcome.loc[wellcome.publisher.str.contains('royal society', case=False), 'publisher'] = 'Royal Society'"
   ]
  },
  {
   "cell_type": "code",
   "execution_count": 54,
   "metadata": {},
   "outputs": [],
   "source": [
    "# Physiological society\n",
    "wellcome.loc[wellcome.publisher.str.contains('physio', case=False), 'publisher'] = 'American Physiological Society'"
   ]
  },
  {
   "cell_type": "markdown",
   "metadata": {
    "scrolled": true
   },
   "source": [
    "## Journals"
   ]
  },
  {
   "cell_type": "code",
   "execution_count": 62,
   "metadata": {},
   "outputs": [
    {
     "data": {
      "text/plain": [
       "id                            PMID: 23846567  (Epub July 2013)\n",
       "publisher                                      Wolters Kluwers\n",
       "journal        Journal of Acquired Immune Deficiency Syndromes\n",
       "article      A novel community health worker tool outperfor...\n",
       "cost                                                  £2034.75\n",
       "Name: 2126, dtype: object"
      ]
     },
     "execution_count": 62,
     "metadata": {},
     "output_type": "execute_result"
    }
   ],
   "source": [
    "wellcome.loc[2126,]"
   ]
  },
  {
   "cell_type": "code",
   "execution_count": 63,
   "metadata": {},
   "outputs": [],
   "source": [
    "# Remove nulls\n",
    "wellcome.loc[wellcome.journal.isnull(), 'journal'] = 'Unknown'\n",
    "\n",
    "# General\n",
    "wellcome.journal = wellcome.journal.str.replace('Americal', 'American')\n",
    "wellcome.journal = wellcome.journal.str.replace('&', 'and')\n",
    "wellcome.journal = wellcome.journal.str.replace('Britsh', 'British')\n",
    "wellcome.journal = wellcome.journal.str.replace('Jnl', 'Journal')\n",
    "wellcome.journal = wellcome.journal.str.replace('Inyernational', 'International')\n",
    "wellcome.journal = wellcome.journal.str.replace('diseases', \"Diseases\")\n",
    "wellcome.journal = wellcome.journal.str.replace('Jounal', 'Journal')\n",
    "wellcome.journal = wellcome.journal.str.replace('journal', 'Journal')\n",
    "wellcome.journal = wellcome.journal.str.replace('Clinicla', 'Clinical')\n",
    "wellcome.journal = wellcome.journal.str.replace('Online', '')\n",
    "wellcome.journal = wellcome.journal.str.replace(r\"^The \", '')\n",
    "wellcome.journal = wellcome.journal.str.replace('Epidemol', 'Epidemiol')\n",
    "\n",
    "# Sort out ACS journals\n",
    "wellcome.loc[wellcome.journal.str.contains('J Med Chem', case=False), 'journal'] = 'Journal of Medicinal Chemistry'\n",
    "wellcome.loc[wellcome.journal.str.contains('nano', case=False), 'journal'] = 'ACS Nano'\n",
    "wellcome.loc[wellcome.journal.str.contains('American Chemical Society', case=False), 'journal'] = 'Journal of the American Chemical Society'\n",
    "\n",
    "# AGA Institute - Gastroenterology is now published by Elsevier (according to google)\n",
    "wellcome.loc[wellcome.journal == 'Gastroenterology', 'publisher'] = 'Elsevier'\n",
    "\n",
    "# AIDS\n",
    "wellcome.loc[wellcome.journal.str.contains('Journal of Acquired Immune'), 'journal'] = 'JAIDS'\n",
    "wellcome.journal = wellcome.journal.str.replace('Journal of Aids', 'JAIDS')\n",
    "wellcome.journal = wellcome.journal.str.replace('AIDS Journal', 'AIDS')\n",
    "wellcome.journal = wellcome.journal.str.replace('AIDS UK', 'AIDS')\n",
    "wellcome.loc[wellcome.journal.str.contains('Aids care', case=False), 'journal'] = 'AIDS Care'\n",
    "\n",
    "# ACTA\n",
    "wellcome.journal = wellcome.journal.str.replace('Biochimica et Bioohysica Acta - Gene Regulatory Mechanisms', 'Biochimica et Biophysica Acta - Gene Regulatory Mechanisms')\n",
    "wellcome.journal = wellcome.journal.str.replace('Biochimica et Bioohysica Acta - Molecular Basis of Disease', 'Biochimica et Biophysica Acta - Molecular Basis of Disease')\n",
    "wellcome.journal = wellcome.journal.str.replace('Biochimica et Biophysica Acta \\\\(BBA\\\\) - Molecular Cell Research', 'Biochimica et Biophysica Acta - Molecular Cell Research')\n",
    "wellcome.journal = wellcome.journal.str.replace('Acta D', 'Crystallographica Section D')\n",
    "wellcome.journal = wellcome.journal.str.replace('Crystallography D', 'Crystallographica Section D')\n",
    "wellcome.journal = wellcome.journal.str.replace('Crystallographica, Section D', 'Crystallographica Section D')\n",
    "wellcome.loc[wellcome.journal.str.contains('Crystallographica Section D'), 'journal'] = 'Acta Crystallographica Section D'\n",
    "wellcome.journal = wellcome.journal.str.replace('ACTA F', 'Crystallographica Section F')\n",
    "wellcome.loc[wellcome.journal.str.contains('Crystallographica Section F'), 'journal'] = 'Acta Crystallographica Section F'\n",
    "wellcome.loc[wellcome.journal.str.contains('Acta Neuropath'), 'journal'] = 'Acta Neuropathologica'\n",
    "wellcome.journal = wellcome.journal.str.replace('BBA', 'Biochimica et Biophysica Acta')\n",
    "\n",
    "\n",
    "# Age\n",
    "wellcome.loc[(wellcome.publisher == 'Springer') & (wellcome.journal.str.contains('age', case=False)), 'journal']= 'Age'\n",
    "\n",
    "# Bioethics\n",
    "wellcome.loc[(wellcome.publisher == 'Taylor and Francis') & (wellcome.journal.str.contains('Bioeth', case=False)), 'journal'] = 'American Journal of Bioethics'\n",
    "wellcome.loc[wellcome.journal.str.contains('Dev World Bioeth', case=False), 'journal'] = ' Developing World Bioethics'\n",
    "wellcome.loc[wellcome.journal.str.contains('Dev. World Bioeth', case=False), 'journal'] = ' Developing World Bioethics'\n",
    "\n",
    "# Tropical diseases\n",
    "wellcome.journal = wellcome.journal.str.replace('Am J Trop Med Hyg', 'American Journal of Tropical Medicine and Hygiene')\n",
    "wellcome.journal = wellcome.journal.str.replace('American Journal of Tropical Medicine & Hygiene', 'American Journal of Tropical Medicine and Hygiene')\n",
    "wellcome.journal = wellcome.journal.str.replace('Trop Med Int Health', 'Tropical Medicine and International Health')\n",
    "wellcome.journal = wellcome.journal.str.replace('Negected', 'Neglected')\n",
    "wellcome.loc[wellcome.journal.str.contains('Neglected Tropical Disease'), 'journal'] = 'Neglected Tropical Diseases'\n",
    "\n",
    "# Psychiatry\n",
    "wellcome.journal = wellcome.journal.str.replace('viour the', 'vior The')\n",
    "wellcome.loc[wellcome.journal.str.contains('British Journal of Psychiatry'), 'journal'] = 'British Journal of Psychiatry'\n",
    "wellcome.loc[wellcome.journal.str.contains('Social Psychiatry and Psychiatric Epidemiol', case=False), 'journal']= 'Social Psychiatry and Psychiatric Epidemiology'\n",
    "wellcome.journal = wellcome.journal.str.replace('BJP', 'British Journal of Psychiatry')\n",
    "wellcome.journal = wellcome.journal.str.replace('Psychiatty', 'Psychiatry')\n",
    "\n",
    "# Nutrition\n",
    "wellcome.journal= wellcome.journal.str.replace('for Clinical', 'of Clinical')\n",
    "\n",
    "# Genetics\n",
    "wellcome.journal = wellcome.journal.str.replace('GENETICS', 'Genetics')\n",
    "wellcome.loc[wellcome.journal.str.contains('american journal of human genetics', case=False), 'journal'] = 'American Journal of Human Genetics'\n",
    "wellcome.journal = wellcome.journal.str.replace('Human Mol Genetics', 'Human Molecular Genetics')\n",
    "wellcome.loc[wellcome.journal.str.contains('Human Molecular Genetics', case=False), 'journal'] = 'Human Molecular Genetics'\n",
    "wellcome.loc[wellcome.journal.str.contains('plos genetics', case=False), 'journal'] = 'PLoS Genetics'\n",
    "wellcome.loc[wellcome.journal.str.contains('American Journal of Medical Genetics'), 'journal'] = 'American Journal of Medical Genetics Part A'\n",
    "wellcome.journal = wellcome.journal.str.replace('Epigentics', 'Epigenetics')\n",
    "\n",
    "# Epidemiology\n",
    "wellcome.journal = wellcome.journal.str.replace('American Journal Epidemiology', 'American Journal of Epidemiology')\n",
    "wellcome.journal= wellcome.journal.str.replace('Int J Epidemiol', 'International Journal of Epidemiology')\n",
    "\n",
    "# Chemistry\n",
    "wellcome.loc[wellcome.journal.str.contains('J Biol Chem', case=False), 'journal'] = 'Journal of Biological Chemistry'\n",
    "wellcome.loc[wellcome.journal.str.contains('Journal of Biol Chem', case=False), 'journal'] = 'Journal of Biological Chemistry'\n",
    "wellcome.loc[wellcome.journal.str.contains('Journal Biol Chem', case=False), 'journal'] = 'Journal of Biological Chemistry'\n",
    "wellcome.loc[wellcome.journal.str.contains('Journal of Biological Chem', case=False), 'journal'] = 'Journal of Biological Chemistry'\n",
    "wellcome.journal = wellcome.journal.str.replace('Chemsitry', 'Chemistry')\n",
    "wellcome.loc[wellcome.journal.str.contains('BIOLOGICAL CHEMISTRY', case=False), 'journal'] = 'Journal of Biological Chemistry'\n",
    "wellcome.loc[wellcome.journal.str.contains('Journal Biological Chem', case=False), 'journal'] = 'Journal of Biological Chemistry'\n",
    "wellcome.loc[wellcome.journal.str.contains('Angew'), 'journal'] = 'Angewandte Chemie'\n",
    "wellcome.loc[wellcome.journal.str.contains('chembiochem', case=False), 'journal'] = 'ChemBioChem'\n",
    "wellcome.loc[wellcome.journal.str.contains('chemmedchem', case=False), 'journal'] = 'ChemMedChem'\n",
    "wellcome.journal = wellcome.journal.str.replace('JOURNAL OF NEUROCHEMISTRY', 'Journal of Neurochemistry')\n",
    "wellcome.journal = wellcome.journal.str.replace('Antimicobial', 'Antimicrobial')\n",
    "wellcome.journal = wellcome.journal.str.replace('Agfents', 'Agents')\n",
    "wellcome.journal = wellcome.journal.str.replace('BIOCHEM SOC TRANS', 'Biochemical Society Transactions')\n",
    "wellcome.journal = wellcome.journal.str.replace('Biochem Journal', 'Biochemical Journal')\n",
    "wellcome.journal = wellcome.journal.str.replace('Biochemical Journals', 'Biochemical Journal')\n",
    "wellcome.journal = wellcome.journal.str.replace('J Steroid Biochem Mol Biol', 'The Journal of Steroid Biochemistry and Molecular Biology')\n",
    "\n",
    "# BMJ and BMC\n",
    "wellcome.loc[wellcome.journal.str.contains('BMJ open', case=False),'journal'] = 'BMJ Open'\n",
    "wellcome.journal = wellcome.journal.str.replace('BMS', 'BMC')\n",
    "wellcome.journal = wellcome.journal.str.replace('BMC  ', 'BMC ')\n",
    "wellcome.journal = wellcome.journal.str.replace('Genomics.', 'Genomics')\n",
    "wellcome.journal = wellcome.journal.str.replace('British Medical Journal', 'BMJ')\n",
    "\n",
    "\n",
    "\n",
    "# Behaviour\n",
    "wellcome.journal = wellcome.journal.str.replace('Behavioural Nutrition', 'Behavioral Nutrition')\n",
    "wellcome.journal = wellcome.journal.str.replace('Behaviour Research and Therapy', 'Behavior Research and Therapy')\n",
    "\n",
    "#Ophthalmology\n",
    "wellcome.journal = wellcome.journal.str.replace('BJOPHTHALMOL', 'British Journal of Ophthalmology')\n",
    "wellcome.journal = wellcome.journal.str.replace('British Journalof Opthalmology', 'British Journal of Ophthalmology')\n",
    "\n",
    "# Biology\n",
    "wellcome.journal = wellcome.journal.str.replace('BIOL OPEN', 'Biology Open')\n",
    "wellcome.journal = wellcome.journal.str.replace('Biologicial', 'Biological')\n",
    "wellcome.loc[wellcome.journal.str.contains('Curr Biol', case=False), 'journal'] = 'Current Biology'\n",
    "wellcome.journal = wellcome.journal.str.replace('ions in Neu', 'ion in Neu')\n",
    "\n",
    "# Blood\n",
    "wellcome.journal = wellcome.journal.str.replace('Blood Journal 2012', 'Blood')\n",
    "\n",
    "# One-offs\n",
    "wellcome.journal = wellcome.journal.str.replace('British Journal of the History', 'British Journal for the History')\n",
    "wellcome.journal = wellcome.journal.str.replace('Brt Journal C', 'British Journal of C')\n",
    "wellcome.journal = wellcome.journal.str.replace('Death Dif', 'Death and Dif')\n",
    "wellcome.journal = wellcome.journal.str.replace('Cell Press - Cell Reports', 'Cell Reports')\n",
    "wellcome.loc[wellcome.journal.str.contains('Cerebral Cortex'), 'journal'] = 'Cerebral Cortex'\n",
    "\n",
    "# EMBO\n",
    "wellcome.loc[wellcome.journal.str.contains(r\"^EMBO$\"), 'journal'] = 'EMBO Journal'\n",
    "wellcome.journal = wellcome.journal.str.replace('EMBO reports', 'EMBO Reports')\n",
    "\n",
    "# European\n",
    "wellcome.journal = wellcome.journal.str.replace('Eur J Immunol', 'European Journal of Immunology')\n",
    "\n",
    "# FEBS\n",
    "wellcome.journal = wellcome.journal.str.replace('FEBS J.', 'FEBS Journal')\n",
    "wellcome.journal = wellcome.journal.str.replace('Febs Letters', 'FEBS Letters')\n",
    "\n",
    "# Gene\n",
    "wellcome.journal = wellcome.journal.str.replace('GENE', 'Gene')\n",
    "\n",
    "# HBM\n",
    "wellcome.journal = wellcome.journal.str.replace('FEBS J.', 'FEBS Journal')\n",
    "wellcome.journal = wellcome.journal.str.replace('Febs Letters', 'FEBS Letters')\n",
    "\n",
    "# Gene\n",
    "wellcome.loc[wellcome.journal.str.contains('HBM'), 'journal'] = 'Human Brain Mapping'\n",
    "\n",
    "\n"
   ]
  },
  {
   "cell_type": "code",
   "execution_count": null,
   "metadata": {},
   "outputs": [],
   "source": []
  }
 ],
 "metadata": {
  "kernelspec": {
   "display_name": "Python 3",
   "language": "python",
   "name": "python3"
  },
  "language_info": {
   "codemirror_mode": {
    "name": "ipython",
    "version": 3
   },
   "file_extension": ".py",
   "mimetype": "text/x-python",
   "name": "python",
   "nbconvert_exporter": "python",
   "pygments_lexer": "ipython3",
   "version": "3.7.2"
  }
 },
 "nbformat": 4,
 "nbformat_minor": 2
}
